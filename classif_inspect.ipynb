{
 "cells": [
  {
   "cell_type": "markdown",
   "metadata": {},
   "source": [
    "### Inspect classes  \n",
    "Copy symlinks to separate folder for manual inspection"
   ]
  },
  {
   "cell_type": "code",
   "execution_count": 1,
   "metadata": {},
   "outputs": [],
   "source": [
    "import json\n",
    "import seaborn as sn\n",
    "import os \n",
    "import pandas as pd\n",
    "import re\n",
    "import numpy as np\n",
    "import matplotlib.pyplot as plt\n",
    "import shutil"
   ]
  },
  {
   "cell_type": "code",
   "execution_count": 2,
   "metadata": {},
   "outputs": [],
   "source": [
    "# import JSON file\n",
    "with open('/home/aogorodnikov/classif_predict_rgb/Pt11/Pt11.json') as json_file:  \n",
    "    data = json.load(json_file)"
   ]
  },
  {
   "cell_type": "code",
   "execution_count": 45,
   "metadata": {},
   "outputs": [],
   "source": [
    "lol = [data[\"img_name\"][x] for x in range(len(data[\"img_name\"])) if data[\"class_name\"][x] == 'macro']"
   ]
  },
  {
   "cell_type": "code",
   "execution_count": 46,
   "metadata": {},
   "outputs": [
    {
     "data": {
      "text/plain": [
       "dict_keys(['img_name', 'class_name'])"
      ]
     },
     "execution_count": 46,
     "metadata": {},
     "output_type": "execute_result"
    }
   ],
   "source": [
    "data.keys()"
   ]
  },
  {
   "cell_type": "code",
   "execution_count": 47,
   "metadata": {},
   "outputs": [],
   "source": [
    "class CellStats(object):\n",
    "    def __init__(self, data):\n",
    "        wells = [re.search(r'r\\d+c\\d+', x)[0] for x in data['img_name']]\n",
    "        self.well = np.unique(np.array(wells))\n",
    "        self.n_tot = []\n",
    "        self.n_pheno = []\n",
    "        self.norm_counts = []\n",
    "        \n",
    "    def count_cells(self, data, selected):\n",
    "        wells = [re.search(r'r\\d+c\\d+', x)[0] for x in data['img_name']]\n",
    "        selected_wells = [re.search(r'r\\d+c\\d+', x)[0] for x in lol]\n",
    "        for well in self.well:\n",
    "            n_cells = len([x for x in wells if x == well])\n",
    "            self.n_tot.append(n_cells)\n",
    "            n_pheno = len([x for x in selected_wells if x == well])\n",
    "            self.n_pheno.append(n_pheno)\n",
    "    def normalize(self, coef = 10e3):\n",
    "        self.norm_counts = [self.n_pheno[x] * coef / self.n_tot[x] for x in range(len(self.well))]"
   ]
  },
  {
   "cell_type": "code",
   "execution_count": 48,
   "metadata": {},
   "outputs": [],
   "source": [
    "myObj = CellStats(data)"
   ]
  },
  {
   "cell_type": "code",
   "execution_count": 49,
   "metadata": {},
   "outputs": [],
   "source": [
    "myObj.count_cells(data, lol)"
   ]
  },
  {
   "cell_type": "code",
   "execution_count": 50,
   "metadata": {},
   "outputs": [],
   "source": [
    "myObj.normalize()"
   ]
  },
  {
   "cell_type": "code",
   "execution_count": 51,
   "metadata": {},
   "outputs": [
    {
     "data": {
      "text/plain": [
       "[Text(0, 0, 'r02c12')]"
      ]
     },
     "execution_count": 51,
     "metadata": {},
     "output_type": "execute_result"
    },
    {
     "data": {
      "image/png": "[encoded data removed]",
      "text/plain": [
       "<Figure size 1440x720 with 1 Axes>"
      ]
     },
     "metadata": {
      "needs_background": "light"
     },
     "output_type": "display_data"
    }
   ],
   "source": [
    "fig, ax = plt.subplots(figsize=(20, 10))\n",
    "chart = sn.barplot(x=\"well\", y=\"norm_counts\", data=myObj.__dict__, color=\"b\")\n",
    "chart.set_xticklabels(chart.get_xticklabels(), rotation=90)"
   ]
  },
  {
   "cell_type": "markdown",
   "metadata": {},
   "source": [
    "### Copy sym links of cells defined as phenotypes"
   ]
  },
  {
   "cell_type": "code",
   "execution_count": 42,
   "metadata": {},
   "outputs": [],
   "source": [
    "outdir = \"/sudoku/classif_predict/Pt04/cytokinesis_pre/\"\n",
    "if not os.path.exists(outdir):\n",
    "    os.makedirs(outdir)"
   ]
  },
  {
   "cell_type": "code",
   "execution_count": null,
   "metadata": {},
   "outputs": [],
   "source": [
    "# copy entire set\n",
    "[shutil.copy(x, outdir) for x in lol]"
   ]
  },
  {
   "cell_type": "code",
   "execution_count": 10,
   "metadata": {},
   "outputs": [],
   "source": [
    "# proportion to analyze\n",
    "selection = np.random.choice(lol, size=10000, replace=False)"
   ]
  },
  {
   "cell_type": "code",
   "execution_count": 13,
   "metadata": {},
   "outputs": [],
   "source": [
    "outdir = \"/sudoku/classif_predict/Pt04/cytokinesis_pre_rnd/\"\n",
    "if not os.path.exists(outdir):\n",
    "    os.makedirs(outdir)"
   ]
  },
  {
   "cell_type": "code",
   "execution_count": null,
   "metadata": {},
   "outputs": [],
   "source": [
    "# copy entire set\n",
    "[shutil.copy(x, outdir) for x in selection]"
   ]
  },
  {
   "cell_type": "code",
   "execution_count": null,
   "metadata": {},
   "outputs": [],
   "source": []
  }
 ],
 "metadata": {
  "kernelspec": {
   "display_name": "Python 3",
   "language": "python",
   "name": "python3"
  },
  "language_info": {
   "codemirror_mode": {
    "name": "ipython",
    "version": 3
   },
   "file_extension": ".py",
   "mimetype": "text/x-python",
   "name": "python",
   "nbconvert_exporter": "python",
   "pygments_lexer": "ipython3",
   "version": "3.7.3"
  }
 },
 "nbformat": 4,
 "nbformat_minor": 4
}
