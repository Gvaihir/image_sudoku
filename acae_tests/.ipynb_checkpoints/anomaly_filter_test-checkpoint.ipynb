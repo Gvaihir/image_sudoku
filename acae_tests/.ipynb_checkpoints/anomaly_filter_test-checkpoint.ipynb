{
 "cells": [
  {
   "cell_type": "markdown",
   "metadata": {},
   "source": [
    "# Inspect filtering with ACAE  \n",
    "ACAE with 32D latent on 1500 epoch was used  \n",
    "Test on entire Pt04 and Pt11r02c02 (WT well)  \n",
    "\n",
    "### Plan  \n",
    "1. Distribution of losses per well.  \n",
    "2. Threshold based on AE and ADV losses.  \n",
    "3. COmpare number of anomalies b/w wells. "
   ]
  },
  {
   "cell_type": "code",
   "execution_count": 1,
   "metadata": {},
   "outputs": [],
   "source": [
    "import json\n",
    "import seaborn as sn\n",
    "import os \n",
    "import pandas as pd\n",
    "import re\n",
    "import numpy as np\n",
    "import matplotlib.pyplot as plt\n",
    "import shutil\n",
    "import matplotlib.pyplot as plt\n",
    "import seaborn as sns"
   ]
  },
  {
   "cell_type": "code",
   "execution_count": 2,
   "metadata": {},
   "outputs": [],
   "source": [
    "# set up font for export to make it illustrator friendly\n",
    "import matplotlib\n",
    "matplotlib.rcParams['pdf.fonttype'] = 42\n",
    "matplotlib.rcParams['ps.fonttype'] = 42"
   ]
  },
  {
   "cell_type": "code",
   "execution_count": 3,
   "metadata": {},
   "outputs": [],
   "source": [
    "# import JSON file for Pt04\n",
    "with open('/home/aogorodnikov/aae_filter_Pt04/Pt04.json', 'r') as json_file:  \n",
    "    pt04 = json.load(json_file)\n",
    "    pt04 = pd.DataFrame(pt04)\n",
    "    \n",
    "# import JSON file for Pt11\n",
    "with open('/home/aogorodnikov/aae_filter_Pt11_negOnly/Pt11.json', 'r') as json_file:  \n",
    "    pt11 = json.load(json_file)\n",
    "    pt11 = pd.DataFrame(pt11)"
   ]
  },
  {
   "cell_type": "code",
   "execution_count": 4,
   "metadata": {},
   "outputs": [
    {
     "data": {
      "text/html": [
       "<div>\n",
       "<style scoped>\n",
       "    .dataframe tbody tr th:only-of-type {\n",
       "        vertical-align: middle;\n",
       "    }\n",
       "\n",
       "    .dataframe tbody tr th {\n",
       "        vertical-align: top;\n",
       "    }\n",
       "\n",
       "    .dataframe thead th {\n",
       "        text-align: right;\n",
       "    }\n",
       "</style>\n",
       "<table border=\"1\" class=\"dataframe\">\n",
       "  <thead>\n",
       "    <tr style=\"text-align: right;\">\n",
       "      <th></th>\n",
       "      <th>image</th>\n",
       "      <th>ae_loss</th>\n",
       "      <th>adv_loss</th>\n",
       "      <th>log_ae_loss</th>\n",
       "    </tr>\n",
       "  </thead>\n",
       "  <tbody>\n",
       "    <tr>\n",
       "      <th>0</th>\n",
       "      <td>/sudoku/crop_rgb/Pt04/r01/Pt04_r01c01_f01_0021...</td>\n",
       "      <td>0.003903</td>\n",
       "      <td>0.757876</td>\n",
       "      <td>-5.546061</td>\n",
       "    </tr>\n",
       "    <tr>\n",
       "      <th>1</th>\n",
       "      <td>/sudoku/crop_rgb/Pt04/r01/Pt04_r01c01_f01_0022...</td>\n",
       "      <td>0.004455</td>\n",
       "      <td>0.653490</td>\n",
       "      <td>-5.413796</td>\n",
       "    </tr>\n",
       "    <tr>\n",
       "      <th>2</th>\n",
       "      <td>/sudoku/crop_rgb/Pt04/r01/Pt04_r01c01_f01_0023...</td>\n",
       "      <td>0.006427</td>\n",
       "      <td>0.528474</td>\n",
       "      <td>-5.047310</td>\n",
       "    </tr>\n",
       "    <tr>\n",
       "      <th>3</th>\n",
       "      <td>/sudoku/crop_rgb/Pt04/r01/Pt04_r01c01_f01_0024...</td>\n",
       "      <td>0.004339</td>\n",
       "      <td>0.554104</td>\n",
       "      <td>-5.440019</td>\n",
       "    </tr>\n",
       "    <tr>\n",
       "      <th>4</th>\n",
       "      <td>/sudoku/crop_rgb/Pt04/r01/Pt04_r01c01_f01_0026...</td>\n",
       "      <td>0.004436</td>\n",
       "      <td>0.757994</td>\n",
       "      <td>-5.418115</td>\n",
       "    </tr>\n",
       "  </tbody>\n",
       "</table>\n",
       "</div>"
      ],
      "text/plain": [
       "                                               image   ae_loss  adv_loss  \\\n",
       "0  /sudoku/crop_rgb/Pt04/r01/Pt04_r01c01_f01_0021...  0.003903  0.757876   \n",
       "1  /sudoku/crop_rgb/Pt04/r01/Pt04_r01c01_f01_0022...  0.004455  0.653490   \n",
       "2  /sudoku/crop_rgb/Pt04/r01/Pt04_r01c01_f01_0023...  0.006427  0.528474   \n",
       "3  /sudoku/crop_rgb/Pt04/r01/Pt04_r01c01_f01_0024...  0.004339  0.554104   \n",
       "4  /sudoku/crop_rgb/Pt04/r01/Pt04_r01c01_f01_0026...  0.004436  0.757994   \n",
       "\n",
       "   log_ae_loss  \n",
       "0    -5.546061  \n",
       "1    -5.413796  \n",
       "2    -5.047310  \n",
       "3    -5.440019  \n",
       "4    -5.418115  "
      ]
     },
     "execution_count": 4,
     "metadata": {},
     "output_type": "execute_result"
    }
   ],
   "source": [
    "df = pd.concat([pt04, pt11], ignore_index=True)\n",
    "df['log_ae_loss'] = np.log(df.ae_loss)\n",
    "df.head()"
   ]
  },
  {
   "cell_type": "code",
   "execution_count": 5,
   "metadata": {},
   "outputs": [
    {
     "data": {
      "text/html": [
       "<div>\n",
       "<style scoped>\n",
       "    .dataframe tbody tr th:only-of-type {\n",
       "        vertical-align: middle;\n",
       "    }\n",
       "\n",
       "    .dataframe tbody tr th {\n",
       "        vertical-align: top;\n",
       "    }\n",
       "\n",
       "    .dataframe thead th {\n",
       "        text-align: right;\n",
       "    }\n",
       "</style>\n",
       "<table border=\"1\" class=\"dataframe\">\n",
       "  <thead>\n",
       "    <tr style=\"text-align: right;\">\n",
       "      <th></th>\n",
       "      <th>ae_loss</th>\n",
       "      <th>adv_loss</th>\n",
       "      <th>log_ae_loss</th>\n",
       "    </tr>\n",
       "  </thead>\n",
       "  <tbody>\n",
       "    <tr>\n",
       "      <th>count</th>\n",
       "      <td>5.738263e+06</td>\n",
       "      <td>5.738158e+06</td>\n",
       "      <td>5.738263e+06</td>\n",
       "    </tr>\n",
       "    <tr>\n",
       "      <th>mean</th>\n",
       "      <td>3.510992e-03</td>\n",
       "      <td>6.731847e-01</td>\n",
       "      <td>-5.866521e+00</td>\n",
       "    </tr>\n",
       "    <tr>\n",
       "      <th>std</th>\n",
       "      <td>2.665021e-03</td>\n",
       "      <td>6.530140e-02</td>\n",
       "      <td>6.759647e-01</td>\n",
       "    </tr>\n",
       "    <tr>\n",
       "      <th>min</th>\n",
       "      <td>1.158000e-04</td>\n",
       "      <td>2.900646e-01</td>\n",
       "      <td>-9.063646e+00</td>\n",
       "    </tr>\n",
       "    <tr>\n",
       "      <th>25%</th>\n",
       "      <td>1.901800e-03</td>\n",
       "      <td>6.301149e-01</td>\n",
       "      <td>-6.264954e+00</td>\n",
       "    </tr>\n",
       "    <tr>\n",
       "      <th>50%</th>\n",
       "      <td>3.022800e-03</td>\n",
       "      <td>6.756692e-01</td>\n",
       "      <td>-5.801572e+00</td>\n",
       "    </tr>\n",
       "    <tr>\n",
       "      <th>75%</th>\n",
       "      <td>4.468300e-03</td>\n",
       "      <td>7.191704e-01</td>\n",
       "      <td>-5.410747e+00</td>\n",
       "    </tr>\n",
       "    <tr>\n",
       "      <th>max</th>\n",
       "      <td>1.358810e-01</td>\n",
       "      <td>8.325546e-01</td>\n",
       "      <td>-1.995976e+00</td>\n",
       "    </tr>\n",
       "  </tbody>\n",
       "</table>\n",
       "</div>"
      ],
      "text/plain": [
       "            ae_loss      adv_loss   log_ae_loss\n",
       "count  5.738263e+06  5.738158e+06  5.738263e+06\n",
       "mean   3.510992e-03  6.731847e-01 -5.866521e+00\n",
       "std    2.665021e-03  6.530140e-02  6.759647e-01\n",
       "min    1.158000e-04  2.900646e-01 -9.063646e+00\n",
       "25%    1.901800e-03  6.301149e-01 -6.264954e+00\n",
       "50%    3.022800e-03  6.756692e-01 -5.801572e+00\n",
       "75%    4.468300e-03  7.191704e-01 -5.410747e+00\n",
       "max    1.358810e-01  8.325546e-01 -1.995976e+00"
      ]
     },
     "execution_count": 5,
     "metadata": {},
     "output_type": "execute_result"
    }
   ],
   "source": [
    "df.describe()"
   ]
  },
  {
   "cell_type": "markdown",
   "metadata": {},
   "source": [
    "## Distributions  \n",
    "Compare distributions of losses within classes"
   ]
  },
  {
   "cell_type": "code",
   "execution_count": 6,
   "metadata": {},
   "outputs": [
    {
     "data": {
      "image/png": "[encoded data removed]",
      "text/plain": [
       "<Figure size 432x288 with 1 Axes>"
      ]
     },
     "metadata": {
      "needs_background": "light"
     },
     "output_type": "display_data"
    },
    {
     "name": "stderr",
     "output_type": "stream",
     "text": [
      "/home/aogorodnikov/anaconda3/envs/imgSudoku/lib/python3.7/site-packages/statsmodels/nonparametric/kde.py:447: RuntimeWarning: invalid value encountered in greater\n",
      "  X = X[np.logical_and(X > clip[0], X < clip[1])] # won't work for two columns.\n",
      "/home/aogorodnikov/anaconda3/envs/imgSudoku/lib/python3.7/site-packages/statsmodels/nonparametric/kde.py:447: RuntimeWarning: invalid value encountered in less\n",
      "  X = X[np.logical_and(X > clip[0], X < clip[1])] # won't work for two columns.\n"
     ]
    },
    {
     "data": {
      "image/png": "[encoded data removed]",
      "text/plain": [
       "<Figure size 432x288 with 1 Axes>"
      ]
     },
     "metadata": {
      "needs_background": "light"
     },
     "output_type": "display_data"
    }
   ],
   "source": [
    "sns.distplot(np.log(df.ae_loss), hist=False)\n",
    "plt.xlabel('Log AE loss')\n",
    "plt.ylabel('Frequency')\n",
    "plt.title('AE Loss')\n",
    "plt.show()\n",
    "\n",
    "\n",
    "sns.distplot(df.adv_loss, hist=False)\n",
    "plt.xlabel('Adv loss')\n",
    "plt.ylabel('Frequency')\n",
    "plt.title('Adv Loss')\n",
    "plt.show()"
   ]
  },
  {
   "cell_type": "code",
   "execution_count": 7,
   "metadata": {},
   "outputs": [],
   "source": [
    "df['well'] = [re.search(r'Pt\\d+_r\\d\\dc\\d\\d', x)[0] for x in df.image]"
   ]
  },
  {
   "cell_type": "code",
   "execution_count": 56,
   "metadata": {},
   "outputs": [
    {
     "data": {
      "text/plain": [
       "0.0054373"
      ]
     },
     "execution_count": 56,
     "metadata": {},
     "output_type": "execute_result"
    }
   ],
   "source": [
    "ae_thresh\n"
   ]
  },
  {
   "cell_type": "code",
   "execution_count": 57,
   "metadata": {},
   "outputs": [],
   "source": [
    "ae_thresh = np.nanpercentile(df.ae_loss, 85)\n",
    "adv_thresh = np.nanpercentile(df.adv_loss, 85)"
   ]
  },
  {
   "cell_type": "code",
   "execution_count": 58,
   "metadata": {},
   "outputs": [],
   "source": [
    "uniq_wells = df.well.unique()\n",
    "num_anomalies = []\n",
    "for i in uniq_wells:\n",
    "    rel_df = df.loc[df.well==i,:]\n",
    "    abs_num = rel_df.loc[(rel_df.ae_loss >= ae_thresh) | (rel_df.adv_loss >= adv_thresh)].shape[0]\n",
    "    num_anomalies.append(abs_num*10e3/rel_df.shape[0])"
   ]
  },
  {
   "cell_type": "code",
   "execution_count": 59,
   "metadata": {},
   "outputs": [
    {
     "data": {
      "text/plain": [
       "[Text(0, 0, 'Pt04_r01c01'),\n",
       " Text(0, 0, 'Pt04_r01c02'),\n",
       " Text(0, 0, 'Pt04_r01c03'),\n",
       " Text(0, 0, 'Pt04_r01c04'),\n",
       " Text(0, 0, 'Pt04_r01c05'),\n",
       " Text(0, 0, 'Pt04_r01c06'),\n",
       " Text(0, 0, 'Pt04_r01c07'),\n",
       " Text(0, 0, 'Pt04_r01c08'),\n",
       " Text(0, 0, 'Pt04_r01c09'),\n",
       " Text(0, 0, 'Pt04_r01c10'),\n",
       " Text(0, 0, 'Pt04_r01c11'),\n",
       " Text(0, 0, 'Pt04_r01c12'),\n",
       " Text(0, 0, 'Pt04_r02c01'),\n",
       " Text(0, 0, 'Pt04_r02c02'),\n",
       " Text(0, 0, 'Pt04_r02c03'),\n",
       " Text(0, 0, 'Pt04_r02c04'),\n",
       " Text(0, 0, 'Pt04_r02c05'),\n",
       " Text(0, 0, 'Pt04_r02c06'),\n",
       " Text(0, 0, 'Pt04_r02c07'),\n",
       " Text(0, 0, 'Pt04_r02c08'),\n",
       " Text(0, 0, 'Pt04_r02c09'),\n",
       " Text(0, 0, 'Pt04_r02c10'),\n",
       " Text(0, 0, 'Pt04_r02c11'),\n",
       " Text(0, 0, 'Pt04_r02c12'),\n",
       " Text(0, 0, 'Pt04_r03c01'),\n",
       " Text(0, 0, 'Pt04_r03c02'),\n",
       " Text(0, 0, 'Pt04_r03c03'),\n",
       " Text(0, 0, 'Pt04_r03c04'),\n",
       " Text(0, 0, 'Pt04_r03c05'),\n",
       " Text(0, 0, 'Pt04_r03c06'),\n",
       " Text(0, 0, 'Pt04_r03c07'),\n",
       " Text(0, 0, 'Pt04_r03c08'),\n",
       " Text(0, 0, 'Pt04_r03c09'),\n",
       " Text(0, 0, 'Pt04_r03c10'),\n",
       " Text(0, 0, 'Pt04_r03c11'),\n",
       " Text(0, 0, 'Pt04_r03c12'),\n",
       " Text(0, 0, 'Pt04_r04c01'),\n",
       " Text(0, 0, 'Pt04_r04c02'),\n",
       " Text(0, 0, 'Pt04_r04c03'),\n",
       " Text(0, 0, 'Pt04_r04c04'),\n",
       " Text(0, 0, 'Pt04_r04c05'),\n",
       " Text(0, 0, 'Pt04_r04c06'),\n",
       " Text(0, 0, 'Pt04_r04c07'),\n",
       " Text(0, 0, 'Pt04_r04c08'),\n",
       " Text(0, 0, 'Pt04_r04c09'),\n",
       " Text(0, 0, 'Pt04_r04c10'),\n",
       " Text(0, 0, 'Pt04_r04c11'),\n",
       " Text(0, 0, 'Pt04_r04c12'),\n",
       " Text(0, 0, 'Pt04_r05c01'),\n",
       " Text(0, 0, 'Pt04_r05c02'),\n",
       " Text(0, 0, 'Pt04_r05c03'),\n",
       " Text(0, 0, 'Pt04_r05c04'),\n",
       " Text(0, 0, 'Pt04_r05c05'),\n",
       " Text(0, 0, 'Pt04_r05c06'),\n",
       " Text(0, 0, 'Pt04_r05c07'),\n",
       " Text(0, 0, 'Pt04_r05c08'),\n",
       " Text(0, 0, 'Pt04_r05c09'),\n",
       " Text(0, 0, 'Pt04_r05c10'),\n",
       " Text(0, 0, 'Pt04_r05c11'),\n",
       " Text(0, 0, 'Pt04_r05c12'),\n",
       " Text(0, 0, 'Pt04_r06c01'),\n",
       " Text(0, 0, 'Pt04_r06c02'),\n",
       " Text(0, 0, 'Pt04_r06c03'),\n",
       " Text(0, 0, 'Pt04_r06c04'),\n",
       " Text(0, 0, 'Pt04_r06c05'),\n",
       " Text(0, 0, 'Pt04_r06c06'),\n",
       " Text(0, 0, 'Pt04_r06c07'),\n",
       " Text(0, 0, 'Pt04_r06c08'),\n",
       " Text(0, 0, 'Pt04_r06c09'),\n",
       " Text(0, 0, 'Pt04_r06c10'),\n",
       " Text(0, 0, 'Pt04_r06c11'),\n",
       " Text(0, 0, 'Pt04_r06c12'),\n",
       " Text(0, 0, 'Pt04_r07c01'),\n",
       " Text(0, 0, 'Pt04_r07c02'),\n",
       " Text(0, 0, 'Pt04_r07c03'),\n",
       " Text(0, 0, 'Pt04_r07c04'),\n",
       " Text(0, 0, 'Pt04_r07c05'),\n",
       " Text(0, 0, 'Pt04_r07c06'),\n",
       " Text(0, 0, 'Pt04_r07c07'),\n",
       " Text(0, 0, 'Pt04_r07c08'),\n",
       " Text(0, 0, 'Pt04_r07c09'),\n",
       " Text(0, 0, 'Pt04_r07c10'),\n",
       " Text(0, 0, 'Pt04_r07c11'),\n",
       " Text(0, 0, 'Pt04_r07c12'),\n",
       " Text(0, 0, 'Pt04_r08c01'),\n",
       " Text(0, 0, 'Pt04_r08c02'),\n",
       " Text(0, 0, 'Pt04_r08c03'),\n",
       " Text(0, 0, 'Pt04_r08c04'),\n",
       " Text(0, 0, 'Pt04_r08c05'),\n",
       " Text(0, 0, 'Pt04_r08c06'),\n",
       " Text(0, 0, 'Pt04_r08c07'),\n",
       " Text(0, 0, 'Pt04_r08c08'),\n",
       " Text(0, 0, 'Pt04_r08c09'),\n",
       " Text(0, 0, 'Pt04_r08c10'),\n",
       " Text(0, 0, 'Pt04_r08c11'),\n",
       " Text(0, 0, 'Pt04_r08c12'),\n",
       " Text(0, 0, 'Pt11_r02c12')]"
      ]
     },
     "execution_count": 59,
     "metadata": {},
     "output_type": "execute_result"
    },
    {
     "data": {
      "image/png": "[encoded data removed]",
      "text/plain": [
       "<Figure size 1440x720 with 1 Axes>"
      ]
     },
     "metadata": {
      "needs_background": "light"
     },
     "output_type": "display_data"
    }
   ],
   "source": [
    "fig, ax = plt.subplots(figsize=(20, 10))\n",
    "chart = sn.barplot(x=uniq_wells, y=num_anomalies, color='b')\n",
    "chart.set_xticklabels(chart.get_xticklabels(), rotation=90)"
   ]
  },
  {
   "cell_type": "code",
   "execution_count": 60,
   "metadata": {},
   "outputs": [
    {
     "data": {
      "text/plain": [
       "[2841.7433128006073,\n",
       " 2602.508922143765,\n",
       " 2799.9138488046524,\n",
       " 2359.2217898832687,\n",
       " 2159.693720292653,\n",
       " 2649.400368334808,\n",
       " 2640.656774873842,\n",
       " 2740.2001245348047,\n",
       " 2565.9037459458627,\n",
       " 2583.6366355885725,\n",
       " 2691.41834998473,\n",
       " 2840.1862052337765,\n",
       " 2708.9448478294453,\n",
       " 2577.453294861706,\n",
       " 2692.0096374677696,\n",
       " 2442.9431587689455,\n",
       " 2660.1220403717903,\n",
       " 3090.525548205636,\n",
       " 2479.378491728183,\n",
       " 2675.88089753434,\n",
       " 5553.869499241275,\n",
       " 2833.0594285108414,\n",
       " 2697.8282363369813,\n",
       " 2938.1699846860643,\n",
       " 2736.0256753142553,\n",
       " 2648.7597824645177,\n",
       " 2549.9972604240866,\n",
       " 2413.3626675404516,\n",
       " 2479.6841208467135,\n",
       " 2507.2187071019457,\n",
       " 2460.309854655806,\n",
       " 2326.642204475142,\n",
       " 2593.894371709668,\n",
       " 2660.0535631461617,\n",
       " 2666.5332758726836,\n",
       " 2801.1495774168543,\n",
       " 10000.0,\n",
       " 2521.373956398802,\n",
       " 2649.8537479808488,\n",
       " 2616.156610085491,\n",
       " 2684.6599481021062,\n",
       " 2489.308679198843,\n",
       " 2640.053575588167,\n",
       " 2873.9164186828825,\n",
       " 2623.3864271155735,\n",
       " 2556.4127290260367,\n",
       " 2675.2510607624386,\n",
       " 2571.9750352325345,\n",
       " 3137.7765650226256,\n",
       " 2550.0374518786907,\n",
       " 2831.71096678648,\n",
       " 2716.24624675567,\n",
       " 2803.460521581327,\n",
       " 2507.3979394221087,\n",
       " 2466.1742597555394,\n",
       " 2691.687262287076,\n",
       " 3158.61596437136,\n",
       " 2593.5553567510087,\n",
       " 2722.4758020135314,\n",
       " 2629.0082434542614,\n",
       " 2608.169107123197,\n",
       " 2584.9912602863483,\n",
       " 2183.2768825481544,\n",
       " 2506.0030920035524,\n",
       " 2588.730426485372,\n",
       " 2843.060195192245,\n",
       " 2742.8942821362334,\n",
       " 2751.6600705426486,\n",
       " 2881.3729762343714,\n",
       " 2985.751072961373,\n",
       " 2731.477623135261,\n",
       " 3665.292703272977,\n",
       " 2778.2890608659277,\n",
       " 2983.669508846543,\n",
       " 3009.3241399928993,\n",
       " 2352.2794944749553,\n",
       " 2622.8680147492128,\n",
       " 3043.0689243307806,\n",
       " 2532.513674747575,\n",
       " 2964.7369357613143,\n",
       " 2526.4631265856005,\n",
       " 2706.845560124071,\n",
       " 2865.6446879681503,\n",
       " 2942.6360252850477,\n",
       " 2466.2510431495753,\n",
       " 2589.491684008453,\n",
       " 3088.593185743445,\n",
       " 3193.6915667201815,\n",
       " 2910.2353698817956,\n",
       " 3126.7565378935838,\n",
       " 2894.48679237315,\n",
       " 3002.4750673363906,\n",
       " 3014.653451226469,\n",
       " 2550.036330008587,\n",
       " 2551.668268053279,\n",
       " 3128.8165164291945,\n",
       " 2776.8764409529504]"
      ]
     },
     "execution_count": 60,
     "metadata": {},
     "output_type": "execute_result"
    }
   ],
   "source": [
    "num_anomalies\n"
   ]
  },
  {
   "cell_type": "code",
   "execution_count": null,
   "metadata": {},
   "outputs": [],
   "source": []
  }
 ],
 "metadata": {
  "kernelspec": {
   "display_name": "Python 3",
   "language": "python",
   "name": "python3"
  },
  "language_info": {
   "codemirror_mode": {
    "name": "ipython",
    "version": 3
   },
   "file_extension": ".py",
   "mimetype": "text/x-python",
   "name": "python",
   "nbconvert_exporter": "python",
   "pygments_lexer": "ipython3",
   "version": "3.7.3"
  }
 },
 "nbformat": 4,
 "nbformat_minor": 4
}
