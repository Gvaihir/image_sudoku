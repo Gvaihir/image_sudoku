{
 "cells": [
  {
   "cell_type": "markdown",
   "metadata": {},
   "source": [
    "# Anomaly detection with ACAE  \n",
    "Testing reconstruction and adversarial errors image-by-image"
   ]
  },
  {
   "cell_type": "code",
   "execution_count": 1,
   "metadata": {},
   "outputs": [
    {
     "name": "stderr",
     "output_type": "stream",
     "text": [
      "Using TensorFlow backend.\n",
      "/home/aogorodnikov/anaconda3/envs/imgSudoku/lib/python3.7/site-packages/tensorflow/python/framework/dtypes.py:516: FutureWarning: Passing (type, 1) or '1type' as a synonym of type is deprecated; in a future version of numpy, it will be understood as (type, (1,)) / '(1,)type'.\n",
      "  _np_qint8 = np.dtype([(\"qint8\", np.int8, 1)])\n",
      "/home/aogorodnikov/anaconda3/envs/imgSudoku/lib/python3.7/site-packages/tensorflow/python/framework/dtypes.py:517: FutureWarning: Passing (type, 1) or '1type' as a synonym of type is deprecated; in a future version of numpy, it will be understood as (type, (1,)) / '(1,)type'.\n",
      "  _np_quint8 = np.dtype([(\"quint8\", np.uint8, 1)])\n",
      "/home/aogorodnikov/anaconda3/envs/imgSudoku/lib/python3.7/site-packages/tensorflow/python/framework/dtypes.py:518: FutureWarning: Passing (type, 1) or '1type' as a synonym of type is deprecated; in a future version of numpy, it will be understood as (type, (1,)) / '(1,)type'.\n",
      "  _np_qint16 = np.dtype([(\"qint16\", np.int16, 1)])\n",
      "/home/aogorodnikov/anaconda3/envs/imgSudoku/lib/python3.7/site-packages/tensorflow/python/framework/dtypes.py:519: FutureWarning: Passing (type, 1) or '1type' as a synonym of type is deprecated; in a future version of numpy, it will be understood as (type, (1,)) / '(1,)type'.\n",
      "  _np_quint16 = np.dtype([(\"quint16\", np.uint16, 1)])\n",
      "/home/aogorodnikov/anaconda3/envs/imgSudoku/lib/python3.7/site-packages/tensorflow/python/framework/dtypes.py:520: FutureWarning: Passing (type, 1) or '1type' as a synonym of type is deprecated; in a future version of numpy, it will be understood as (type, (1,)) / '(1,)type'.\n",
      "  _np_qint32 = np.dtype([(\"qint32\", np.int32, 1)])\n",
      "/home/aogorodnikov/anaconda3/envs/imgSudoku/lib/python3.7/site-packages/tensorflow/python/framework/dtypes.py:525: FutureWarning: Passing (type, 1) or '1type' as a synonym of type is deprecated; in a future version of numpy, it will be understood as (type, (1,)) / '(1,)type'.\n",
      "  np_resource = np.dtype([(\"resource\", np.ubyte, 1)])\n",
      "/home/aogorodnikov/anaconda3/envs/imgSudoku/lib/python3.7/site-packages/tensorboard/compat/tensorflow_stub/dtypes.py:541: FutureWarning: Passing (type, 1) or '1type' as a synonym of type is deprecated; in a future version of numpy, it will be understood as (type, (1,)) / '(1,)type'.\n",
      "  _np_qint8 = np.dtype([(\"qint8\", np.int8, 1)])\n",
      "/home/aogorodnikov/anaconda3/envs/imgSudoku/lib/python3.7/site-packages/tensorboard/compat/tensorflow_stub/dtypes.py:542: FutureWarning: Passing (type, 1) or '1type' as a synonym of type is deprecated; in a future version of numpy, it will be understood as (type, (1,)) / '(1,)type'.\n",
      "  _np_quint8 = np.dtype([(\"quint8\", np.uint8, 1)])\n",
      "/home/aogorodnikov/anaconda3/envs/imgSudoku/lib/python3.7/site-packages/tensorboard/compat/tensorflow_stub/dtypes.py:543: FutureWarning: Passing (type, 1) or '1type' as a synonym of type is deprecated; in a future version of numpy, it will be understood as (type, (1,)) / '(1,)type'.\n",
      "  _np_qint16 = np.dtype([(\"qint16\", np.int16, 1)])\n",
      "/home/aogorodnikov/anaconda3/envs/imgSudoku/lib/python3.7/site-packages/tensorboard/compat/tensorflow_stub/dtypes.py:544: FutureWarning: Passing (type, 1) or '1type' as a synonym of type is deprecated; in a future version of numpy, it will be understood as (type, (1,)) / '(1,)type'.\n",
      "  _np_quint16 = np.dtype([(\"quint16\", np.uint16, 1)])\n",
      "/home/aogorodnikov/anaconda3/envs/imgSudoku/lib/python3.7/site-packages/tensorboard/compat/tensorflow_stub/dtypes.py:545: FutureWarning: Passing (type, 1) or '1type' as a synonym of type is deprecated; in a future version of numpy, it will be understood as (type, (1,)) / '(1,)type'.\n",
      "  _np_qint32 = np.dtype([(\"qint32\", np.int32, 1)])\n",
      "/home/aogorodnikov/anaconda3/envs/imgSudoku/lib/python3.7/site-packages/tensorboard/compat/tensorflow_stub/dtypes.py:550: FutureWarning: Passing (type, 1) or '1type' as a synonym of type is deprecated; in a future version of numpy, it will be understood as (type, (1,)) / '(1,)type'.\n",
      "  np_resource = np.dtype([(\"resource\", np.ubyte, 1)])\n"
     ]
    }
   ],
   "source": [
    "import argparse\n",
    "from argparse import RawTextHelpFormatter\n",
    "import numpy as np\n",
    "import os\n",
    "\n",
    "# keras\n",
    "from keras.models import Sequential, Model, load_model\n",
    "from keras.layers import Input, Dense, Conv2D, MaxPooling2D, Reshape, UpSampling2D, Conv2DTranspose, Flatten, BatchNormalization\n",
    "from keras.preprocessing.image import ImageDataGenerator\n",
    "from keras.utils import plot_model\n",
    "from keras.optimizers import Adam\n",
    "\n",
    "\n",
    "from absl import app\n",
    "\n",
    "# logging\n",
    "import wandb\n",
    "from datetime import datetime\n",
    "import matplotlib.pyplot as plt\n",
    "from matplotlib import gridspec, colors\n",
    "import shutil\n",
    "from glob import glob\n",
    "from sklearn.metrics import mean_squared_error as mse\n",
    "from scipy.stats import entropy\n",
    "from scipy.stats import norm, kstest\n",
    "from scipy.spatial.distance import jensenshannon as jsd\n",
    "\n",
    "import seaborn as sns"
   ]
  },
  {
   "cell_type": "markdown",
   "metadata": {},
   "source": [
    "## Load models"
   ]
  },
  {
   "cell_type": "code",
   "execution_count": 2,
   "metadata": {},
   "outputs": [],
   "source": [
    "models = \"/home/aogorodnikov/aae_2Dlatent\"\n",
    "wd = \"/home/aogorodnikov/test\"\n",
    "batch = 16"
   ]
  },
  {
   "cell_type": "code",
   "execution_count": 3,
   "metadata": {},
   "outputs": [],
   "source": [
    "def model_compile(models):\n",
    "    '''\n",
    "    Loads and compiles models\n",
    "    :param models: directory with encoder, decoder and discriminator\n",
    "\n",
    "    :return: compiled autoencoder and discriminator\n",
    "    '''\n",
    "\n",
    "    encoder = load_model(os.path.join(models, \"encoder.h5\"))\n",
    "    decoder = load_model(os.path.join(models, \"decoder.h5\"))\n",
    "\n",
    "    # get input and latent space shapes\n",
    "    latent_dim = encoder.get_layer(index=-1).output_shape[1]\n",
    "    input_dim = encoder.get_layer(index=0).input_shape[1:]\n",
    "\n",
    "    # compile imported models into assembled autoencoder\n",
    "    autoencoder_input = Input(shape=input_dim)\n",
    "    autoencoder = Model(autoencoder_input, decoder(encoder(autoencoder_input)))\n",
    "    autoencoder.compile(optimizer=Adam(lr=1e-4), loss=\"mean_squared_error\", metrics=['accuracy'])\n",
    "\n",
    "    return autoencoder, encoder, input_dim, latent_dim"
   ]
  },
  {
   "cell_type": "code",
   "execution_count": 4,
   "metadata": {},
   "outputs": [
    {
     "name": "stdout",
     "output_type": "stream",
     "text": [
      "WARNING:tensorflow:From /home/aogorodnikov/anaconda3/envs/imgSudoku/lib/python3.7/site-packages/keras/backend/tensorflow_backend.py:517: The name tf.placeholder is deprecated. Please use tf.compat.v1.placeholder instead.\n",
      "\n",
      "WARNING:tensorflow:From /home/aogorodnikov/anaconda3/envs/imgSudoku/lib/python3.7/site-packages/keras/backend/tensorflow_backend.py:4138: The name tf.random_uniform is deprecated. Please use tf.random.uniform instead.\n",
      "\n",
      "WARNING:tensorflow:From /home/aogorodnikov/anaconda3/envs/imgSudoku/lib/python3.7/site-packages/keras/backend/tensorflow_backend.py:3976: The name tf.nn.max_pool is deprecated. Please use tf.nn.max_pool2d instead.\n",
      "\n",
      "WARNING:tensorflow:From /home/aogorodnikov/anaconda3/envs/imgSudoku/lib/python3.7/site-packages/keras/backend/tensorflow_backend.py:245: The name tf.get_default_graph is deprecated. Please use tf.compat.v1.get_default_graph instead.\n",
      "\n",
      "WARNING:tensorflow:From /home/aogorodnikov/anaconda3/envs/imgSudoku/lib/python3.7/site-packages/keras/backend/tensorflow_backend.py:174: The name tf.get_default_session is deprecated. Please use tf.compat.v1.get_default_session instead.\n",
      "\n",
      "WARNING:tensorflow:From /home/aogorodnikov/anaconda3/envs/imgSudoku/lib/python3.7/site-packages/keras/backend/tensorflow_backend.py:181: The name tf.ConfigProto is deprecated. Please use tf.compat.v1.ConfigProto instead.\n",
      "\n",
      "WARNING:tensorflow:From /home/aogorodnikov/anaconda3/envs/imgSudoku/lib/python3.7/site-packages/keras/backend/tensorflow_backend.py:1834: The name tf.nn.fused_batch_norm is deprecated. Please use tf.compat.v1.nn.fused_batch_norm instead.\n",
      "\n",
      "WARNING:tensorflow:From /home/aogorodnikov/anaconda3/envs/imgSudoku/lib/python3.7/site-packages/keras/backend/tensorflow_backend.py:2018: The name tf.image.resize_nearest_neighbor is deprecated. Please use tf.compat.v1.image.resize_nearest_neighbor instead.\n",
      "\n"
     ]
    },
    {
     "name": "stderr",
     "output_type": "stream",
     "text": [
      "/home/aogorodnikov/anaconda3/envs/imgSudoku/lib/python3.7/site-packages/keras/engine/saving.py:292: UserWarning: No training configuration found in save file: the model was *not* compiled. Compile it manually.\n",
      "  warnings.warn('No training configuration found in save file: '\n"
     ]
    },
    {
     "name": "stdout",
     "output_type": "stream",
     "text": [
      "WARNING:tensorflow:From /home/aogorodnikov/anaconda3/envs/imgSudoku/lib/python3.7/site-packages/keras/optimizers.py:790: The name tf.train.Optimizer is deprecated. Please use tf.compat.v1.train.Optimizer instead.\n",
      "\n"
     ]
    }
   ],
   "source": [
    "autoencoder, encoder, input_dim, latent_dim = model_compile(models)"
   ]
  },
  {
   "cell_type": "code",
   "execution_count": 5,
   "metadata": {},
   "outputs": [],
   "source": [
    "def mse_batch(data_x, data_y, input_dim):\n",
    "    # TODO: docstring\n",
    "    shape_1 = input_dim[0]\n",
    "    shape_2 = input_dim[1:]\n",
    "    reshape_x = np.reshape(data_x, (shape_1, np.prod(shape_2)))\n",
    "    reshape_y = np.reshape(data_y, (shape_1, np.prod(shape_2)))\n",
    "    return mse(reshape_x, reshape_y)"
   ]
  },
  {
   "cell_type": "code",
   "execution_count": 6,
   "metadata": {},
   "outputs": [],
   "source": [
    "def jsd_batch(latent_x, latent_dim):\n",
    "    '''\n",
    "    Function to compute adversarial loss\n",
    "    :param latent_x: encoded latent space\n",
    "    :return: KL divergence b/w prior\n",
    "    '''\n",
    "    prior = np.random.randn(latent_dim) * 5.\n",
    "    return jsd(norm.pdf(latent_x), norm.pdf(prior))"
   ]
  },
  {
   "cell_type": "code",
   "execution_count": 7,
   "metadata": {},
   "outputs": [
    {
     "name": "stdout",
     "output_type": "stream",
     "text": [
      "Found 1083 images belonging to 1 classes.\n"
     ]
    }
   ],
   "source": [
    "data_loader = ImageDataGenerator(\n",
    "    rescale=1. / 255,\n",
    "    featurewise_center=True,\n",
    "    featurewise_std_normalization=True,\n",
    "    shear_range=0,\n",
    "    zoom_range=0,\n",
    "    horizontal_flip=False)\n",
    "# load data\n",
    "data_in = data_loader.flow_from_directory(\n",
    "    wd,\n",
    "    target_size=(input_dim[0], input_dim[0]),\n",
    "    batch_size=batch,\n",
    "    shuffle=False,\n",
    "    class_mode='input')"
   ]
  },
  {
   "cell_type": "code",
   "execution_count": 8,
   "metadata": {},
   "outputs": [
    {
     "name": "stderr",
     "output_type": "stream",
     "text": [
      "/home/aogorodnikov/anaconda3/envs/imgSudoku/lib/python3.7/site-packages/keras_preprocessing/image/image_data_generator.py:716: UserWarning: This ImageDataGenerator specifies `featurewise_center`, but it hasn't been fit on any training data. Fit it first by calling `.fit(numpy_data)`.\n",
      "  warnings.warn('This ImageDataGenerator specifies '\n",
      "/home/aogorodnikov/anaconda3/envs/imgSudoku/lib/python3.7/site-packages/keras_preprocessing/image/image_data_generator.py:724: UserWarning: This ImageDataGenerator specifies `featurewise_std_normalization`, but it hasn't been fit on any training data. Fit it first by calling `.fit(numpy_data)`.\n",
      "  warnings.warn('This ImageDataGenerator specifies '\n"
     ]
    }
   ],
   "source": [
    "batch_index = 0\n",
    "\n",
    "data = data_in.next()\n",
    "data_list = data[0]\n",
    "data_size = len(data_list)\n",
    "\n",
    "ae_pred = autoencoder.predict_on_batch(data_list)\n",
    "fake_latent = encoder.predict(data_list)"
   ]
  },
  {
   "cell_type": "code",
   "execution_count": 9,
   "metadata": {},
   "outputs": [],
   "source": [
    "lol = [mse_batch(data_list[x], ae_pred[x], input_dim) for x in range(len(ae_pred))]"
   ]
  },
  {
   "cell_type": "code",
   "execution_count": 10,
   "metadata": {},
   "outputs": [],
   "source": [
    "def kld_batch(latent_x, latent_dim):\n",
    "    '''\n",
    "    Function to compute adversarial loss\n",
    "    :param latent_x: encoded latent space\n",
    "    :return: KL divergence b/w prior\n",
    "    '''\n",
    "    prior = np.random.randn(latent_dim) * 5.\n",
    "    return entropy(norm.pdf(latent_x), norm.pdf(prior))"
   ]
  },
  {
   "cell_type": "code",
   "execution_count": 11,
   "metadata": {},
   "outputs": [],
   "source": [
    "shit  = [kld_batch(x, latent_dim) for x in fake_latent]\n",
    "shit_jsd  = [jsd_batch(x, latent_dim) for x in fake_latent]"
   ]
  },
  {
   "cell_type": "code",
   "execution_count": 12,
   "metadata": {},
   "outputs": [
    {
     "data": {
      "image/png": "[encoded data removed]",
      "text/plain": [
       "<Figure size 864x720 with 1 Axes>"
      ]
     },
     "metadata": {
      "needs_background": "light"
     },
     "output_type": "display_data"
    }
   ],
   "source": [
    "df = list(zip(data_in.filepaths[:17],fake_latent))\n",
    "fig, ax = plt.subplots(figsize=(12, 10))\n",
    "for l in range(len(df)):\n",
    "    to_plot = df[l][1]\n",
    "    g = sns.distplot(to_plot, hist=False, label=l)\n",
    "   "
   ]
  },
  {
   "cell_type": "code",
   "execution_count": 13,
   "metadata": {},
   "outputs": [
    {
     "data": {
      "text/plain": [
       "[('/home/aogorodnikov/test/normal/Pt11_r02c12_f01_0060.tif',\n",
       "  0.0047201687,\n",
       "  0.003800837240216489,\n",
       "  0.01176181888634626),\n",
       " ('/home/aogorodnikov/test/normal/Pt11_r02c12_f01_0073.tif',\n",
       "  0.005134841,\n",
       "  10.610620618316174,\n",
       "  0.42727129287929705),\n",
       " ('/home/aogorodnikov/test/normal/Pt11_r02c12_f01_0107.tif',\n",
       "  0.003820035,\n",
       "  0.8146220040468846,\n",
       "  0.10834547948994022),\n",
       " ('/home/aogorodnikov/test/normal/Pt11_r02c12_f01_0111.tif',\n",
       "  0.0048183305,\n",
       "  4.870102911856668,\n",
       "  0.31095663908358334),\n",
       " ('/home/aogorodnikov/test/normal/Pt11_r02c12_f01_0121.tif',\n",
       "  0.006918105,\n",
       "  28.65109639983686,\n",
       "  0.45492925369972526),\n",
       " ('/home/aogorodnikov/test/normal/Pt11_r02c12_f01_0122.tif',\n",
       "  0.007344518,\n",
       "  6.902183631786231,\n",
       "  0.7703259010778036),\n",
       " ('/home/aogorodnikov/test/normal/Pt11_r02c12_f01_0127.tif',\n",
       "  0.0039790533,\n",
       "  0.23391245594285723,\n",
       "  0.3393981210081662),\n",
       " ('/home/aogorodnikov/test/normal/Pt11_r02c12_f01_0168.tif',\n",
       "  0.009416579,\n",
       "  1.4290720168209943,\n",
       "  0.30070345909594504),\n",
       " ('/home/aogorodnikov/test/normal/Pt11_r02c12_f01_0170.tif',\n",
       "  0.004250305,\n",
       "  1.9138439414339077,\n",
       "  0.6544262520293603),\n",
       " ('/home/aogorodnikov/test/normal/Pt11_r02c12_f01_0184.tif',\n",
       "  0.0024515225,\n",
       "  0.1960936900981233,\n",
       "  0.5535842849955122),\n",
       " ('/home/aogorodnikov/test/normal/Pt11_r02c12_f01_0198.tif',\n",
       "  0.0048409007,\n",
       "  12.61012415064728,\n",
       "  0.77184572234993),\n",
       " ('/home/aogorodnikov/test/normal/Pt11_r02c12_f01_0199.tif',\n",
       "  0.0027969447,\n",
       "  0.001235804098370072,\n",
       "  0.8324824197651755),\n",
       " ('/home/aogorodnikov/test/normal/Pt11_r02c12_f01_0223.tif',\n",
       "  0.006363938,\n",
       "  0.1583137734735887,\n",
       "  0.6515472708489958),\n",
       " ('/home/aogorodnikov/test/normal/Pt11_r02c12_f01_0224.tif',\n",
       "  0.0057958565,\n",
       "  2.1307713137013096,\n",
       "  0.75062872034623),\n",
       " ('/home/aogorodnikov/test/normal/Pt11_r02c12_f01_0279.tif',\n",
       "  0.0032216008,\n",
       "  7.597021798686903,\n",
       "  0.35405528463454655),\n",
       " ('/home/aogorodnikov/test/normal/Pt11_r02c12_f01_0286.tif',\n",
       "  0.0061226673,\n",
       "  4.559355189453582,\n",
       "  0.22494603411331254)]"
      ]
     },
     "execution_count": 13,
     "metadata": {},
     "output_type": "execute_result"
    }
   ],
   "source": [
    "list(zip(data_in.filepaths[:17],lol, shit, shit_jsd))"
   ]
  },
  {
   "cell_type": "raw",
   "metadata": {},
   "source": [
    "cyto:\n",
    "\n",
    "[('/home/aogorodnikov/test/cytokinesis/Pt04_r01c01_f01_0386.tif', 0.006219174),\n",
    " ('/home/aogorodnikov/test/cytokinesis/Pt04_r01c01_f02_0304.tif', 0.0023011477),\n",
    " ('/home/aogorodnikov/test/cytokinesis/Pt04_r01c01_f02_0652.tif', 0.0029112056),\n",
    " ('/home/aogorodnikov/test/cytokinesis/Pt04_r01c01_f04_0256.tif', 0.0029931194),\n",
    " ('/home/aogorodnikov/test/cytokinesis/Pt04_r01c01_f04_0319.tif', 0.0025848555),\n",
    " ('/home/aogorodnikov/test/cytokinesis/Pt04_r01c01_f04_0330.tif', 0.0039777756),\n",
    " ('/home/aogorodnikov/test/cytokinesis/Pt04_r01c01_f05_0031.tif', 0.0007974663),\n",
    " ('/home/aogorodnikov/test/cytokinesis/Pt04_r01c01_f05_0302.tif', 0.0022562735),\n",
    " ('/home/aogorodnikov/test/cytokinesis/Pt04_r01c01_f06_0232.tif', 0.0014631412),\n",
    " ('/home/aogorodnikov/test/cytokinesis/Pt04_r01c01_f08_0316.tif', 0.0020877575),\n",
    " ('/home/aogorodnikov/test/cytokinesis/Pt04_r01c01_f09_0084.tif', 0.0015942378),\n",
    " ('/home/aogorodnikov/test/cytokinesis/Pt04_r01c01_f10_0346.tif', 0.012020915),\n",
    " ('/home/aogorodnikov/test/cytokinesis/Pt04_r01c01_f11_0035.tif', 0.0017927515),\n",
    " ('/home/aogorodnikov/test/cytokinesis/Pt04_r01c01_f11_0037.tif', 0.001998696),\n",
    " ('/home/aogorodnikov/test/cytokinesis/Pt04_r01c01_f11_0208.tif', 0.0042443415),\n",
    " ('/home/aogorodnikov/test/cytokinesis/Pt04_r01c01_f11_0379.tif', 0.0055617425)]"
   ]
  },
  {
   "cell_type": "code",
   "execution_count": 30,
   "metadata": {},
   "outputs": [
    {
     "data": {
      "text/plain": [
       "0.0038870783"
      ]
     },
     "execution_count": 30,
     "metadata": {},
     "output_type": "execute_result"
    }
   ],
   "source": [
    "np.mean(lol)"
   ]
  },
  {
   "cell_type": "code",
   "execution_count": 7,
   "metadata": {},
   "outputs": [
    {
     "name": "stderr",
     "output_type": "stream",
     "text": [
      "/home/aogorodnikov/anaconda3/envs/imgSudoku/lib/python3.7/site-packages/keras_preprocessing/image/image_data_generator.py:716: UserWarning: This ImageDataGenerator specifies `featurewise_center`, but it hasn't been fit on any training data. Fit it first by calling `.fit(numpy_data)`.\n",
      "  warnings.warn('This ImageDataGenerator specifies '\n",
      "/home/aogorodnikov/anaconda3/envs/imgSudoku/lib/python3.7/site-packages/keras_preprocessing/image/image_data_generator.py:724: UserWarning: This ImageDataGenerator specifies `featurewise_std_normalization`, but it hasn't been fit on any training data. Fit it first by calling `.fit(numpy_data)`.\n",
      "  warnings.warn('This ImageDataGenerator specifies '\n"
     ]
    }
   ],
   "source": [
    "data = data_in.next()\n",
    "data_list = data[0]\n",
    "data_size = len(data_list)"
   ]
  },
  {
   "cell_type": "code",
   "execution_count": 11,
   "metadata": {},
   "outputs": [
    {
     "data": {
      "text/plain": [
       "0.005301421973854303"
      ]
     },
     "execution_count": 11,
     "metadata": {},
     "output_type": "execute_result"
    }
   ],
   "source": [
    "autoencoder.evaluate_generator(data_in)[0]"
   ]
  }
 ],
 "metadata": {
  "accelerator": "GPU",
  "colab": {
   "collapsed_sections": [],
   "name": "Untitled5.ipynb",
   "provenance": [],
   "version": "0.3.2"
  },
  "kernelspec": {
   "display_name": "Python 3",
   "language": "python",
   "name": "python3"
  },
  "language_info": {
   "codemirror_mode": {
    "name": "ipython",
    "version": 3
   },
   "file_extension": ".py",
   "mimetype": "text/x-python",
   "name": "python",
   "nbconvert_exporter": "python",
   "pygments_lexer": "ipython3",
   "version": "3.7.3"
  }
 },
 "nbformat": 4,
 "nbformat_minor": 4
}
