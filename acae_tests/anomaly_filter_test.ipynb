{
 "cells": [
  {
   "cell_type": "markdown",
   "metadata": {},
   "source": [
    "# Inspect filtering with ACAE  \n",
    "ACAE with 32D latent on 1500 epoch was used  \n",
    "Test on entire Pt04 and Pt11r02c02 (WT well)  \n",
    "\n",
    "### Plan  \n",
    "1. Distribution of losses per well.  \n",
    "2. Threshold based on AE and ADV losses.  \n",
    "3. COmpare number of anomalies b/w wells. "
   ]
  },
  {
   "cell_type": "code",
   "execution_count": 1,
   "metadata": {},
   "outputs": [],
   "source": [
    "import json\n",
    "import seaborn as sn\n",
    "import os \n",
    "import pandas as pd\n",
    "import re\n",
    "import numpy as np\n",
    "import matplotlib.pyplot as plt\n",
    "import shutil\n",
    "import matplotlib.pyplot as plt\n",
    "import seaborn as sns"
   ]
  },
  {
   "cell_type": "code",
   "execution_count": 2,
   "metadata": {},
   "outputs": [],
   "source": [
    "# set up font for export to make it illustrator friendly\n",
    "import matplotlib\n",
    "matplotlib.rcParams['pdf.fonttype'] = 42\n",
    "matplotlib.rcParams['ps.fonttype'] = 42"
   ]
  },
  {
   "cell_type": "code",
   "execution_count": 3,
   "metadata": {},
   "outputs": [],
   "source": [
    "# import JSON file for Pt04\n",
    "with open('/home/aogorodnikov/aae_filter_Pt04/Pt04.json', 'r') as json_file:  \n",
    "    pt04 = json.load(json_file)\n",
    "    pt04 = pd.DataFrame(pt04)\n",
    "    \n",
    "# import JSON file for Pt11\n",
    "with open('/home/aogorodnikov/aae_filter_Pt11_negOnly/Pt11.json', 'r') as json_file:  \n",
    "    pt11 = json.load(json_file)\n",
    "    pt11 = pd.DataFrame(pt11)"
   ]
  },
  {
   "cell_type": "code",
   "execution_count": 4,
   "metadata": {},
   "outputs": [
    {
     "data": {
      "text/html": [
       "<div>\n",
       "<style scoped>\n",
       "    .dataframe tbody tr th:only-of-type {\n",
       "        vertical-align: middle;\n",
       "    }\n",
       "\n",
       "    .dataframe tbody tr th {\n",
       "        vertical-align: top;\n",
       "    }\n",
       "\n",
       "    .dataframe thead th {\n",
       "        text-align: right;\n",
       "    }\n",
       "</style>\n",
       "<table border=\"1\" class=\"dataframe\">\n",
       "  <thead>\n",
       "    <tr style=\"text-align: right;\">\n",
       "      <th></th>\n",
       "      <th>image</th>\n",
       "      <th>ae_loss</th>\n",
       "      <th>adv_loss</th>\n",
       "      <th>log_ae_loss</th>\n",
       "    </tr>\n",
       "  </thead>\n",
       "  <tbody>\n",
       "    <tr>\n",
       "      <th>0</th>\n",
       "      <td>/sudoku/crop_rgb/Pt04/r01/Pt04_r01c01_f01_0021...</td>\n",
       "      <td>0.003903</td>\n",
       "      <td>0.757876</td>\n",
       "      <td>-5.546061</td>\n",
       "    </tr>\n",
       "    <tr>\n",
       "      <th>1</th>\n",
       "      <td>/sudoku/crop_rgb/Pt04/r01/Pt04_r01c01_f01_0022...</td>\n",
       "      <td>0.004455</td>\n",
       "      <td>0.653490</td>\n",
       "      <td>-5.413796</td>\n",
       "    </tr>\n",
       "    <tr>\n",
       "      <th>2</th>\n",
       "      <td>/sudoku/crop_rgb/Pt04/r01/Pt04_r01c01_f01_0023...</td>\n",
       "      <td>0.006427</td>\n",
       "      <td>0.528474</td>\n",
       "      <td>-5.047310</td>\n",
       "    </tr>\n",
       "    <tr>\n",
       "      <th>3</th>\n",
       "      <td>/sudoku/crop_rgb/Pt04/r01/Pt04_r01c01_f01_0024...</td>\n",
       "      <td>0.004339</td>\n",
       "      <td>0.554104</td>\n",
       "      <td>-5.440019</td>\n",
       "    </tr>\n",
       "    <tr>\n",
       "      <th>4</th>\n",
       "      <td>/sudoku/crop_rgb/Pt04/r01/Pt04_r01c01_f01_0026...</td>\n",
       "      <td>0.004436</td>\n",
       "      <td>0.757994</td>\n",
       "      <td>-5.418115</td>\n",
       "    </tr>\n",
       "  </tbody>\n",
       "</table>\n",
       "</div>"
      ],
      "text/plain": [
       "                                               image   ae_loss  adv_loss  \\\n",
       "0  /sudoku/crop_rgb/Pt04/r01/Pt04_r01c01_f01_0021...  0.003903  0.757876   \n",
       "1  /sudoku/crop_rgb/Pt04/r01/Pt04_r01c01_f01_0022...  0.004455  0.653490   \n",
       "2  /sudoku/crop_rgb/Pt04/r01/Pt04_r01c01_f01_0023...  0.006427  0.528474   \n",
       "3  /sudoku/crop_rgb/Pt04/r01/Pt04_r01c01_f01_0024...  0.004339  0.554104   \n",
       "4  /sudoku/crop_rgb/Pt04/r01/Pt04_r01c01_f01_0026...  0.004436  0.757994   \n",
       "\n",
       "   log_ae_loss  \n",
       "0    -5.546061  \n",
       "1    -5.413796  \n",
       "2    -5.047310  \n",
       "3    -5.440019  \n",
       "4    -5.418115  "
      ]
     },
     "execution_count": 4,
     "metadata": {},
     "output_type": "execute_result"
    }
   ],
   "source": [
    "df = pd.concat([pt04, pt11], ignore_index=True)\n",
    "df['log_ae_loss'] = np.log(df.ae_loss)\n",
    "df.head()"
   ]
  },
  {
   "cell_type": "code",
   "execution_count": 5,
   "metadata": {},
   "outputs": [
    {
     "data": {
      "text/html": [
       "<div>\n",
       "<style scoped>\n",
       "    .dataframe tbody tr th:only-of-type {\n",
       "        vertical-align: middle;\n",
       "    }\n",
       "\n",
       "    .dataframe tbody tr th {\n",
       "        vertical-align: top;\n",
       "    }\n",
       "\n",
       "    .dataframe thead th {\n",
       "        text-align: right;\n",
       "    }\n",
       "</style>\n",
       "<table border=\"1\" class=\"dataframe\">\n",
       "  <thead>\n",
       "    <tr style=\"text-align: right;\">\n",
       "      <th></th>\n",
       "      <th>ae_loss</th>\n",
       "      <th>adv_loss</th>\n",
       "      <th>log_ae_loss</th>\n",
       "    </tr>\n",
       "  </thead>\n",
       "  <tbody>\n",
       "    <tr>\n",
       "      <th>count</th>\n",
       "      <td>5.738263e+06</td>\n",
       "      <td>5.738158e+06</td>\n",
       "      <td>5.738263e+06</td>\n",
       "    </tr>\n",
       "    <tr>\n",
       "      <th>mean</th>\n",
       "      <td>3.510992e-03</td>\n",
       "      <td>6.731847e-01</td>\n",
       "      <td>-5.866521e+00</td>\n",
       "    </tr>\n",
       "    <tr>\n",
       "      <th>std</th>\n",
       "      <td>2.665021e-03</td>\n",
       "      <td>6.530140e-02</td>\n",
       "      <td>6.759647e-01</td>\n",
       "    </tr>\n",
       "    <tr>\n",
       "      <th>min</th>\n",
       "      <td>1.158000e-04</td>\n",
       "      <td>2.900646e-01</td>\n",
       "      <td>-9.063646e+00</td>\n",
       "    </tr>\n",
       "    <tr>\n",
       "      <th>25%</th>\n",
       "      <td>1.901800e-03</td>\n",
       "      <td>6.301149e-01</td>\n",
       "      <td>-6.264954e+00</td>\n",
       "    </tr>\n",
       "    <tr>\n",
       "      <th>50%</th>\n",
       "      <td>3.022800e-03</td>\n",
       "      <td>6.756692e-01</td>\n",
       "      <td>-5.801572e+00</td>\n",
       "    </tr>\n",
       "    <tr>\n",
       "      <th>75%</th>\n",
       "      <td>4.468300e-03</td>\n",
       "      <td>7.191704e-01</td>\n",
       "      <td>-5.410747e+00</td>\n",
       "    </tr>\n",
       "    <tr>\n",
       "      <th>max</th>\n",
       "      <td>1.358810e-01</td>\n",
       "      <td>8.325546e-01</td>\n",
       "      <td>-1.995976e+00</td>\n",
       "    </tr>\n",
       "  </tbody>\n",
       "</table>\n",
       "</div>"
      ],
      "text/plain": [
       "            ae_loss      adv_loss   log_ae_loss\n",
       "count  5.738263e+06  5.738158e+06  5.738263e+06\n",
       "mean   3.510992e-03  6.731847e-01 -5.866521e+00\n",
       "std    2.665021e-03  6.530140e-02  6.759647e-01\n",
       "min    1.158000e-04  2.900646e-01 -9.063646e+00\n",
       "25%    1.901800e-03  6.301149e-01 -6.264954e+00\n",
       "50%    3.022800e-03  6.756692e-01 -5.801572e+00\n",
       "75%    4.468300e-03  7.191704e-01 -5.410747e+00\n",
       "max    1.358810e-01  8.325546e-01 -1.995976e+00"
      ]
     },
     "execution_count": 5,
     "metadata": {},
     "output_type": "execute_result"
    }
   ],
   "source": [
    "df.describe()"
   ]
  },
  {
   "cell_type": "markdown",
   "metadata": {},
   "source": [
    "## Distributions  \n",
    "Compare distributions of losses within classes"
   ]
  },
  {
   "cell_type": "code",
   "execution_count": 6,
   "metadata": {},
   "outputs": [
    {
     "data": {
      "image/png": "[encoded data removed]",
      "text/plain": [
       "<Figure size 432x288 with 1 Axes>"
      ]
     },
     "metadata": {
      "needs_background": "light"
     },
     "output_type": "display_data"
    },
    {
     "name": "stderr",
     "output_type": "stream",
     "text": [
      "/home/aogorodnikov/anaconda3/envs/imgSudoku/lib/python3.7/site-packages/statsmodels/nonparametric/kde.py:447: RuntimeWarning: invalid value encountered in greater\n",
      "  X = X[np.logical_and(X > clip[0], X < clip[1])] # won't work for two columns.\n",
      "/home/aogorodnikov/anaconda3/envs/imgSudoku/lib/python3.7/site-packages/statsmodels/nonparametric/kde.py:447: RuntimeWarning: invalid value encountered in less\n",
      "  X = X[np.logical_and(X > clip[0], X < clip[1])] # won't work for two columns.\n"
     ]
    },
    {
     "data": {
      "image/png": "[encoded data removed]",
      "text/plain": [
       "<Figure size 432x288 with 1 Axes>"
      ]
     },
     "metadata": {
      "needs_background": "light"
     },
     "output_type": "display_data"
    }
   ],
   "source": [
    "sns.distplot(np.log(df.ae_loss), hist=False)\n",
    "plt.xlabel('Log AE loss')\n",
    "plt.ylabel('Frequency')\n",
    "plt.title('AE Loss')\n",
    "plt.show()\n",
    "\n",
    "\n",
    "sns.distplot(df.adv_loss, hist=False)\n",
    "plt.xlabel('Adv loss')\n",
    "plt.ylabel('Frequency')\n",
    "plt.title('Adv Loss')\n",
    "plt.show()"
   ]
  },
  {
   "cell_type": "code",
   "execution_count": 7,
   "metadata": {},
   "outputs": [],
   "source": [
    "df['well'] = [re.search(r'Pt\\d+_r\\d\\dc\\d\\d', x)[0] for x in df.image]"
   ]
  },
  {
   "cell_type": "code",
   "execution_count": 32,
   "metadata": {},
   "outputs": [],
   "source": [
    "ae_thresh = np.nanpercentile(df.ae_loss, 85)\n",
    "adv_thresh = np.nanpercentile(df.adv_loss, 85)"
   ]
  },
  {
   "cell_type": "code",
   "execution_count": 33,
   "metadata": {},
   "outputs": [
    {
     "data": {
      "text/plain": [
       "0.0054373"
      ]
     },
     "execution_count": 33,
     "metadata": {},
     "output_type": "execute_result"
    }
   ],
   "source": [
    "ae_thresh\n"
   ]
  },
  {
   "cell_type": "code",
   "execution_count": 34,
   "metadata": {},
   "outputs": [
    {
     "data": {
      "text/plain": [
       "0.7413648"
      ]
     },
     "execution_count": 34,
     "metadata": {},
     "output_type": "execute_result"
    }
   ],
   "source": [
    "adv_thresh"
   ]
  },
  {
   "cell_type": "code",
   "execution_count": 14,
   "metadata": {},
   "outputs": [],
   "source": [
    "uniq_wells = df.well.unique()\n",
    "num_anomalies = []\n",
    "for i in uniq_wells:\n",
    "    rel_df = df.loc[df.well==i,:]\n",
    "    abs_num = rel_df.loc[(rel_df.ae_loss >= ae_thresh) | (rel_df.adv_loss >= adv_thresh)].shape[0]\n",
    "    num_anomalies.append(abs_num*10e3/rel_df.shape[0])"
   ]
  },
  {
   "cell_type": "code",
   "execution_count": 15,
   "metadata": {},
   "outputs": [
    {
     "data": {
      "text/plain": [
       "[Text(0, 0, 'Pt04_r01c01'),\n",
       " Text(0, 0, 'Pt04_r01c02'),\n",
       " Text(0, 0, 'Pt04_r01c03'),\n",
       " Text(0, 0, 'Pt04_r01c04'),\n",
       " Text(0, 0, 'Pt04_r01c05'),\n",
       " Text(0, 0, 'Pt04_r01c06'),\n",
       " Text(0, 0, 'Pt04_r01c07'),\n",
       " Text(0, 0, 'Pt04_r01c08'),\n",
       " Text(0, 0, 'Pt04_r01c09'),\n",
       " Text(0, 0, 'Pt04_r01c10'),\n",
       " Text(0, 0, 'Pt04_r01c11'),\n",
       " Text(0, 0, 'Pt04_r01c12'),\n",
       " Text(0, 0, 'Pt04_r02c01'),\n",
       " Text(0, 0, 'Pt04_r02c02'),\n",
       " Text(0, 0, 'Pt04_r02c03'),\n",
       " Text(0, 0, 'Pt04_r02c04'),\n",
       " Text(0, 0, 'Pt04_r02c05'),\n",
       " Text(0, 0, 'Pt04_r02c06'),\n",
       " Text(0, 0, 'Pt04_r02c07'),\n",
       " Text(0, 0, 'Pt04_r02c08'),\n",
       " Text(0, 0, 'Pt04_r02c09'),\n",
       " Text(0, 0, 'Pt04_r02c10'),\n",
       " Text(0, 0, 'Pt04_r02c11'),\n",
       " Text(0, 0, 'Pt04_r02c12'),\n",
       " Text(0, 0, 'Pt04_r03c01'),\n",
       " Text(0, 0, 'Pt04_r03c02'),\n",
       " Text(0, 0, 'Pt04_r03c03'),\n",
       " Text(0, 0, 'Pt04_r03c04'),\n",
       " Text(0, 0, 'Pt04_r03c05'),\n",
       " Text(0, 0, 'Pt04_r03c06'),\n",
       " Text(0, 0, 'Pt04_r03c07'),\n",
       " Text(0, 0, 'Pt04_r03c08'),\n",
       " Text(0, 0, 'Pt04_r03c09'),\n",
       " Text(0, 0, 'Pt04_r03c10'),\n",
       " Text(0, 0, 'Pt04_r03c11'),\n",
       " Text(0, 0, 'Pt04_r03c12'),\n",
       " Text(0, 0, 'Pt04_r04c01'),\n",
       " Text(0, 0, 'Pt04_r04c02'),\n",
       " Text(0, 0, 'Pt04_r04c03'),\n",
       " Text(0, 0, 'Pt04_r04c04'),\n",
       " Text(0, 0, 'Pt04_r04c05'),\n",
       " Text(0, 0, 'Pt04_r04c06'),\n",
       " Text(0, 0, 'Pt04_r04c07'),\n",
       " Text(0, 0, 'Pt04_r04c08'),\n",
       " Text(0, 0, 'Pt04_r04c09'),\n",
       " Text(0, 0, 'Pt04_r04c10'),\n",
       " Text(0, 0, 'Pt04_r04c11'),\n",
       " Text(0, 0, 'Pt04_r04c12'),\n",
       " Text(0, 0, 'Pt04_r05c01'),\n",
       " Text(0, 0, 'Pt04_r05c02'),\n",
       " Text(0, 0, 'Pt04_r05c03'),\n",
       " Text(0, 0, 'Pt04_r05c04'),\n",
       " Text(0, 0, 'Pt04_r05c05'),\n",
       " Text(0, 0, 'Pt04_r05c06'),\n",
       " Text(0, 0, 'Pt04_r05c07'),\n",
       " Text(0, 0, 'Pt04_r05c08'),\n",
       " Text(0, 0, 'Pt04_r05c09'),\n",
       " Text(0, 0, 'Pt04_r05c10'),\n",
       " Text(0, 0, 'Pt04_r05c11'),\n",
       " Text(0, 0, 'Pt04_r05c12'),\n",
       " Text(0, 0, 'Pt04_r06c01'),\n",
       " Text(0, 0, 'Pt04_r06c02'),\n",
       " Text(0, 0, 'Pt04_r06c03'),\n",
       " Text(0, 0, 'Pt04_r06c04'),\n",
       " Text(0, 0, 'Pt04_r06c05'),\n",
       " Text(0, 0, 'Pt04_r06c06'),\n",
       " Text(0, 0, 'Pt04_r06c07'),\n",
       " Text(0, 0, 'Pt04_r06c08'),\n",
       " Text(0, 0, 'Pt04_r06c09'),\n",
       " Text(0, 0, 'Pt04_r06c10'),\n",
       " Text(0, 0, 'Pt04_r06c11'),\n",
       " Text(0, 0, 'Pt04_r06c12'),\n",
       " Text(0, 0, 'Pt04_r07c01'),\n",
       " Text(0, 0, 'Pt04_r07c02'),\n",
       " Text(0, 0, 'Pt04_r07c03'),\n",
       " Text(0, 0, 'Pt04_r07c04'),\n",
       " Text(0, 0, 'Pt04_r07c05'),\n",
       " Text(0, 0, 'Pt04_r07c06'),\n",
       " Text(0, 0, 'Pt04_r07c07'),\n",
       " Text(0, 0, 'Pt04_r07c08'),\n",
       " Text(0, 0, 'Pt04_r07c09'),\n",
       " Text(0, 0, 'Pt04_r07c10'),\n",
       " Text(0, 0, 'Pt04_r07c11'),\n",
       " Text(0, 0, 'Pt04_r07c12'),\n",
       " Text(0, 0, 'Pt04_r08c01'),\n",
       " Text(0, 0, 'Pt04_r08c02'),\n",
       " Text(0, 0, 'Pt04_r08c03'),\n",
       " Text(0, 0, 'Pt04_r08c04'),\n",
       " Text(0, 0, 'Pt04_r08c05'),\n",
       " Text(0, 0, 'Pt04_r08c06'),\n",
       " Text(0, 0, 'Pt04_r08c07'),\n",
       " Text(0, 0, 'Pt04_r08c08'),\n",
       " Text(0, 0, 'Pt04_r08c09'),\n",
       " Text(0, 0, 'Pt04_r08c10'),\n",
       " Text(0, 0, 'Pt04_r08c11'),\n",
       " Text(0, 0, 'Pt04_r08c12'),\n",
       " Text(0, 0, 'Pt11_r02c12')]"
      ]
     },
     "execution_count": 15,
     "metadata": {},
     "output_type": "execute_result"
    },
    {
     "data": {
      "image/png": "[encoded data removed]",
      "text/plain": [
       "<Figure size 1440x720 with 1 Axes>"
      ]
     },
     "metadata": {
      "needs_background": "light"
     },
     "output_type": "display_data"
    }
   ],
   "source": [
    "fig, ax = plt.subplots(figsize=(20, 10))\n",
    "chart = sn.barplot(x=uniq_wells, y=num_anomalies, color='b')\n",
    "chart.set_xticklabels(chart.get_xticklabels(), rotation=90)"
   ]
  },
  {
   "cell_type": "code",
   "execution_count": 16,
   "metadata": {},
   "outputs": [
    {
     "data": {
      "text/plain": [
       "[1943.9287823812338,\n",
       " 1722.8544733254705,\n",
       " 1962.756175549628,\n",
       " 1528.4046692607003,\n",
       " 1390.263290235712,\n",
       " 1786.1337896431212,\n",
       " 1789.1089854635836,\n",
       " 1851.9483904600547,\n",
       " 1752.1558018353137,\n",
       " 1740.5394625317845,\n",
       " 1813.0389889911726,\n",
       " 1989.2802166212282,\n",
       " 1850.4557392244708,\n",
       " 1729.1830608259743,\n",
       " 1811.9566595747679,\n",
       " 1607.0145177519046,\n",
       " 1752.2789323705372,\n",
       " 2196.2081358404084,\n",
       " 1625.5784081588436,\n",
       " 1794.2155106219607,\n",
       " 4764.795144157815,\n",
       " 1955.8571453816112,\n",
       " 1835.6005591353858,\n",
       " 2028.3307810107196,\n",
       " 1902.5809039850228,\n",
       " 1718.1323782995091,\n",
       " 1706.7557942030573,\n",
       " 1586.5437126495967,\n",
       " 1633.4622190182843,\n",
       " 1691.7809299903752,\n",
       " 1622.584251716978,\n",
       " 1492.6253687315634,\n",
       " 1721.6398323945175,\n",
       " 1816.209584511573,\n",
       " 1836.3294957827986,\n",
       " 1955.7942105163645,\n",
       " 10000.0,\n",
       " 1679.967876323847,\n",
       " 1776.9984137840709,\n",
       " 1751.1770536488664,\n",
       " 1786.5548246937421,\n",
       " 1616.4661723533213,\n",
       " 1779.350104821803,\n",
       " 2015.9464355026523,\n",
       " 1737.7519438363404,\n",
       " 1682.2565091610415,\n",
       " 1849.4126898314248,\n",
       " 1705.7580028186028,\n",
       " 2278.4637424108055,\n",
       " 1723.1348093438082,\n",
       " 1929.099239467473,\n",
       " 1822.2531340650394,\n",
       " 1969.1494188138483,\n",
       " 1676.659694786583,\n",
       " 1647.3298908425388,\n",
       " 1799.5885809000902,\n",
       " 2318.9448441247005,\n",
       " 1768.141383792178,\n",
       " 1858.6319640024603,\n",
       " 1809.2021643606784,\n",
       " 1714.9253183603068,\n",
       " 1756.9770410668343,\n",
       " 1420.3359677033084,\n",
       " 1626.0978257294169,\n",
       " 1762.5108623421766,\n",
       " 1918.5170629462239,\n",
       " 1858.8209184724885,\n",
       " 1845.0380036099289,\n",
       " 2015.0504474910333,\n",
       " 2058.025751072961,\n",
       " 1870.7808984082008,\n",
       " 2787.1828843417243,\n",
       " 1904.4133026563482,\n",
       " 2166.525589941574,\n",
       " 2114.094586766822,\n",
       " 1541.8844703235625,\n",
       " 1749.3644032124998,\n",
       " 2002.5293332396543,\n",
       " 1696.3297142762713,\n",
       " 2030.6661130553414,\n",
       " 1691.0156591724258,\n",
       " 1869.364495419462,\n",
       " 2035.133082969074,\n",
       " 2072.034816171403,\n",
       " 1566.2788604715854,\n",
       " 1729.9843520624627,\n",
       " 2209.5305385460824,\n",
       " 2311.8330342808576,\n",
       " 2025.8844547853002,\n",
       " 2207.5612505755885,\n",
       " 2000.6756899427776,\n",
       " 2148.7588265268982,\n",
       " 2157.0165430690245,\n",
       " 1692.6481273531938,\n",
       " 1760.018086248799,\n",
       " 2250.4465583849124,\n",
       " 1907.892864258674]"
      ]
     },
     "execution_count": 16,
     "metadata": {},
     "output_type": "execute_result"
    }
   ],
   "source": [
    "num_anomalies\n"
   ]
  },
  {
   "cell_type": "code",
   "execution_count": null,
   "metadata": {},
   "outputs": [],
   "source": []
  }
 ],
 "metadata": {
  "kernelspec": {
   "display_name": "Python 3",
   "language": "python",
   "name": "python3"
  },
  "language_info": {
   "codemirror_mode": {
    "name": "ipython",
    "version": 3
   },
   "file_extension": ".py",
   "mimetype": "text/x-python",
   "name": "python",
   "nbconvert_exporter": "python",
   "pygments_lexer": "ipython3",
   "version": "3.7.5"
  }
 },
 "nbformat": 4,
 "nbformat_minor": 4
}
