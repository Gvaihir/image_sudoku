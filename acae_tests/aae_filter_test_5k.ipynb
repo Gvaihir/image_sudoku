{
 "cells": [
  {
   "cell_type": "code",
   "execution_count": 1,
   "metadata": {},
   "outputs": [
    {
     "name": "stderr",
     "output_type": "stream",
     "text": [
      "Using TensorFlow backend.\n"
     ]
    }
   ],
   "source": [
    "import argparse\n",
    "from argparse import RawTextHelpFormatter\n",
    "import numpy as np\n",
    "import os\n",
    "\n",
    "# keras\n",
    "from keras.models import Sequential, Model, load_model\n",
    "from keras.layers import Input, Dense, Conv2D, MaxPooling2D, Reshape, UpSampling2D, Conv2DTranspose, Flatten, BatchNormalization\n",
    "from keras.preprocessing.image import ImageDataGenerator\n",
    "from keras.utils import plot_model\n",
    "from keras.optimizers import Adam\n",
    "\n",
    "\n",
    "from absl import app\n",
    "\n",
    "# logging\n",
    "import wandb\n",
    "from datetime import datetime\n",
    "import matplotlib.pyplot as plt\n",
    "from matplotlib import gridspec, colors\n",
    "import shutil\n",
    "from glob import glob\n",
    "from sklearn.metrics import mean_squared_error as mse"
   ]
  },
  {
   "cell_type": "markdown",
   "metadata": {},
   "source": [
    "## Load models"
   ]
  },
  {
   "cell_type": "code",
   "execution_count": 2,
   "metadata": {},
   "outputs": [],
   "source": [
    "models = \"/home/aogorodnikov/aae_5k\"\n",
    "wd = \"/home/aogorodnikov/test\"\n",
    "batch = 16"
   ]
  },
  {
   "cell_type": "code",
   "execution_count": 3,
   "metadata": {},
   "outputs": [],
   "source": [
    "def model_compile(models):\n",
    "    '''\n",
    "    Loads and compiles models\n",
    "    :param models: directory with encoder, decoder and discriminator\n",
    "\n",
    "    :return: compiled autoencoder and discriminator\n",
    "    '''\n",
    "\n",
    "    encoder = load_model(os.path.join(models, \"encoder.h5\"))\n",
    "    decoder = load_model(os.path.join(models, \"decoder.h5\"))\n",
    "    discriminator = load_model(os.path.join(models, \"discriminator.h5\"))\n",
    "\n",
    "    # get input and latent space shapes\n",
    "    latent_dim = encoder.get_layer(index=-1).output_shape[1]\n",
    "    input_dim = encoder.get_layer(index=0).input_shape[1:]\n",
    "\n",
    "    # compile imported models into assembled autoencoder\n",
    "    autoencoder_input = Input(shape=input_dim)\n",
    "    autoencoder = Model(autoencoder_input, decoder(encoder(autoencoder_input)))\n",
    "    autoencoder.compile(optimizer=Adam(lr=1e-4), loss=\"mean_squared_error\", metrics=['accuracy'])\n",
    "    discriminator.compile(optimizer=Adam(lr=1e-4), loss=\"binary_crossentropy\", metrics=['accuracy'])\n",
    "\n",
    "    return autoencoder, discriminator, input_dim, latent_dim"
   ]
  },
  {
   "cell_type": "code",
   "execution_count": 4,
   "metadata": {},
   "outputs": [
    {
     "name": "stdout",
     "output_type": "stream",
     "text": [
      "WARNING:tensorflow:From /home/aogorodnikov/anaconda3/envs/imgSudoku/lib/python3.7/site-packages/tensorflow/python/framework/op_def_library.py:263: colocate_with (from tensorflow.python.framework.ops) is deprecated and will be removed in a future version.\n",
      "Instructions for updating:\n",
      "Colocations handled automatically by placer.\n"
     ]
    },
    {
     "name": "stderr",
     "output_type": "stream",
     "text": [
      "/home/aogorodnikov/anaconda3/envs/imgSudoku/lib/python3.7/site-packages/keras/engine/saving.py:310: UserWarning: No training configuration found in save file: the model was *not* compiled. Compile it manually.\n",
      "  warnings.warn('No training configuration found in save file: '\n"
     ]
    },
    {
     "name": "stdout",
     "output_type": "stream",
     "text": [
      "WARNING:tensorflow:From /home/aogorodnikov/anaconda3/envs/imgSudoku/lib/python3.7/site-packages/tensorflow/python/ops/math_ops.py:3066: to_int32 (from tensorflow.python.ops.math_ops) is deprecated and will be removed in a future version.\n",
      "Instructions for updating:\n",
      "Use tf.cast instead.\n"
     ]
    }
   ],
   "source": [
    "autoencoder, discriminator, input_dim, latent_dim = model_compile(models)"
   ]
  },
  {
   "cell_type": "code",
   "execution_count": 35,
   "metadata": {},
   "outputs": [
    {
     "name": "stdout",
     "output_type": "stream",
     "text": [
      "Found 313 images belonging to 1 classes.\n"
     ]
    }
   ],
   "source": [
    "data_loader = ImageDataGenerator(\n",
    "    rescale=1. / 255,\n",
    "    featurewise_center=True,\n",
    "    featurewise_std_normalization=True,\n",
    "    shear_range=0,\n",
    "    zoom_range=0,\n",
    "    horizontal_flip=False)\n",
    "# load data\n",
    "data_in = data_loader.flow_from_directory(\n",
    "    wd,\n",
    "    target_size=(input_dim[0], input_dim[0]),\n",
    "    batch_size=batch,\n",
    "    shuffle=False,\n",
    "    class_mode='input')"
   ]
  },
  {
   "cell_type": "code",
   "execution_count": 36,
   "metadata": {},
   "outputs": [
    {
     "data": {
      "text/plain": [
       "['/home/aogorodnikov/test/cytokinesis/Pt04_r01c01_f01_0386.tif',\n",
       " '/home/aogorodnikov/test/cytokinesis/Pt04_r01c01_f02_0304.tif',\n",
       " '/home/aogorodnikov/test/cytokinesis/Pt04_r01c01_f02_0652.tif',\n",
       " '/home/aogorodnikov/test/cytokinesis/Pt04_r01c01_f04_0256.tif',\n",
       " '/home/aogorodnikov/test/cytokinesis/Pt04_r01c01_f04_0319.tif',\n",
       " '/home/aogorodnikov/test/cytokinesis/Pt04_r01c01_f04_0330.tif',\n",
       " '/home/aogorodnikov/test/cytokinesis/Pt04_r01c01_f05_0031.tif',\n",
       " '/home/aogorodnikov/test/cytokinesis/Pt04_r01c01_f05_0302.tif',\n",
       " '/home/aogorodnikov/test/cytokinesis/Pt04_r01c01_f06_0232.tif',\n",
       " '/home/aogorodnikov/test/cytokinesis/Pt04_r01c01_f08_0316.tif',\n",
       " '/home/aogorodnikov/test/cytokinesis/Pt04_r01c01_f09_0084.tif',\n",
       " '/home/aogorodnikov/test/cytokinesis/Pt04_r01c01_f10_0346.tif',\n",
       " '/home/aogorodnikov/test/cytokinesis/Pt04_r01c01_f11_0035.tif',\n",
       " '/home/aogorodnikov/test/cytokinesis/Pt04_r01c01_f11_0037.tif',\n",
       " '/home/aogorodnikov/test/cytokinesis/Pt04_r01c01_f11_0208.tif',\n",
       " '/home/aogorodnikov/test/cytokinesis/Pt04_r01c01_f11_0379.tif',\n",
       " '/home/aogorodnikov/test/cytokinesis/Pt04_r01c01_f12_0266.tif']"
      ]
     },
     "execution_count": 36,
     "metadata": {},
     "output_type": "execute_result"
    }
   ],
   "source": [
    "data_in.filepaths[:17]"
   ]
  },
  {
   "cell_type": "code",
   "execution_count": 37,
   "metadata": {},
   "outputs": [
    {
     "name": "stderr",
     "output_type": "stream",
     "text": [
      "/home/aogorodnikov/anaconda3/envs/imgSudoku/lib/python3.7/site-packages/keras_preprocessing/image/image_data_generator.py:716: UserWarning: This ImageDataGenerator specifies `featurewise_center`, but it hasn't been fit on any training data. Fit it first by calling `.fit(numpy_data)`.\n",
      "  warnings.warn('This ImageDataGenerator specifies '\n",
      "/home/aogorodnikov/anaconda3/envs/imgSudoku/lib/python3.7/site-packages/keras_preprocessing/image/image_data_generator.py:724: UserWarning: This ImageDataGenerator specifies `featurewise_std_normalization`, but it hasn't been fit on any training data. Fit it first by calling `.fit(numpy_data)`.\n",
      "  warnings.warn('This ImageDataGenerator specifies '\n"
     ]
    }
   ],
   "source": [
    "batch_index = 0\n",
    "\n",
    "data = data_in.next()\n",
    "data_list = data[0]\n",
    "data_size = len(data_list)\n",
    "\n",
    "ae_pred = autoencoder.predict_on_batch(data_list)"
   ]
  },
  {
   "cell_type": "code",
   "execution_count": 38,
   "metadata": {},
   "outputs": [],
   "source": [
    "def mse_batch(data_x, data_y, input_dim):\n",
    "    shape_1 = input_dim[0]\n",
    "    shape_2 = input_dim[1:]\n",
    "    reshape_x = np.reshape(data_x, (shape_1, np.prod(shape_2)))\n",
    "    reshape_y = np.reshape(data_y, (shape_1, np.prod(shape_2)))\n",
    "    return mse(reshape_x, reshape_y)"
   ]
  },
  {
   "cell_type": "code",
   "execution_count": 39,
   "metadata": {},
   "outputs": [
    {
     "data": {
      "text/plain": [
       "0.005355167"
      ]
     },
     "execution_count": 39,
     "metadata": {},
     "output_type": "execute_result"
    }
   ],
   "source": [
    "mse_batch(data_list[0], ae_pred[0], input_dim)"
   ]
  },
  {
   "cell_type": "code",
   "execution_count": 40,
   "metadata": {},
   "outputs": [],
   "source": [
    "lol = [mse_batch(data_list[x], ae_pred[x], input_dim) for x in range(len(ae_pred))]"
   ]
  },
  {
   "cell_type": "code",
   "execution_count": 41,
   "metadata": {},
   "outputs": [
    {
     "data": {
      "text/plain": [
       "[('/home/aogorodnikov/test/cytokinesis/Pt04_r01c01_f01_0386.tif', 0.005355167),\n",
       " ('/home/aogorodnikov/test/cytokinesis/Pt04_r01c01_f02_0304.tif', 0.002242009),\n",
       " ('/home/aogorodnikov/test/cytokinesis/Pt04_r01c01_f02_0652.tif', 0.002219761),\n",
       " ('/home/aogorodnikov/test/cytokinesis/Pt04_r01c01_f04_0256.tif',\n",
       "  0.0024694847),\n",
       " ('/home/aogorodnikov/test/cytokinesis/Pt04_r01c01_f04_0319.tif',\n",
       "  0.0025952214),\n",
       " ('/home/aogorodnikov/test/cytokinesis/Pt04_r01c01_f04_0330.tif',\n",
       "  0.0034505266),\n",
       " ('/home/aogorodnikov/test/cytokinesis/Pt04_r01c01_f05_0031.tif',\n",
       "  0.0007605102),\n",
       " ('/home/aogorodnikov/test/cytokinesis/Pt04_r01c01_f05_0302.tif',\n",
       "  0.0019103446),\n",
       " ('/home/aogorodnikov/test/cytokinesis/Pt04_r01c01_f06_0232.tif',\n",
       "  0.0011334108),\n",
       " ('/home/aogorodnikov/test/cytokinesis/Pt04_r01c01_f08_0316.tif',\n",
       "  0.0019001752),\n",
       " ('/home/aogorodnikov/test/cytokinesis/Pt04_r01c01_f09_0084.tif', 0.00150565),\n",
       " ('/home/aogorodnikov/test/cytokinesis/Pt04_r01c01_f10_0346.tif',\n",
       "  0.0071417787),\n",
       " ('/home/aogorodnikov/test/cytokinesis/Pt04_r01c01_f11_0035.tif', 0.001163348),\n",
       " ('/home/aogorodnikov/test/cytokinesis/Pt04_r01c01_f11_0037.tif', 0.001712867),\n",
       " ('/home/aogorodnikov/test/cytokinesis/Pt04_r01c01_f11_0208.tif',\n",
       "  0.0044475147),\n",
       " ('/home/aogorodnikov/test/cytokinesis/Pt04_r01c01_f11_0379.tif', 0.005744009)]"
      ]
     },
     "execution_count": 41,
     "metadata": {},
     "output_type": "execute_result"
    }
   ],
   "source": [
    "list(zip(data_in.filepaths[:17],lol))"
   ]
  },
  {
   "cell_type": "raw",
   "metadata": {},
   "source": [
    "other:\n",
    "\n",
    "[('/home/aogorodnikov/test/other/Pt04_r01c01_f01_0085.tif', 0.0054354295),\n",
    " ('/home/aogorodnikov/test/other/Pt04_r01c01_f01_0254.tif', 0.005878482),\n",
    " ('/home/aogorodnikov/test/other/Pt04_r01c01_f01_0569.tif', 0.0048597422),\n",
    " ('/home/aogorodnikov/test/other/Pt04_r01c01_f02_0068.tif', 0.0013983513),\n",
    " ('/home/aogorodnikov/test/other/Pt04_r01c01_f03_0158.tif', 0.0018941566),\n",
    " ('/home/aogorodnikov/test/other/Pt04_r01c01_f03_0232.tif', 0.0025490457),\n",
    " ('/home/aogorodnikov/test/other/Pt04_r01c01_f03_0242.tif', 0.0021216546),\n",
    " ('/home/aogorodnikov/test/other/Pt04_r01c01_f03_0845.tif', 0.0018080916),\n",
    " ('/home/aogorodnikov/test/other/Pt04_r01c01_f03_0857.tif', 0.0034494437),\n",
    " ('/home/aogorodnikov/test/other/Pt04_r01c01_f03_0877.tif', 0.004320234),\n",
    " ('/home/aogorodnikov/test/other/Pt04_r01c01_f04_0104.tif', 0.0009806803),\n",
    " ('/home/aogorodnikov/test/other/Pt04_r01c01_f04_0181.tif', 0.0018811688),\n",
    " ('/home/aogorodnikov/test/other/Pt04_r01c01_f04_0335.tif', 0.003765294),\n",
    " ('/home/aogorodnikov/test/other/Pt04_r01c01_f04_0651.tif', 0.0005596875),\n",
    " ('/home/aogorodnikov/test/other/Pt04_r01c01_f05_0195.tif', 0.0010242492),\n",
    " ('/home/aogorodnikov/test/other/Pt04_r01c01_f05_0369.tif', 0.002744575)]\n",
    " \n",
    " \n",
    " polarity:\n",
    " \n",
    " [('/home/aogorodnikov/test/polarity/Pt04_r01c01_f02_0032.tif', 0.0016491123),\n",
    " ('/home/aogorodnikov/test/polarity/Pt04_r01c01_f08_0257.tif', 0.0037476788),\n",
    " ('/home/aogorodnikov/test/polarity/Pt04_r01c01_f09_0342.tif', 0.003533458),\n",
    " ('/home/aogorodnikov/test/polarity/Pt04_r01c01_f10_0234.tif', 0.00452395),\n",
    " ('/home/aogorodnikov/test/polarity/Pt04_r01c01_f10_0236.tif', 0.006366094),\n",
    " ('/home/aogorodnikov/test/polarity/Pt04_r01c01_f11_0224.tif', 0.0038273542),\n",
    " ('/home/aogorodnikov/test/polarity/Pt04_r01c01_f13_0716.tif', 0.0030449776),\n",
    " ('/home/aogorodnikov/test/polarity/Pt04_r01c01_f14_0961.tif', 0.0022476623),\n",
    " ('/home/aogorodnikov/test/polarity/Pt04_r01c01_f15_0732.tif', 0.005603236),\n",
    " ('/home/aogorodnikov/test/polarity/Pt04_r01c01_f16_0516.tif', 0.0044040177),\n",
    " ('/home/aogorodnikov/test/polarity/Pt04_r01c01_f16_0548.tif', 0.0048056436),\n",
    " ('/home/aogorodnikov/test/polarity/Pt04_r01c01_f16_0550.tif', 0.0051482073),\n",
    " ('/home/aogorodnikov/test/polarity/Pt04_r01c01_f16_0633.tif', 0.0026024014),\n",
    " ('/home/aogorodnikov/test/polarity/Pt04_r01c01_f17_0252.tif', 0.0016017993),\n",
    " ('/home/aogorodnikov/test/polarity/Pt04_r01c01_f17_0557.tif', 0.0052225944),\n",
    " ('/home/aogorodnikov/test/polarity/Pt04_r01c01_f17_0563.tif', 0.005477694)]\n",
    " \n",
    " \n",
    " \n",
    "cyto:\n",
    "[('/home/aogorodnikov/test/cytokinesis/Pt04_r01c01_f01_0386.tif', 0.005355167),\n",
    " ('/home/aogorodnikov/test/cytokinesis/Pt04_r01c01_f02_0304.tif', 0.002242009),\n",
    " ('/home/aogorodnikov/test/cytokinesis/Pt04_r01c01_f02_0652.tif', 0.002219761),\n",
    " ('/home/aogorodnikov/test/cytokinesis/Pt04_r01c01_f04_0256.tif', 0.0024694847),\n",
    " ('/home/aogorodnikov/test/cytokinesis/Pt04_r01c01_f04_0319.tif', 0.0025952214),\n",
    " ('/home/aogorodnikov/test/cytokinesis/Pt04_r01c01_f04_0330.tif', 0.0034505266),\n",
    " ('/home/aogorodnikov/test/cytokinesis/Pt04_r01c01_f05_0031.tif', 0.0007605102),\n",
    " ('/home/aogorodnikov/test/cytokinesis/Pt04_r01c01_f05_0302.tif', 0.0019103446),\n",
    " ('/home/aogorodnikov/test/cytokinesis/Pt04_r01c01_f06_0232.tif', 0.0011334108),\n",
    " ('/home/aogorodnikov/test/cytokinesis/Pt04_r01c01_f08_0316.tif', 0.0019001752),\n",
    " ('/home/aogorodnikov/test/cytokinesis/Pt04_r01c01_f09_0084.tif', 0.00150565),\n",
    " ('/home/aogorodnikov/test/cytokinesis/Pt04_r01c01_f10_0346.tif', 0.0071417787),\n",
    " ('/home/aogorodnikov/test/cytokinesis/Pt04_r01c01_f11_0035.tif', 0.001163348),\n",
    " ('/home/aogorodnikov/test/cytokinesis/Pt04_r01c01_f11_0037.tif', 0.001712867),\n",
    " ('/home/aogorodnikov/test/cytokinesis/Pt04_r01c01_f11_0208.tif', 0.0044475147),\n",
    " ('/home/aogorodnikov/test/cytokinesis/Pt04_r01c01_f11_0379.tif', 0.005744009)]"
   ]
  },
  {
   "cell_type": "code",
   "execution_count": 13,
   "metadata": {},
   "outputs": [
    {
     "data": {
      "text/plain": [
       "0.0032688442"
      ]
     },
     "execution_count": 13,
     "metadata": {},
     "output_type": "execute_result"
    }
   ],
   "source": [
    "np.mean(lol)"
   ]
  },
  {
   "cell_type": "code",
   "execution_count": 14,
   "metadata": {},
   "outputs": [
    {
     "name": "stderr",
     "output_type": "stream",
     "text": [
      "/home/aogorodnikov/anaconda3/envs/imgSudoku/lib/python3.7/site-packages/keras_preprocessing/image/image_data_generator.py:716: UserWarning: This ImageDataGenerator specifies `featurewise_center`, but it hasn't been fit on any training data. Fit it first by calling `.fit(numpy_data)`.\n",
      "  warnings.warn('This ImageDataGenerator specifies '\n",
      "/home/aogorodnikov/anaconda3/envs/imgSudoku/lib/python3.7/site-packages/keras_preprocessing/image/image_data_generator.py:724: UserWarning: This ImageDataGenerator specifies `featurewise_std_normalization`, but it hasn't been fit on any training data. Fit it first by calling `.fit(numpy_data)`.\n",
      "  warnings.warn('This ImageDataGenerator specifies '\n"
     ]
    }
   ],
   "source": [
    "data = data_in.next()\n",
    "data_list = data[0]\n",
    "data_size = len(data_list)"
   ]
  },
  {
   "cell_type": "code",
   "execution_count": 15,
   "metadata": {},
   "outputs": [
    {
     "data": {
      "text/plain": [
       "0.003834370367603595"
      ]
     },
     "execution_count": 15,
     "metadata": {},
     "output_type": "execute_result"
    }
   ],
   "source": [
    "autoencoder.evaluate_generator(data_in)[0]"
   ]
  },
  {
   "cell_type": "markdown",
   "metadata": {},
   "source": [
    "## Notes  \n",
    "We create a function that takes a single class (cellular phenotype) and test reconstruction loss for autoencoder and discriminator"
   ]
  },
  {
   "cell_type": "code",
   "execution_count": 7,
   "metadata": {},
   "outputs": [
    {
     "ename": "SyntaxError",
     "evalue": "invalid syntax (<ipython-input-7-5058e3a51246>, line 1)",
     "output_type": "error",
     "traceback": [
      "\u001b[0;36m  File \u001b[0;32m\"<ipython-input-7-5058e3a51246>\"\u001b[0;36m, line \u001b[0;32m1\u001b[0m\n\u001b[0;31m    def anomaly_score(cell_pheno draw = true):\u001b[0m\n\u001b[0m                                    ^\u001b[0m\n\u001b[0;31mSyntaxError\u001b[0m\u001b[0;31m:\u001b[0m invalid syntax\n"
     ]
    }
   ],
   "source": [
    "def anomaly_score(cell_pheno draw = true):\n",
    "    [shutil.rmtree(x) for x in glob(\"/home/aogorodnikov/test/*\")]\n",
    "    input_dir = os.path.join(\"/home/aogorodnikov/classes_rgb_corrected/\", cell_pheno)\n",
    "    shutil.copytree(input_dir, os.path.join(\"/home/aogorodnikov/test/\", cell_pheno))\n",
    "    img_wd = \"/home/aogorodnikov/test\"\n",
    "    batch = 56\n",
    "    input_dim = (104,104,3)\n",
    "    data_loader = ImageDataGenerator(\n",
    "        rescale=1. / 255,\n",
    "        featurewise_center=True,\n",
    "        featurewise_std_normalization=True,\n",
    "        shear_range=0.2,\n",
    "        zoom_range=0.2,\n",
    "        horizontal_flip=True)\n",
    "\n",
    "    train_data = data_loader.flow_from_directory(\n",
    "        img_wd,\n",
    "        target_size=(input_dim[0], input_dim[0]),\n",
    "        batch_size=batch,\n",
    "        class_mode='input')\n",
    "    \n",
    "    batch_index = 0\n",
    "    discriminator_batch_losses = []\n",
    "    while batch_index <= train_data.batch_index:\n",
    "        data = train_data.next()\n",
    "        data_list = data[0]\n",
    "        data_size = len(data_list)\n",
    "\n",
    "        fake_latent = encoder.predict(data_list)\n",
    "        discriminator_input = np.concatenate((fake_latent, np.random.randn(data_size, latent_dim) * 5.))\n",
    "        discriminator_labels = np.concatenate((np.zeros((data_size, 1)), np.ones((data_size, 1))))\n",
    "        discriminator_history = discriminator.evaluate(x=discriminator_input, y=discriminator_labels)\n",
    "\n",
    "            \n",
    "        batch_index = batch_index + 1\n",
    "        discriminator_batch_losses.append(discriminator_history[0])\n",
    "    \n",
    "    \n",
    "    \n",
    "    \n",
    "    ae_res = autoencoder.evaluate_generator(train_data)[0]\n",
    "    adv_res = np.mean(discriminator_batch_losses)\n",
    "    \n",
    "    if draw:\n",
    "        fig = plt.figure(figsize=(5 * len(samples), 5))\n",
    "        gs = gridspec.GridSpec(1, len(samples))\n",
    "        for i, sample in enumerate(samples):\n",
    "            ax = plt.Subplot(fig, gs[i])\n",
    "            ax.imshow((sample[\"image\"] * 255.).astype(\"int\"), cmap='gray')\n",
    "            ax.set_xticks([])\n",
    "            ax.set_yticks([])\n",
    "            ax.set_aspect('equal')\n",
    "            ax.set_title(sample[\"title\"])\n",
    "            fig.add_subplot(ax)\n",
    "        plt.show(block=False)\n",
    "        \n",
    "    \n",
    "    print('Class: {}\\nae_loss: {}\\nadv_loss: {}'.format(cell_pheno, ae_res, adv_res))\n",
    "    return [ae_res, adv_res]\n",
    "    \n",
    "        "
   ]
  },
  {
   "cell_type": "code",
   "execution_count": null,
   "metadata": {},
   "outputs": [],
   "source": []
  },
  {
   "cell_type": "code",
   "execution_count": null,
   "metadata": {},
   "outputs": [],
   "source": []
  }
 ],
 "metadata": {
  "accelerator": "GPU",
  "colab": {
   "collapsed_sections": [],
   "name": "Untitled5.ipynb",
   "provenance": [],
   "version": "0.3.2"
  },
  "kernelspec": {
   "display_name": "Python 3",
   "language": "python",
   "name": "python3"
  },
  "language_info": {
   "codemirror_mode": {
    "name": "ipython",
    "version": 3
   },
   "file_extension": ".py",
   "mimetype": "text/x-python",
   "name": "python",
   "nbconvert_exporter": "python",
   "pygments_lexer": "ipython3",
   "version": "3.7.3"
  }
 },
 "nbformat": 4,
 "nbformat_minor": 4
}
