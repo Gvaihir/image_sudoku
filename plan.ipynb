{
 "cells": [
  {
   "cell_type": "markdown",
   "metadata": {},
   "source": [
    "## Image processing for pheno-sudoku  \n",
    "### Plan  \n",
    "\n",
    "1. Ground truth:  \n",
    "    a) Bin image to 64 chunks of 256x256;  \n",
    "    b) Code for rndom selection of images from the screen (x20); perform LoG on channel 3, make RGB image, R/G/B = 80/10/10 (R = ch3, membrane); Code how to normalize channels for all the images;  \n",
    "    c) create masks.  \n",
    "2. Training of StarDist  \n",
    "3. Segmentation  \n",
    "4. Clean up of single cells  \n",
    "5. Clustering with unsupervised CNN  "
   ]
  },
  {
   "cell_type": "code",
   "execution_count": null,
   "metadata": {},
   "outputs": [],
   "source": []
  }
 ],
 "metadata": {
  "kernelspec": {
   "display_name": "Python 3",
   "language": "python",
   "name": "python3"
  },
  "language_info": {
   "codemirror_mode": {
    "name": "ipython",
    "version": 3
   },
   "file_extension": ".py",
   "mimetype": "text/x-python",
   "name": "python",
   "nbconvert_exporter": "python",
   "pygments_lexer": "ipython3",
   "version": "3.6.8"
  }
 },
 "nbformat": 4,
 "nbformat_minor": 2
}
