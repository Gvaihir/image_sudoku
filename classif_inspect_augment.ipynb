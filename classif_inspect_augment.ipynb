{
 "cells": [
  {
   "cell_type": "markdown",
   "metadata": {},
   "source": [
    "### Inspect classes  \n",
    "Copy symlinks to separate folder for manual inspection"
   ]
  },
  {
   "cell_type": "code",
   "execution_count": 1,
   "metadata": {},
   "outputs": [],
   "source": [
    "import json\n",
    "import seaborn as sn\n",
    "import os \n",
    "import pandas as pd\n",
    "import re\n",
    "import numpy as np\n",
    "import matplotlib.pyplot as plt\n",
    "import shutil"
   ]
  },
  {
   "cell_type": "code",
   "execution_count": 2,
   "metadata": {},
   "outputs": [],
   "source": [
    "# set up font for export to make it illustrator friendly\n",
    "import matplotlib\n",
    "matplotlib.rcParams['pdf.fonttype'] = 42\n",
    "matplotlib.rcParams['ps.fonttype'] = 42"
   ]
  },
  {
   "cell_type": "code",
   "execution_count": 3,
   "metadata": {},
   "outputs": [],
   "source": [
    "# import JSON file\n",
    "with open('/home/aogorodnikov/classif_predict_rgb_augment/Pt04/Pt04.json') as json_file:  \n",
    "    data = json.load(json_file)"
   ]
  },
  {
   "cell_type": "code",
   "execution_count": 4,
   "metadata": {},
   "outputs": [],
   "source": [
    "# import JSON file\n",
    "with open('/home/aogorodnikov/classif_predict_rgb_augment/Pt11/Pt11.json') as json_file:  \n",
    "    neg = json.load(json_file)"
   ]
  },
  {
   "cell_type": "code",
   "execution_count": 5,
   "metadata": {},
   "outputs": [
    {
     "data": {
      "text/plain": [
       "{'Y',\n",
       " 'binucleated',\n",
       " 'confluent',\n",
       " 'croissant',\n",
       " 'cytokinesis',\n",
       " 'large_nuclei',\n",
       " 'micronuclei',\n",
       " 'negative',\n",
       " 'nuclear_mess',\n",
       " 'other',\n",
       " 'polarity',\n",
       " 'spindle'}"
      ]
     },
     "execution_count": 5,
     "metadata": {},
     "output_type": "execute_result"
    }
   ],
   "source": [
    "set(data[\"class_name\"])"
   ]
  },
  {
   "cell_type": "code",
   "execution_count": 42,
   "metadata": {},
   "outputs": [],
   "source": [
    "lol = [data[\"img_name\"][x] for x in range(len(data[\"img_name\"])) if data[\"class_name\"][x] == 'Y']"
   ]
  },
  {
   "cell_type": "code",
   "execution_count": 43,
   "metadata": {},
   "outputs": [],
   "source": [
    "lol_neg = [neg[\"img_name\"][x] for x in range(len(neg[\"img_name\"])) if neg[\"class_name\"][x] == 'Y']"
   ]
  },
  {
   "cell_type": "code",
   "execution_count": 44,
   "metadata": {},
   "outputs": [],
   "source": [
    "class CellStats(object):\n",
    "    def __init__(self, data):\n",
    "        wells = [re.search(r'Pt\\d+_r\\d+c\\d+', x)[0] for x in data['img_name']]\n",
    "        self.well = np.unique(np.array(wells))\n",
    "        self.n_tot = []\n",
    "        self.n_pheno = []\n",
    "        self.norm_counts = []\n",
    "        \n",
    "    def count_cells(self, data, selected):\n",
    "        wells = [re.search(r'Pt\\d+_r\\d+c\\d+', x)[0] for x in data['img_name']]\n",
    "        selected_wells = [re.search(r'Pt\\d+_r\\d+c\\d+', x)[0] for x in selected]\n",
    "        for well in self.well:\n",
    "            n_cells = len([x for x in wells if x == well])\n",
    "            self.n_tot.append(n_cells)\n",
    "            n_pheno = len([x for x in selected_wells if x == well])\n",
    "            self.n_pheno.append(n_pheno)\n",
    "    def normalize(self, coef = 10e3):\n",
    "        self.norm_counts = [self.n_pheno[x] * coef / self.n_tot[x] for x in range(len(self.well))]"
   ]
  },
  {
   "cell_type": "code",
   "execution_count": 45,
   "metadata": {},
   "outputs": [],
   "source": [
    "myObj = CellStats(data=data)\n",
    "myObj_neg = CellStats(data=neg)"
   ]
  },
  {
   "cell_type": "code",
   "execution_count": 46,
   "metadata": {},
   "outputs": [],
   "source": [
    "myObj.count_cells(data, lol)\n",
    "myObj_neg.count_cells(neg, lol_neg)"
   ]
  },
  {
   "cell_type": "code",
   "execution_count": 47,
   "metadata": {},
   "outputs": [],
   "source": [
    "myObj.normalize()\n",
    "myObj_neg.normalize()"
   ]
  },
  {
   "cell_type": "code",
   "execution_count": 48,
   "metadata": {},
   "outputs": [],
   "source": [
    "df = pd.DataFrame(myObj.__dict__)"
   ]
  },
  {
   "cell_type": "code",
   "execution_count": 49,
   "metadata": {},
   "outputs": [],
   "source": [
    "df_fin = df.append(pd.DataFrame(myObj_neg.__dict__), ignore_index=True)"
   ]
  },
  {
   "cell_type": "code",
   "execution_count": 50,
   "metadata": {},
   "outputs": [
    {
     "data": {
      "text/plain": [
       "[Text(0, 0, 'Pt04_r01c01'),\n",
       " Text(0, 0, 'Pt04_r01c02'),\n",
       " Text(0, 0, 'Pt04_r01c03'),\n",
       " Text(0, 0, 'Pt04_r01c04'),\n",
       " Text(0, 0, 'Pt04_r01c05'),\n",
       " Text(0, 0, 'Pt04_r01c06'),\n",
       " Text(0, 0, 'Pt04_r01c07'),\n",
       " Text(0, 0, 'Pt04_r01c08'),\n",
       " Text(0, 0, 'Pt04_r01c09'),\n",
       " Text(0, 0, 'Pt04_r01c10'),\n",
       " Text(0, 0, 'Pt04_r01c11'),\n",
       " Text(0, 0, 'Pt04_r01c12'),\n",
       " Text(0, 0, 'Pt04_r02c01'),\n",
       " Text(0, 0, 'Pt04_r02c02'),\n",
       " Text(0, 0, 'Pt04_r02c03'),\n",
       " Text(0, 0, 'Pt04_r02c04'),\n",
       " Text(0, 0, 'Pt04_r02c05'),\n",
       " Text(0, 0, 'Pt04_r02c06'),\n",
       " Text(0, 0, 'Pt04_r02c07'),\n",
       " Text(0, 0, 'Pt04_r02c08'),\n",
       " Text(0, 0, 'Pt04_r02c09'),\n",
       " Text(0, 0, 'Pt04_r02c10'),\n",
       " Text(0, 0, 'Pt04_r02c11'),\n",
       " Text(0, 0, 'Pt04_r02c12'),\n",
       " Text(0, 0, 'Pt04_r03c01'),\n",
       " Text(0, 0, 'Pt04_r03c02'),\n",
       " Text(0, 0, 'Pt04_r03c03'),\n",
       " Text(0, 0, 'Pt04_r03c04'),\n",
       " Text(0, 0, 'Pt04_r03c05'),\n",
       " Text(0, 0, 'Pt04_r03c06'),\n",
       " Text(0, 0, 'Pt04_r03c07'),\n",
       " Text(0, 0, 'Pt04_r03c08'),\n",
       " Text(0, 0, 'Pt04_r03c09'),\n",
       " Text(0, 0, 'Pt04_r03c10'),\n",
       " Text(0, 0, 'Pt04_r03c11'),\n",
       " Text(0, 0, 'Pt04_r03c12'),\n",
       " Text(0, 0, 'Pt04_r04c01'),\n",
       " Text(0, 0, 'Pt04_r04c02'),\n",
       " Text(0, 0, 'Pt04_r04c03'),\n",
       " Text(0, 0, 'Pt04_r04c04'),\n",
       " Text(0, 0, 'Pt04_r04c05'),\n",
       " Text(0, 0, 'Pt04_r04c06'),\n",
       " Text(0, 0, 'Pt04_r04c07'),\n",
       " Text(0, 0, 'Pt04_r04c08'),\n",
       " Text(0, 0, 'Pt04_r04c09'),\n",
       " Text(0, 0, 'Pt04_r04c10'),\n",
       " Text(0, 0, 'Pt04_r04c11'),\n",
       " Text(0, 0, 'Pt04_r04c12'),\n",
       " Text(0, 0, 'Pt04_r05c01'),\n",
       " Text(0, 0, 'Pt04_r05c02'),\n",
       " Text(0, 0, 'Pt04_r05c03'),\n",
       " Text(0, 0, 'Pt04_r05c04'),\n",
       " Text(0, 0, 'Pt04_r05c05'),\n",
       " Text(0, 0, 'Pt04_r05c06'),\n",
       " Text(0, 0, 'Pt04_r05c07'),\n",
       " Text(0, 0, 'Pt04_r05c08'),\n",
       " Text(0, 0, 'Pt04_r05c09'),\n",
       " Text(0, 0, 'Pt04_r05c10'),\n",
       " Text(0, 0, 'Pt04_r05c11'),\n",
       " Text(0, 0, 'Pt04_r05c12'),\n",
       " Text(0, 0, 'Pt04_r06c01'),\n",
       " Text(0, 0, 'Pt04_r06c02'),\n",
       " Text(0, 0, 'Pt04_r06c03'),\n",
       " Text(0, 0, 'Pt04_r06c04'),\n",
       " Text(0, 0, 'Pt04_r06c05'),\n",
       " Text(0, 0, 'Pt04_r06c06'),\n",
       " Text(0, 0, 'Pt04_r06c07'),\n",
       " Text(0, 0, 'Pt04_r06c08'),\n",
       " Text(0, 0, 'Pt04_r06c09'),\n",
       " Text(0, 0, 'Pt04_r06c10'),\n",
       " Text(0, 0, 'Pt04_r06c11'),\n",
       " Text(0, 0, 'Pt04_r06c12'),\n",
       " Text(0, 0, 'Pt04_r07c01'),\n",
       " Text(0, 0, 'Pt04_r07c02'),\n",
       " Text(0, 0, 'Pt04_r07c03'),\n",
       " Text(0, 0, 'Pt04_r07c04'),\n",
       " Text(0, 0, 'Pt04_r07c05'),\n",
       " Text(0, 0, 'Pt04_r07c06'),\n",
       " Text(0, 0, 'Pt04_r07c07'),\n",
       " Text(0, 0, 'Pt04_r07c08'),\n",
       " Text(0, 0, 'Pt04_r07c09'),\n",
       " Text(0, 0, 'Pt04_r07c10'),\n",
       " Text(0, 0, 'Pt04_r07c11'),\n",
       " Text(0, 0, 'Pt04_r07c12'),\n",
       " Text(0, 0, 'Pt04_r08c01'),\n",
       " Text(0, 0, 'Pt04_r08c02'),\n",
       " Text(0, 0, 'Pt04_r08c03'),\n",
       " Text(0, 0, 'Pt04_r08c04'),\n",
       " Text(0, 0, 'Pt04_r08c05'),\n",
       " Text(0, 0, 'Pt04_r08c06'),\n",
       " Text(0, 0, 'Pt04_r08c07'),\n",
       " Text(0, 0, 'Pt04_r08c08'),\n",
       " Text(0, 0, 'Pt04_r08c09'),\n",
       " Text(0, 0, 'Pt04_r08c10'),\n",
       " Text(0, 0, 'Pt04_r08c11'),\n",
       " Text(0, 0, 'Pt04_r08c12'),\n",
       " Text(0, 0, 'Pt11_r02c12')]"
      ]
     },
     "execution_count": 50,
     "metadata": {},
     "output_type": "execute_result"
    },
    {
     "data": {
      "image/png": "[encoded data removed]",
      "text/plain": [
       "<Figure size 1440x720 with 1 Axes>"
      ]
     },
     "metadata": {
      "needs_background": "light"
     },
     "output_type": "display_data"
    }
   ],
   "source": [
    "fig, ax = plt.subplots(figsize=(20, 10))\n",
    "chart = sn.barplot(x=\"well\", y=\"norm_counts\", data=df_fin, color=\"b\")\n",
    "chart.set_xticklabels(chart.get_xticklabels(), rotation=90)\n",
    "#plt.savefig(\"/home/aogorodnikov/plots/Y.pdf\", transparent=True)"
   ]
  },
  {
   "cell_type": "code",
   "execution_count": null,
   "metadata": {},
   "outputs": [],
   "source": []
  }
 ],
 "metadata": {
  "kernelspec": {
   "display_name": "Python 3",
   "language": "python",
   "name": "python3"
  },
  "language_info": {
   "codemirror_mode": {
    "name": "ipython",
    "version": 3
   },
   "file_extension": ".py",
   "mimetype": "text/x-python",
   "name": "python",
   "nbconvert_exporter": "python",
   "pygments_lexer": "ipython3",
   "version": "3.7.3"
  }
 },
 "nbformat": 4,
 "nbformat_minor": 4
}
