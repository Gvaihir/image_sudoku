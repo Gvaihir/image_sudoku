{
 "cells": [
  {
   "cell_type": "code",
   "execution_count": null,
   "metadata": {},
   "outputs": [],
   "source": [
    "import argparse\n",
    "from argparse import RawTextHelpFormatter\n",
    "import numpy as np\n",
    "import os\n",
    "\n",
    "# keras\n",
    "from keras.models import Sequential, Model, load_model\n",
    "from keras.layers import Input, Dense, Conv2D, MaxPooling2D, Reshape, UpSampling2D, Conv2DTranspose, Flatten, BatchNormalization\n",
    "from keras.preprocessing.image import ImageDataGenerator\n",
    "from keras.utils import plot_model\n",
    "from keras.optimizers import Adam\n",
    "\n",
    "\n",
    "from absl import app\n",
    "\n",
    "# logging\n",
    "import wandb\n",
    "from datetime import datetime\n",
    "import matplotlib.pyplot as plt\n",
    "from matplotlib import gridspec, colors\n",
    "import shutil\n",
    "from glob import glob\n",
    "from sklearn.metrics import mean_squared_error as mse"
   ]
  },
  {
   "cell_type": "markdown",
   "metadata": {},
   "source": [
    "## Load models"
   ]
  },
  {
   "cell_type": "code",
   "execution_count": null,
   "metadata": {},
   "outputs": [],
   "source": [
    "encoder = load_model(\"/home/aogorodnikov/aae/encoder.h5\")\n",
    "decoder = load_model(\"/home/aogorodnikov/aae/decoder.h5\")\n",
    "discriminator = load_model(\"/home/aogorodnikov/aae/discriminator.h5\")\n",
    "generator = load_model(\"/home/aogorodnikov/aae/generator.h5\")"
   ]
  },
  {
   "cell_type": "code",
   "execution_count": null,
   "metadata": {},
   "outputs": [],
   "source": [
    "models = \"/home/aogorodnikov/aae_5k\"\n",
    "wd = \"/home/aogorodnikov/test\"\n",
    "batch = 16"
   ]
  },
  {
   "cell_type": "code",
   "execution_count": null,
   "metadata": {},
   "outputs": [],
   "source": [
    "def model_compile(models):\n",
    "    '''\n",
    "    Loads and compiles models\n",
    "    :param models: directory with encoder, decoder and discriminator\n",
    "\n",
    "    :return: compiled autoencoder and discriminator\n",
    "    '''\n",
    "\n",
    "    encoder = load_model(os.path.join(models, \"encoder.h5\"))\n",
    "    decoder = load_model(os.path.join(models, \"decoder.h5\"))\n",
    "    discriminator = load_model(os.path.join(models, \"discriminator.h5\"))\n",
    "\n",
    "    # get input and latent space shapes\n",
    "    latent_dim = encoder.get_layer(index=-1).output_shape[1]\n",
    "    input_dim = encoder.get_layer(index=0).input_shape[1:]\n",
    "\n",
    "    # compile imported models into assembled autoencoder\n",
    "    autoencoder_input = Input(shape=input_dim)\n",
    "    autoencoder = Model(autoencoder_input, decoder(encoder(autoencoder_input)))\n",
    "    autoencoder.compile(optimizer=Adam(lr=1e-4), loss=\"mean_squared_error\", metrics=['accuracy'])\n",
    "    discriminator.compile(optimizer=Adam(lr=1e-4), loss=\"binary_crossentropy\", metrics=['accuracy'])\n",
    "\n",
    "    return autoencoder, discriminator, input_dim, latent_dim"
   ]
  },
  {
   "cell_type": "code",
   "execution_count": 5,
   "metadata": {},
   "outputs": [],
   "source": [
    "autoencoder, discriminator, input_dim, latent_dim = model_compile(models)"
   ]
  },
  {
   "cell_type": "code",
   "execution_count": 6,
   "metadata": {},
   "outputs": [
    {
     "name": "stdout",
     "output_type": "stream",
     "text": [
      "Found 358 images belonging to 1 classes.\n"
     ]
    }
   ],
   "source": [
    "data_loader = ImageDataGenerator(\n",
    "    rescale=1. / 255,\n",
    "    featurewise_center=True,\n",
    "    featurewise_std_normalization=True,\n",
    "    shear_range=0,\n",
    "    zoom_range=0,\n",
    "    horizontal_flip=False)\n",
    "# load data\n",
    "data_in = data_loader.flow_from_directory(\n",
    "    wd,\n",
    "    target_size=(input_dim[0], input_dim[0]),\n",
    "    batch_size=batch,\n",
    "    shuffle=False,\n",
    "    class_mode='input')"
   ]
  },
  {
   "cell_type": "code",
   "execution_count": 7,
   "metadata": {},
   "outputs": [
    {
     "data": {
      "text/plain": [
       "['/home/aogorodnikov/test/micronuclei/Pt04_r01c01_f01_0231.tif',\n",
       " '/home/aogorodnikov/test/micronuclei/Pt04_r01c01_f01_0433.tif',\n",
       " '/home/aogorodnikov/test/micronuclei/Pt04_r01c01_f01_0511.tif',\n",
       " '/home/aogorodnikov/test/micronuclei/Pt04_r01c01_f02_0616.tif',\n",
       " '/home/aogorodnikov/test/micronuclei/Pt04_r01c01_f02_0711.tif',\n",
       " '/home/aogorodnikov/test/micronuclei/Pt04_r01c01_f03_0368.tif',\n",
       " '/home/aogorodnikov/test/micronuclei/Pt04_r01c01_f03_0619.tif',\n",
       " '/home/aogorodnikov/test/micronuclei/Pt04_r01c01_f03_0650.tif',\n",
       " '/home/aogorodnikov/test/micronuclei/Pt04_r01c01_f04_0574.tif',\n",
       " '/home/aogorodnikov/test/micronuclei/Pt04_r01c01_f04_0586.tif',\n",
       " '/home/aogorodnikov/test/micronuclei/Pt04_r01c01_f06_0424.tif',\n",
       " '/home/aogorodnikov/test/micronuclei/Pt04_r01c01_f07_0124.tif',\n",
       " '/home/aogorodnikov/test/micronuclei/Pt04_r01c01_f07_0421.tif',\n",
       " '/home/aogorodnikov/test/micronuclei/Pt04_r01c01_f08_0400.tif',\n",
       " '/home/aogorodnikov/test/micronuclei/Pt04_r01c01_f11_0103.tif',\n",
       " '/home/aogorodnikov/test/micronuclei/Pt04_r01c01_f11_0452.tif',\n",
       " '/home/aogorodnikov/test/micronuclei/Pt04_r01c01_f18_0167.tif']"
      ]
     },
     "execution_count": 7,
     "metadata": {},
     "output_type": "execute_result"
    }
   ],
   "source": [
    "data_in.filepaths[:17]"
   ]
  },
  {
   "cell_type": "code",
   "execution_count": 8,
   "metadata": {},
   "outputs": [
    {
     "name": "stderr",
     "output_type": "stream",
     "text": [
      "/home/aogorodnikov/anaconda3/envs/imgSudoku/lib/python3.7/site-packages/keras_preprocessing/image/image_data_generator.py:716: UserWarning: This ImageDataGenerator specifies `featurewise_center`, but it hasn't been fit on any training data. Fit it first by calling `.fit(numpy_data)`.\n",
      "  warnings.warn('This ImageDataGenerator specifies '\n",
      "/home/aogorodnikov/anaconda3/envs/imgSudoku/lib/python3.7/site-packages/keras_preprocessing/image/image_data_generator.py:724: UserWarning: This ImageDataGenerator specifies `featurewise_std_normalization`, but it hasn't been fit on any training data. Fit it first by calling `.fit(numpy_data)`.\n",
      "  warnings.warn('This ImageDataGenerator specifies '\n"
     ]
    }
   ],
   "source": [
    "batch_index = 0\n",
    "\n",
    "data = data_in.next()\n",
    "data_list = data[0]\n",
    "data_size = len(data_list)\n",
    "\n",
    "ae_pred = autoencoder.predict_on_batch(data_list)"
   ]
  },
  {
   "cell_type": "code",
   "execution_count": 9,
   "metadata": {},
   "outputs": [],
   "source": [
    "def mse_batch(data_x, data_y, input_dim):\n",
    "    shape_1 = input_dim[0]\n",
    "    shape_2 = input_dim[1:]\n",
    "    reshape_x = np.reshape(data_x, (shape_1, np.prod(shape_2)))\n",
    "    reshape_y = np.reshape(data_y, (shape_1, np.prod(shape_2)))\n",
    "    return mse(reshape_x, reshape_y)"
   ]
  },
  {
   "cell_type": "code",
   "execution_count": 10,
   "metadata": {},
   "outputs": [
    {
     "data": {
      "text/plain": [
       "0.004383906"
      ]
     },
     "execution_count": 10,
     "metadata": {},
     "output_type": "execute_result"
    }
   ],
   "source": [
    "mse_batch(data_list[0], ae_pred[0], input_dim)"
   ]
  },
  {
   "cell_type": "code",
   "execution_count": 11,
   "metadata": {},
   "outputs": [],
   "source": [
    "lol = [mse_batch(data_list[x], ae_pred[x], input_dim) for x in range(len(ae_pred))]"
   ]
  },
  {
   "cell_type": "code",
   "execution_count": 12,
   "metadata": {},
   "outputs": [
    {
     "data": {
      "text/plain": [
       "[0.004383906,\n",
       " 0.0041207634,\n",
       " 0.002393963,\n",
       " 0.0032601724,\n",
       " 0.0036209936,\n",
       " 0.0032147497,\n",
       " 0.002727217,\n",
       " 0.0066739847,\n",
       " 0.0042357794,\n",
       " 0.004513352,\n",
       " 0.0018895474,\n",
       " 0.0028035424,\n",
       " 0.0017293107,\n",
       " 0.004119024,\n",
       " 0.0011221825,\n",
       " 0.0014930187]"
      ]
     },
     "execution_count": 12,
     "metadata": {},
     "output_type": "execute_result"
    }
   ],
   "source": [
    "lol"
   ]
  },
  {
   "cell_type": "code",
   "execution_count": 13,
   "metadata": {},
   "outputs": [
    {
     "data": {
      "text/plain": [
       "0.0032688442"
      ]
     },
     "execution_count": 13,
     "metadata": {},
     "output_type": "execute_result"
    }
   ],
   "source": [
    "np.mean(lol)"
   ]
  },
  {
   "cell_type": "code",
   "execution_count": 14,
   "metadata": {},
   "outputs": [
    {
     "name": "stderr",
     "output_type": "stream",
     "text": [
      "/home/aogorodnikov/anaconda3/envs/imgSudoku/lib/python3.7/site-packages/keras_preprocessing/image/image_data_generator.py:716: UserWarning: This ImageDataGenerator specifies `featurewise_center`, but it hasn't been fit on any training data. Fit it first by calling `.fit(numpy_data)`.\n",
      "  warnings.warn('This ImageDataGenerator specifies '\n",
      "/home/aogorodnikov/anaconda3/envs/imgSudoku/lib/python3.7/site-packages/keras_preprocessing/image/image_data_generator.py:724: UserWarning: This ImageDataGenerator specifies `featurewise_std_normalization`, but it hasn't been fit on any training data. Fit it first by calling `.fit(numpy_data)`.\n",
      "  warnings.warn('This ImageDataGenerator specifies '\n"
     ]
    }
   ],
   "source": [
    "data = data_in.next()\n",
    "data_list = data[0]\n",
    "data_size = len(data_list)"
   ]
  },
  {
   "cell_type": "code",
   "execution_count": 15,
   "metadata": {},
   "outputs": [
    {
     "data": {
      "text/plain": [
       "0.003834370367603595"
      ]
     },
     "execution_count": 15,
     "metadata": {},
     "output_type": "execute_result"
    }
   ],
   "source": [
    "autoencoder.evaluate_generator(data_in)[0]"
   ]
  },
  {
   "cell_type": "markdown",
   "metadata": {},
   "source": [
    "## Notes  \n",
    "We create a function that takes a single class (cellular phenotype) and test reconstruction loss for autoencoder and discriminator"
   ]
  },
  {
   "cell_type": "code",
   "execution_count": 7,
   "metadata": {},
   "outputs": [
    {
     "ename": "SyntaxError",
     "evalue": "invalid syntax (<ipython-input-7-5058e3a51246>, line 1)",
     "output_type": "error",
     "traceback": [
      "\u001b[0;36m  File \u001b[0;32m\"<ipython-input-7-5058e3a51246>\"\u001b[0;36m, line \u001b[0;32m1\u001b[0m\n\u001b[0;31m    def anomaly_score(cell_pheno draw = true):\u001b[0m\n\u001b[0m                                    ^\u001b[0m\n\u001b[0;31mSyntaxError\u001b[0m\u001b[0;31m:\u001b[0m invalid syntax\n"
     ]
    }
   ],
   "source": [
    "def anomaly_score(cell_pheno draw = true):\n",
    "    [shutil.rmtree(x) for x in glob(\"/home/aogorodnikov/test/*\")]\n",
    "    input_dir = os.path.join(\"/home/aogorodnikov/classes_rgb_corrected/\", cell_pheno)\n",
    "    shutil.copytree(input_dir, os.path.join(\"/home/aogorodnikov/test/\", cell_pheno))\n",
    "    img_wd = \"/home/aogorodnikov/test\"\n",
    "    batch = 56\n",
    "    input_dim = (104,104,3)\n",
    "    data_loader = ImageDataGenerator(\n",
    "        rescale=1. / 255,\n",
    "        featurewise_center=True,\n",
    "        featurewise_std_normalization=True,\n",
    "        shear_range=0.2,\n",
    "        zoom_range=0.2,\n",
    "        horizontal_flip=True)\n",
    "\n",
    "    train_data = data_loader.flow_from_directory(\n",
    "        img_wd,\n",
    "        target_size=(input_dim[0], input_dim[0]),\n",
    "        batch_size=batch,\n",
    "        class_mode='input')\n",
    "    \n",
    "    batch_index = 0\n",
    "    discriminator_batch_losses = []\n",
    "    while batch_index <= train_data.batch_index:\n",
    "        data = train_data.next()\n",
    "        data_list = data[0]\n",
    "        data_size = len(data_list)\n",
    "\n",
    "        fake_latent = encoder.predict(data_list)\n",
    "        discriminator_input = np.concatenate((fake_latent, np.random.randn(data_size, latent_dim) * 5.))\n",
    "        discriminator_labels = np.concatenate((np.zeros((data_size, 1)), np.ones((data_size, 1))))\n",
    "        discriminator_history = discriminator.evaluate(x=discriminator_input, y=discriminator_labels)\n",
    "\n",
    "            \n",
    "        batch_index = batch_index + 1\n",
    "        discriminator_batch_losses.append(discriminator_history[0])\n",
    "    \n",
    "    \n",
    "    \n",
    "    \n",
    "    ae_res = autoencoder.evaluate_generator(train_data)[0]\n",
    "    adv_res = np.mean(discriminator_batch_losses)\n",
    "    \n",
    "    if draw:\n",
    "        fig = plt.figure(figsize=(5 * len(samples), 5))\n",
    "        gs = gridspec.GridSpec(1, len(samples))\n",
    "        for i, sample in enumerate(samples):\n",
    "            ax = plt.Subplot(fig, gs[i])\n",
    "            ax.imshow((sample[\"image\"] * 255.).astype(\"int\"), cmap='gray')\n",
    "            ax.set_xticks([])\n",
    "            ax.set_yticks([])\n",
    "            ax.set_aspect('equal')\n",
    "            ax.set_title(sample[\"title\"])\n",
    "            fig.add_subplot(ax)\n",
    "        plt.show(block=False)\n",
    "        \n",
    "    \n",
    "    print('Class: {}\\nae_loss: {}\\nadv_loss: {}'.format(cell_pheno, ae_res, adv_res))\n",
    "    return [ae_res, adv_res]\n",
    "    \n",
    "        "
   ]
  },
  {
   "cell_type": "code",
   "execution_count": null,
   "metadata": {},
   "outputs": [],
   "source": []
  },
  {
   "cell_type": "code",
   "execution_count": null,
   "metadata": {},
   "outputs": [],
   "source": []
  }
 ],
 "metadata": {
  "accelerator": "GPU",
  "colab": {
   "collapsed_sections": [],
   "name": "Untitled5.ipynb",
   "provenance": [],
   "version": "0.3.2"
  },
  "kernelspec": {
   "display_name": "Python 3",
   "language": "python",
   "name": "python3"
  },
  "language_info": {
   "codemirror_mode": {
    "name": "ipython",
    "version": 3
   },
   "file_extension": ".py",
   "mimetype": "text/x-python",
   "name": "python",
   "nbconvert_exporter": "python",
   "pygments_lexer": "ipython3",
   "version": "3.7.3"
  }
 },
 "nbformat": 4,
 "nbformat_minor": 4
}
