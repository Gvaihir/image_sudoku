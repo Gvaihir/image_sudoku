{
 "cells": [
  {
   "cell_type": "markdown",
   "metadata": {},
   "source": [
    "# Reconstruction test  \n",
    "ACAE was trained for 100 epochs "
   ]
  },
  {
   "cell_type": "code",
   "execution_count": 1,
   "metadata": {},
   "outputs": [
    {
     "name": "stderr",
     "output_type": "stream",
     "text": [
      "Using TensorFlow backend.\n"
     ]
    }
   ],
   "source": [
    "import argparse\n",
    "from argparse import RawTextHelpFormatter\n",
    "import numpy as np\n",
    "import os\n",
    "\n",
    "# keras\n",
    "from keras.models import Sequential, Model, load_model\n",
    "from keras.layers import Input, Dense, Conv2D, MaxPooling2D, Reshape, UpSampling2D, Conv2DTranspose, Flatten, BatchNormalization\n",
    "from keras.preprocessing.image import ImageDataGenerator\n",
    "from keras.utils import plot_model\n",
    "from keras.optimizers import Adam\n",
    "\n",
    "\n",
    "from absl import app\n",
    "\n",
    "# logging\n",
    "import wandb\n",
    "from datetime import datetime\n",
    "import matplotlib.pyplot as plt\n",
    "from matplotlib import gridspec, colors\n",
    "import shutil\n",
    "from glob import glob"
   ]
  },
  {
   "cell_type": "markdown",
   "metadata": {},
   "source": [
    "## Load models"
   ]
  },
  {
   "cell_type": "code",
   "execution_count": 2,
   "metadata": {},
   "outputs": [
    {
     "name": "stdout",
     "output_type": "stream",
     "text": [
      "WARNING:tensorflow:From /home/aogorodnikov/anaconda3/envs/imgSudoku/lib/python3.7/site-packages/tensorflow/python/framework/op_def_library.py:263: colocate_with (from tensorflow.python.framework.ops) is deprecated and will be removed in a future version.\n",
      "Instructions for updating:\n",
      "Colocations handled automatically by placer.\n"
     ]
    },
    {
     "name": "stderr",
     "output_type": "stream",
     "text": [
      "/home/aogorodnikov/anaconda3/envs/imgSudoku/lib/python3.7/site-packages/keras/engine/saving.py:310: UserWarning: No training configuration found in save file: the model was *not* compiled. Compile it manually.\n",
      "  warnings.warn('No training configuration found in save file: '\n"
     ]
    },
    {
     "name": "stdout",
     "output_type": "stream",
     "text": [
      "WARNING:tensorflow:From /home/aogorodnikov/anaconda3/envs/imgSudoku/lib/python3.7/site-packages/tensorflow/python/ops/math_ops.py:3066: to_int32 (from tensorflow.python.ops.math_ops) is deprecated and will be removed in a future version.\n",
      "Instructions for updating:\n",
      "Use tf.cast instead.\n"
     ]
    },
    {
     "name": "stderr",
     "output_type": "stream",
     "text": [
      "/home/aogorodnikov/anaconda3/envs/imgSudoku/lib/python3.7/site-packages/keras/engine/saving.py:350: UserWarning: Error in loading the saved optimizer state. As a result, your model is starting with a freshly initialized optimizer.\n",
      "  warnings.warn('Error in loading the saved optimizer '\n"
     ]
    }
   ],
   "source": [
    "encoder = load_model(\"/home/aogorodnikov/aae/encoder.h5\")\n",
    "decoder = load_model(\"/home/aogorodnikov/aae/decoder.h5\")\n",
    "discriminator = load_model(\"/home/aogorodnikov/aae/discriminator.h5\")\n",
    "generator = load_model(\"/home/aogorodnikov/aae/generator.h5\")"
   ]
  },
  {
   "cell_type": "markdown",
   "metadata": {},
   "source": [
    "## Notes  \n",
    "We need to set basic parameters for input data, like dimensions, number of filters (3 for RGB)  \n",
    "Also we compile the models"
   ]
  },
  {
   "cell_type": "code",
   "execution_count": 3,
   "metadata": {},
   "outputs": [],
   "source": [
    "input_dim = (104,104,3)\n",
    "latent_dim=32\n",
    "\n",
    "# compile imported models into assembled autoencoder\n",
    "autoencoder_input = Input(shape=input_dim)\n",
    "autoencoder = Model(autoencoder_input, decoder(encoder(autoencoder_input)))\n",
    "autoencoder.compile(optimizer=Adam(lr=1e-4), loss=\"mean_squared_error\", metrics=['accuracy'])\n",
    "discriminator.compile(optimizer=Adam(lr=1e-4), loss=\"binary_crossentropy\", metrics=['accuracy'])"
   ]
  },
  {
   "cell_type": "markdown",
   "metadata": {},
   "source": [
    "## Notes  \n",
    "We create a function that takes a single class (cellular phenotype) and test reconstruction loss for autoencoder and discriminator"
   ]
  },
  {
   "cell_type": "code",
   "execution_count": 4,
   "metadata": {},
   "outputs": [],
   "source": [
    "def anomaly_score(cell_pheno draw = true):\n",
    "    [shutil.rmtree(x) for x in glob(\"/home/aogorodnikov/test/*\")]\n",
    "    input_dir = os.path.join(\"/home/aogorodnikov/classes_rgb_corrected/\", cell_pheno)\n",
    "    shutil.copytree(input_dir, os.path.join(\"/home/aogorodnikov/test/\", cell_pheno))\n",
    "    img_wd = \"/home/aogorodnikov/test\"\n",
    "    batch = 56\n",
    "    input_dim = (104,104,3)\n",
    "    data_loader = ImageDataGenerator(\n",
    "        rescale=1. / 255,\n",
    "        featurewise_center=True,\n",
    "        featurewise_std_normalization=True,\n",
    "        shear_range=0.2,\n",
    "        zoom_range=0.2,\n",
    "        horizontal_flip=True)\n",
    "\n",
    "    train_data = data_loader.flow_from_directory(\n",
    "        img_wd,\n",
    "        target_size=(input_dim[0], input_dim[0]),\n",
    "        batch_size=batch,\n",
    "        class_mode='input')\n",
    "    \n",
    "    batch_index = 0\n",
    "    discriminator_batch_losses = []\n",
    "    while batch_index <= train_data.batch_index:\n",
    "        data = train_data.next()\n",
    "        data_list = data[0]\n",
    "        data_size = len(data_list)\n",
    "\n",
    "        fake_latent = encoder.predict(data_list)\n",
    "        discriminator_input = np.concatenate((fake_latent, np.random.randn(data_size, latent_dim) * 5.))\n",
    "        discriminator_labels = np.concatenate((np.zeros((data_size, 1)), np.ones((data_size, 1))))\n",
    "        discriminator_history = discriminator.evaluate(x=discriminator_input, y=discriminator_labels)\n",
    "\n",
    "            \n",
    "        batch_index = batch_index + 1\n",
    "        discriminator_batch_losses.append(discriminator_history[0])\n",
    "    \n",
    "    \n",
    "    \n",
    "    \n",
    "    ae_res = autoencoder.evaluate_generator(train_data)[0]\n",
    "    adv_res = np.mean(discriminator_batch_losses)\n",
    "    \n",
    "    if draw:\n",
    "        fig = plt.figure(figsize=(5 * len(samples), 5))\n",
    "        gs = gridspec.GridSpec(1, len(samples))\n",
    "        for i, sample in enumerate(samples):\n",
    "            ax = plt.Subplot(fig, gs[i])\n",
    "            ax.imshow((sample[\"image\"] * 255.).astype(\"int\"), cmap='gray')\n",
    "            ax.set_xticks([])\n",
    "            ax.set_yticks([])\n",
    "            ax.set_aspect('equal')\n",
    "            ax.set_title(sample[\"title\"])\n",
    "            fig.add_subplot(ax)\n",
    "        plt.show(block=False)\n",
    "        \n",
    "    \n",
    "    print('Class: {}\\nae_loss: {}\\nadv_loss: {}'.format(cell_pheno, ae_res, adv_res))\n",
    "    return [ae_res, adv_res]\n",
    "    \n",
    "        "
   ]
  },
  {
   "cell_type": "markdown",
   "metadata": {},
   "source": [
    "## Notes  \n",
    "We create a list of thise class directories and deploy the function above in list comprehension logic"
   ]
  },
  {
   "cell_type": "code",
   "execution_count": 5,
   "metadata": {},
   "outputs": [
    {
     "name": "stdout",
     "output_type": "stream",
     "text": [
      "Found 684 images belonging to 1 classes.\n"
     ]
    },
    {
     "name": "stderr",
     "output_type": "stream",
     "text": [
      "/home/aogorodnikov/anaconda3/envs/imgSudoku/lib/python3.7/site-packages/keras_preprocessing/image/image_data_generator.py:716: UserWarning: This ImageDataGenerator specifies `featurewise_center`, but it hasn't been fit on any training data. Fit it first by calling `.fit(numpy_data)`.\n",
      "  warnings.warn('This ImageDataGenerator specifies '\n",
      "/home/aogorodnikov/anaconda3/envs/imgSudoku/lib/python3.7/site-packages/keras_preprocessing/image/image_data_generator.py:724: UserWarning: This ImageDataGenerator specifies `featurewise_std_normalization`, but it hasn't been fit on any training data. Fit it first by calling `.fit(numpy_data)`.\n",
      "  warnings.warn('This ImageDataGenerator specifies '\n"
     ]
    },
    {
     "name": "stdout",
     "output_type": "stream",
     "text": [
      "112/112 [==============================] - 0s 2ms/step\n",
      "112/112 [==============================] - 0s 172us/step\n",
      "112/112 [==============================] - 0s 176us/step\n",
      "112/112 [==============================] - 0s 171us/step\n",
      "112/112 [==============================] - 0s 174us/step\n",
      "112/112 [==============================] - 0s 174us/step\n",
      "112/112 [==============================] - 0s 181us/step\n",
      "112/112 [==============================] - 0s 167us/step\n",
      "112/112 [==============================] - 0s 176us/step\n",
      "112/112 [==============================] - 0s 170us/step\n",
      "112/112 [==============================] - 0s 172us/step\n",
      "112/112 [==============================] - 0s 173us/step\n",
      "24/24 [==============================] - 0s 185us/step\n",
      "Class: confluent\n",
      "ae_loss: 0.003990047197375033\n",
      "adv_loss: 0.7823838467126364\n",
      "Found 313 images belonging to 1 classes.\n",
      "112/112 [==============================] - 0s 169us/step\n",
      "112/112 [==============================] - 0s 174us/step\n",
      "112/112 [==============================] - 0s 172us/step\n",
      "112/112 [==============================] - 0s 174us/step\n",
      "112/112 [==============================] - 0s 170us/step\n",
      "66/66 [==============================] - 0s 290us/step\n",
      "Class: cytokinesis\n",
      "ae_loss: 0.00479467329197227\n",
      "adv_loss: 0.8040526820209637\n",
      "Found 1124 images belonging to 1 classes.\n",
      "112/112 [==============================] - 0s 172us/step\n",
      "112/112 [==============================] - 0s 174us/step\n",
      "112/112 [==============================] - 0s 176us/step\n",
      "112/112 [==============================] - 0s 173us/step\n",
      "112/112 [==============================] - 0s 174us/step\n",
      "112/112 [==============================] - 0s 175us/step\n",
      "112/112 [==============================] - 0s 176us/step\n",
      "112/112 [==============================] - 0s 172us/step\n",
      "112/112 [==============================] - 0s 172us/step\n",
      "112/112 [==============================] - 0s 168us/step\n",
      "112/112 [==============================] - 0s 171us/step\n",
      "112/112 [==============================] - 0s 177us/step\n",
      "112/112 [==============================] - 0s 176us/step\n",
      "112/112 [==============================] - 0s 177us/step\n",
      "112/112 [==============================] - 0s 174us/step\n",
      "112/112 [==============================] - 0s 172us/step\n",
      "112/112 [==============================] - 0s 169us/step\n",
      "112/112 [==============================] - 0s 169us/step\n",
      "112/112 [==============================] - 0s 175us/step\n",
      "112/112 [==============================] - 0s 170us/step\n",
      "8/8 [==============================] - 0s 366us/step\n",
      "Class: negative\n",
      "ae_loss: 0.002872665228779524\n",
      "adv_loss: 0.7411487153192767\n",
      "Found 310 images belonging to 1 classes.\n",
      "112/112 [==============================] - 0s 174us/step\n",
      "112/112 [==============================] - 0s 175us/step\n",
      "112/112 [==============================] - 0s 169us/step\n",
      "112/112 [==============================] - 0s 173us/step\n",
      "112/112 [==============================] - 0s 175us/step\n",
      "60/60 [==============================] - 0s 262us/step\n",
      "Class: nuclear_mess\n",
      "ae_loss: 0.004974675755346975\n",
      "adv_loss: 0.8267828428556049\n",
      "Found 857 images belonging to 1 classes.\n",
      "112/112 [==============================] - 0s 172us/step\n",
      "112/112 [==============================] - 0s 175us/step\n",
      "112/112 [==============================] - 0s 173us/step\n",
      "112/112 [==============================] - 0s 177us/step\n",
      "112/112 [==============================] - 0s 171us/step\n",
      "112/112 [==============================] - 0s 173us/step\n",
      "112/112 [==============================] - 0s 173us/step\n",
      "112/112 [==============================] - 0s 173us/step\n",
      "112/112 [==============================] - 0s 177us/step\n",
      "112/112 [==============================] - 0s 174us/step\n",
      "112/112 [==============================] - 0s 169us/step\n",
      "112/112 [==============================] - 0s 170us/step\n",
      "112/112 [==============================] - 0s 171us/step\n",
      "112/112 [==============================] - 0s 172us/step\n",
      "112/112 [==============================] - 0s 174us/step\n",
      "34/34 [==============================] - 0s 329us/step\n",
      "Class: large_nuclei\n",
      "ae_loss: 0.0037249213012854722\n",
      "adv_loss: 0.8074777071215525\n",
      "Found 1077 images belonging to 1 classes.\n",
      "112/112 [==============================] - 0s 174us/step\n",
      "112/112 [==============================] - 0s 176us/step\n",
      "112/112 [==============================] - 0s 172us/step\n",
      "112/112 [==============================] - 0s 175us/step\n",
      "112/112 [==============================] - 0s 175us/step\n",
      "112/112 [==============================] - 0s 172us/step\n",
      "112/112 [==============================] - 0s 174us/step\n",
      "112/112 [==============================] - 0s 174us/step\n",
      "112/112 [==============================] - 0s 172us/step\n",
      "112/112 [==============================] - 0s 175us/step\n",
      "112/112 [==============================] - 0s 171us/step\n",
      "112/112 [==============================] - 0s 188us/step\n",
      "112/112 [==============================] - 0s 179us/step\n",
      "112/112 [==============================] - 0s 177us/step\n",
      "112/112 [==============================] - 0s 179us/step\n",
      "112/112 [==============================] - 0s 178us/step\n",
      "112/112 [==============================] - 0s 175us/step\n",
      "112/112 [==============================] - 0s 177us/step\n",
      "112/112 [==============================] - 0s 170us/step\n",
      "26/26 [==============================] - 0s 179us/step\n",
      "Class: other\n",
      "ae_loss: 0.0028704403019306998\n",
      "adv_loss: 0.7546617584569113\n",
      "Found 358 images belonging to 1 classes.\n",
      "112/112 [==============================] - 0s 174us/step\n",
      "112/112 [==============================] - 0s 172us/step\n",
      "112/112 [==============================] - 0s 169us/step\n",
      "112/112 [==============================] - 0s 179us/step\n",
      "112/112 [==============================] - 0s 184us/step\n",
      "112/112 [==============================] - 0s 181us/step\n",
      "44/44 [==============================] - 0s 327us/step\n",
      "Class: micronuclei\n",
      "ae_loss: 0.004338426713170952\n",
      "adv_loss: 0.8185977354120456\n",
      "Found 1029 images belonging to 1 classes.\n",
      "112/112 [==============================] - 0s 174us/step\n",
      "112/112 [==============================] - 0s 168us/step\n",
      "112/112 [==============================] - 0s 169us/step\n",
      "112/112 [==============================] - 0s 170us/step\n",
      "112/112 [==============================] - 0s 171us/step\n",
      "112/112 [==============================] - 0s 171us/step\n",
      "112/112 [==============================] - 0s 171us/step\n",
      "112/112 [==============================] - 0s 171us/step\n",
      "112/112 [==============================] - 0s 173us/step\n",
      "112/112 [==============================] - 0s 173us/step\n",
      "112/112 [==============================] - 0s 168us/step\n",
      "112/112 [==============================] - 0s 172us/step\n",
      "112/112 [==============================] - 0s 172us/step\n",
      "112/112 [==============================] - 0s 169us/step\n",
      "112/112 [==============================] - 0s 176us/step\n",
      "112/112 [==============================] - 0s 173us/step\n",
      "112/112 [==============================] - 0s 176us/step\n",
      "112/112 [==============================] - 0s 176us/step\n",
      "42/42 [==============================] - 0s 292us/step\n",
      "Class: spindle\n",
      "ae_loss: 0.00319564609858049\n",
      "adv_loss: 0.7359470431517838\n",
      "Found 264 images belonging to 1 classes.\n",
      "112/112 [==============================] - 0s 172us/step\n",
      "112/112 [==============================] - 0s 171us/step\n",
      "112/112 [==============================] - 0s 169us/step\n",
      "112/112 [==============================] - 0s 177us/step\n",
      "80/80 [==============================] - 0s 260us/step\n",
      "Class: Y\n",
      "ae_loss: 0.004104753278873183\n",
      "adv_loss: 0.7166841346876962\n",
      "Found 448 images belonging to 1 classes.\n",
      "112/112 [==============================] - 0s 172us/step\n",
      "112/112 [==============================] - 0s 169us/step\n",
      "112/112 [==============================] - 0s 174us/step\n",
      "112/112 [==============================] - 0s 176us/step\n",
      "112/112 [==============================] - 0s 174us/step\n",
      "112/112 [==============================] - 0s 169us/step\n",
      "112/112 [==============================] - 0s 174us/step\n",
      "112/112 [==============================] - 0s 170us/step\n",
      "Class: binucleated\n",
      "ae_loss: 0.003716825449373573\n",
      "adv_loss: 0.8022964660610472\n",
      "Found 560 images belonging to 1 classes.\n",
      "112/112 [==============================] - 0s 176us/step\n",
      "112/112 [==============================] - 0s 174us/step\n",
      "112/112 [==============================] - 0s 173us/step\n",
      "112/112 [==============================] - 0s 172us/step\n",
      "112/112 [==============================] - 0s 174us/step\n",
      "112/112 [==============================] - 0s 176us/step\n",
      "112/112 [==============================] - 0s 173us/step\n",
      "112/112 [==============================] - 0s 169us/step\n",
      "112/112 [==============================] - 0s 169us/step\n",
      "112/112 [==============================] - 0s 170us/step\n",
      "Class: polarity\n",
      "ae_loss: 0.003804593114182353\n",
      "adv_loss: 0.7368772821766989\n",
      "Found 533 images belonging to 1 classes.\n",
      "112/112 [==============================] - 0s 177us/step\n",
      "112/112 [==============================] - 0s 169us/step\n",
      "112/112 [==============================] - 0s 173us/step\n",
      "112/112 [==============================] - 0s 178us/step\n",
      "112/112 [==============================] - 0s 173us/step\n",
      "112/112 [==============================] - 0s 171us/step\n",
      "112/112 [==============================] - 0s 175us/step\n",
      "112/112 [==============================] - 0s 174us/step\n",
      "112/112 [==============================] - 0s 170us/step\n",
      "58/58 [==============================] - 0s 264us/step\n",
      "Class: croissant\n",
      "ae_loss: 0.003620269022948383\n",
      "adv_loss: 0.7348328779777283\n"
     ]
    }
   ],
   "source": [
    "dirs = [x for x in os.listdir(\"/home/aogorodnikov/classes_rgb_corrected/\") if os.path.isdir(os.path.join(\"/home/aogorodnikov/classes_rgb_corrected/\", x))]\n",
    "results = [[x, anomaly_score(cell_pheno=x)] for x in dirs]"
   ]
  },
  {
   "cell_type": "markdown",
   "metadata": {},
   "source": [
    "## Notes  \n",
    "Printed results show adversarial and autoencoder losses fpr each class"
   ]
  },
  {
   "cell_type": "code",
   "execution_count": 6,
   "metadata": {},
   "outputs": [
    {
     "data": {
      "text/plain": [
       "[['confluent', [0.003990047197375033, 0.7823838467126364]],\n",
       " ['cytokinesis', [0.00479467329197227, 0.8040526820209637]],\n",
       " ['negative', [0.002872665228779524, 0.7411487153192767]],\n",
       " ['nuclear_mess', [0.004974675755346975, 0.8267828428556049]],\n",
       " ['large_nuclei', [0.0037249213012854722, 0.8074777071215525]],\n",
       " ['other', [0.0028704403019306998, 0.7546617584569113]],\n",
       " ['micronuclei', [0.004338426713170952, 0.8185977354120456]],\n",
       " ['spindle', [0.00319564609858049, 0.7359470431517838]],\n",
       " ['Y', [0.004104753278873183, 0.7166841346876962]],\n",
       " ['binucleated', [0.003716825449373573, 0.8022964660610472]],\n",
       " ['polarity', [0.003804593114182353, 0.7368772821766989]],\n",
       " ['croissant', [0.003620269022948383, 0.7348328779777283]]]"
      ]
     },
     "execution_count": 6,
     "metadata": {},
     "output_type": "execute_result"
    }
   ],
   "source": [
    "results"
   ]
  },
  {
   "cell_type": "code",
   "execution_count": 24,
   "metadata": {},
   "outputs": [],
   "source": [
    "rec_loss = [x[1][0] for x in results]\n",
    "adv_loss = [x[1][1] for x in results]"
   ]
  },
  {
   "cell_type": "code",
   "execution_count": 37,
   "metadata": {},
   "outputs": [
    {
     "data": {
      "text/plain": [
       "0.7166841346876962"
      ]
     },
     "execution_count": 37,
     "metadata": {},
     "output_type": "execute_result"
    }
   ],
   "source": [
    "min(adv_loss)"
   ]
  },
  {
   "cell_type": "code",
   "execution_count": 35,
   "metadata": {},
   "outputs": [
    {
     "data": {
      "text/plain": [
       "0.7943314183216829"
      ]
     },
     "execution_count": 35,
     "metadata": {},
     "output_type": "execute_result"
    }
   ],
   "source": [
    "np.percentile(adv_loss, 60)"
   ]
  },
  {
   "cell_type": "markdown",
   "metadata": {},
   "source": [
    "# Conclusions  \n",
    "1. *Negative* class has the smallest autoencoder and a small adversarial loss.  \n",
    "2. An anomaly will be determined by the logic `if {dv_loss OR rec_loss} > 60'th percentile` "
   ]
  },
  {
   "cell_type": "code",
   "execution_count": 38,
   "metadata": {},
   "outputs": [],
   "source": [
    "img_wd = \"/home/aogorodnikov/classes_rgb_corrected/\"\n",
    "batch = 56\n",
    "input_dim = (104,104,3)\n",
    "latent_dim=32\n",
    "epoch = 10\n",
    "conv=True\n",
    "adversarial=True\n"
   ]
  },
  {
   "cell_type": "code",
   "execution_count": 39,
   "metadata": {},
   "outputs": [
    {
     "name": "stdout",
     "output_type": "stream",
     "text": [
      "Found 7557 images belonging to 12 classes.\n"
     ]
    }
   ],
   "source": [
    "# LOAD DATA\n",
    "data_loader = ImageDataGenerator(\n",
    "    rescale=1. / 255,\n",
    "    featurewise_center=True,\n",
    "    featurewise_std_normalization=True,\n",
    "    shear_range=0.2,\n",
    "    zoom_range=0.2,\n",
    "    horizontal_flip=True)\n",
    "\n",
    "train_data = data_loader.flow_from_directory(\n",
    "    img_wd,\n",
    "    target_size=(input_dim[0], input_dim[0]),\n",
    "    batch_size=batch,\n",
    "    class_mode='input')"
   ]
  },
  {
   "cell_type": "code",
   "execution_count": 40,
   "metadata": {},
   "outputs": [],
   "source": [
    "data = train_data.next()\n",
    "data_list = data[0]\n",
    "fake_latent = encoder.predict(data_list)"
   ]
  },
  {
   "cell_type": "code",
   "execution_count": 41,
   "metadata": {},
   "outputs": [],
   "source": [
    "def draw(samples):\n",
    "    fig = plt.figure(figsize=(5 * len(samples), 5))\n",
    "    gs = gridspec.GridSpec(1, len(samples))\n",
    "    for i, sample in enumerate(samples):\n",
    "        ax = plt.Subplot(fig, gs[i])\n",
    "        ax.imshow((sample[\"image\"] * 255.).astype(\"int\"), cmap='gray')\n",
    "        ax.set_xticks([])\n",
    "        ax.set_yticks([])\n",
    "        ax.set_aspect('equal')\n",
    "        ax.set_title(sample[\"title\"])\n",
    "        fig.add_subplot(ax)\n",
    "    plt.show(block=False)"
   ]
  },
  {
   "cell_type": "code",
   "execution_count": 45,
   "metadata": {},
   "outputs": [
    {
     "data": {
      "image/png": "[encoded data removed]",
      "text/plain": [
       "<Figure size 720x360 with 2 Axes>"
      ]
     },
     "metadata": {},
     "output_type": "display_data"
    }
   ],
   "source": [
    "choice = np.random.choice(np.arange(32))\n",
    "original = data_list[choice]\n",
    "\n",
    "original_1 = np.expand_dims(original, axis=0)\n",
    "\n",
    "latent = encoder.predict(original_1)\n",
    "\n",
    "reconstruction = decoder.predict(latent)\n",
    "\n",
    "draw([{\"title\": \"Original\", \"image\": original}, {\"title\": \"Reconstruction\", \"image\": reconstruction[0]}])\n",
    "\n"
   ]
  },
  {
   "cell_type": "code",
   "execution_count": null,
   "metadata": {},
   "outputs": [],
   "source": []
  }
 ],
 "metadata": {
  "kernelspec": {
   "display_name": "Python 3",
   "language": "python",
   "name": "python3"
  },
  "language_info": {
   "codemirror_mode": {
    "name": "ipython",
    "version": 3
   },
   "file_extension": ".py",
   "mimetype": "text/x-python",
   "name": "python",
   "nbconvert_exporter": "python",
   "pygments_lexer": "ipython3",
   "version": "3.7.2"
  }
 },
 "nbformat": 4,
 "nbformat_minor": 4
}
