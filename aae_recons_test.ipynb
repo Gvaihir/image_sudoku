{
 "cells": [
  {
   "cell_type": "markdown",
   "metadata": {},
   "source": [
    "# Reconstruction test  \n",
    "ACAE was trained for 100 epochs "
   ]
  },
  {
   "cell_type": "code",
   "execution_count": 1,
   "metadata": {},
   "outputs": [
    {
     "name": "stderr",
     "output_type": "stream",
     "text": [
      "Using TensorFlow backend.\n"
     ]
    }
   ],
   "source": [
    "import argparse\n",
    "from argparse import RawTextHelpFormatter\n",
    "import numpy as np\n",
    "import os\n",
    "\n",
    "# keras\n",
    "from keras.models import Sequential, Model, load_model\n",
    "from keras.layers import Input, Dense, Conv2D, MaxPooling2D, Reshape, UpSampling2D, Conv2DTranspose, Flatten, BatchNormalization\n",
    "from keras.preprocessing.image import ImageDataGenerator\n",
    "from keras.utils import plot_model\n",
    "from keras.optimizers import Adam\n",
    "\n",
    "\n",
    "from absl import app\n",
    "\n",
    "# logging\n",
    "import wandb\n",
    "from datetime import datetime\n",
    "import matplotlib.pyplot as plt\n",
    "from matplotlib import gridspec, colors\n",
    "import shutil\n",
    "from glob import glob"
   ]
  },
  {
   "cell_type": "markdown",
   "metadata": {},
   "source": [
    "## Load models"
   ]
  },
  {
   "cell_type": "code",
   "execution_count": 2,
   "metadata": {},
   "outputs": [
    {
     "name": "stdout",
     "output_type": "stream",
     "text": [
      "WARNING:tensorflow:From /home/aogorodnikov/anaconda3/envs/imgSudoku/lib/python3.7/site-packages/tensorflow/python/framework/op_def_library.py:263: colocate_with (from tensorflow.python.framework.ops) is deprecated and will be removed in a future version.\n",
      "Instructions for updating:\n",
      "Colocations handled automatically by placer.\n"
     ]
    },
    {
     "name": "stderr",
     "output_type": "stream",
     "text": [
      "/home/aogorodnikov/anaconda3/envs/imgSudoku/lib/python3.7/site-packages/keras/engine/saving.py:310: UserWarning: No training configuration found in save file: the model was *not* compiled. Compile it manually.\n",
      "  warnings.warn('No training configuration found in save file: '\n"
     ]
    },
    {
     "name": "stdout",
     "output_type": "stream",
     "text": [
      "WARNING:tensorflow:From /home/aogorodnikov/anaconda3/envs/imgSudoku/lib/python3.7/site-packages/tensorflow/python/ops/math_ops.py:3066: to_int32 (from tensorflow.python.ops.math_ops) is deprecated and will be removed in a future version.\n",
      "Instructions for updating:\n",
      "Use tf.cast instead.\n"
     ]
    },
    {
     "name": "stderr",
     "output_type": "stream",
     "text": [
      "/home/aogorodnikov/anaconda3/envs/imgSudoku/lib/python3.7/site-packages/keras/engine/saving.py:350: UserWarning: Error in loading the saved optimizer state. As a result, your model is starting with a freshly initialized optimizer.\n",
      "  warnings.warn('Error in loading the saved optimizer '\n"
     ]
    }
   ],
   "source": [
    "encoder = load_model(\"/home/aogorodnikov/aae/encoder.h5\")\n",
    "decoder = load_model(\"/home/aogorodnikov/aae/decoder.h5\")\n",
    "discriminator = load_model(\"/home/aogorodnikov/aae/discriminator.h5\")\n",
    "generator = load_model(\"/home/aogorodnikov/aae/generator.h5\")"
   ]
  },
  {
   "cell_type": "markdown",
   "metadata": {},
   "source": [
    "## Notes  \n",
    "We need to set basic parameters for input data, like dimensions, number of filters (3 for RGB)  \n",
    "Also we compile the models"
   ]
  },
  {
   "cell_type": "code",
   "execution_count": 3,
   "metadata": {},
   "outputs": [],
   "source": [
    "input_dim = (104,104,3)\n",
    "latent_dim=32\n",
    "\n",
    "# compile imported models into assembled autoencoder\n",
    "autoencoder_input = Input(shape=input_dim)\n",
    "autoencoder = Model(autoencoder_input, decoder(encoder(autoencoder_input)))\n",
    "autoencoder.compile(optimizer=Adam(lr=1e-4), loss=\"mean_squared_error\", metrics=['accuracy'])\n",
    "discriminator.compile(optimizer=Adam(lr=1e-4), loss=\"binary_crossentropy\", metrics=['accuracy'])"
   ]
  },
  {
   "cell_type": "markdown",
   "metadata": {},
   "source": [
    "## Notes  \n",
    "We create a function that takes a single class (cellular phenotype) and test reconstruction loss for autoencoder and discriminator"
   ]
  },
  {
   "cell_type": "code",
   "execution_count": 4,
   "metadata": {},
   "outputs": [],
   "source": [
    "def anomaly_score(cell_pheno):\n",
    "    [shutil.rmtree(x) for x in glob(\"/home/aogorodnikov/test/*\")]\n",
    "    input_dir = os.path.join(\"/home/aogorodnikov/classes_rgb_corrected/\", cell_pheno)\n",
    "    shutil.copytree(input_dir, os.path.join(\"/home/aogorodnikov/test/\", cell_pheno))\n",
    "    img_wd = \"/home/aogorodnikov/test\"\n",
    "    batch = 56\n",
    "    input_dim = (104,104,3)\n",
    "    data_loader = ImageDataGenerator(\n",
    "        rescale=1. / 255,\n",
    "        featurewise_center=True,\n",
    "        featurewise_std_normalization=True,\n",
    "        shear_range=0.2,\n",
    "        zoom_range=0.2,\n",
    "        horizontal_flip=True)\n",
    "\n",
    "    train_data = data_loader.flow_from_directory(\n",
    "        img_wd,\n",
    "        target_size=(input_dim[0], input_dim[0]),\n",
    "        batch_size=batch,\n",
    "        class_mode='input')\n",
    "    \n",
    "    batch_index = 0\n",
    "    discriminator_batch_losses = []\n",
    "    while batch_index <= train_data.batch_index:\n",
    "        data = train_data.next()\n",
    "        data_list = data[0]\n",
    "        data_size = len(data_list)\n",
    "\n",
    "        fake_latent = encoder.predict(data_list)\n",
    "        discriminator_input = np.concatenate((fake_latent, np.random.randn(data_size, latent_dim) * 5.))\n",
    "        discriminator_labels = np.concatenate((np.zeros((data_size, 1)), np.ones((data_size, 1))))\n",
    "        discriminator_history = discriminator.evaluate(x=discriminator_input, y=discriminator_labels)\n",
    "\n",
    "            \n",
    "        batch_index = batch_index + 1\n",
    "        discriminator_batch_losses.append(discriminator_history[0])\n",
    "    \n",
    "    \n",
    "    \n",
    "    \n",
    "    ae_res = autoencoder.evaluate_generator(train_data)[0]\n",
    "    adv_res = np.mean(discriminator_batch_losses)\n",
    "    \n",
    "    print('Class: {}\\nae_loss: {}\\nadv_loss: {}'.format(cell_pheno, ae_res, adv_res))\n",
    "    return [ae_res, adv_res]\n",
    "    \n",
    "        "
   ]
  },
  {
   "cell_type": "markdown",
   "metadata": {},
   "source": [
    "## Notes  \n",
    "We create a list of thise class directories and deploy the function above in list comprehension logic"
   ]
  },
  {
   "cell_type": "code",
   "execution_count": null,
   "metadata": {},
   "outputs": [],
   "source": [
    "dirs = [x for x in os.listdir(\"/home/aogorodnikov/classes_rgb_corrected/\") if os.path.isdir(os.path.join(\"/home/aogorodnikov/classes_rgb_corrected/\", x))]\n",
    "results = [[x, anomaly_score(cell_pheno=x)] for x in dirs]"
   ]
  },
  {
   "cell_type": "markdown",
   "metadata": {},
   "source": [
    "## Notes  \n",
    "Printed results show adversarial and autoencoder losses fpr each class"
   ]
  },
  {
   "cell_type": "code",
   "execution_count": 11,
   "metadata": {},
   "outputs": [
    {
     "data": {
      "text/plain": [
       "[['confluent', [0.004068942573084904, 0.8177496044190374]],\n",
       " ['cytokinesis', [0.004882797247733171, 0.8115584815262372]],\n",
       " ['negative', [0.002886460556274154, 0.7356446046813006]],\n",
       " ['nuclear_mess', [0.005067183221540143, 0.8330462677611244]],\n",
       " ['large_nuclei', [0.003843376349142667, 0.8258599744280095]],\n",
       " ['other', [0.0028758106609251257, 0.7648955568671226]],\n",
       " ['micronuclei', [0.004362443724761629, 0.8265998325343477]],\n",
       " ['spindle', [0.003232318960244254, 0.7617816796577666]],\n",
       " ['Y', [0.004042718312561963, 0.7451791254111699]],\n",
       " ['binucleated', [0.003642860392574221, 0.8186048439570835]],\n",
       " ['polarity', [0.0037950172321870924, 0.7415993469102042]],\n",
       " ['croissant', [0.00356021643735077, 0.7517458936997822]]]"
      ]
     },
     "execution_count": 11,
     "metadata": {},
     "output_type": "execute_result"
    }
   ],
   "source": [
    "results"
   ]
  },
  {
   "cell_type": "code",
   "execution_count": 12,
   "metadata": {},
   "outputs": [],
   "source": [
    "rec_loss = [x[1][0] for x in results]\n",
    "adv_loss = [x[1][1] for x in results]"
   ]
  },
  {
   "cell_type": "code",
   "execution_count": 13,
   "metadata": {},
   "outputs": [
    {
     "data": {
      "text/plain": [
       "0.003962981527194245"
      ]
     },
     "execution_count": 13,
     "metadata": {},
     "output_type": "execute_result"
    }
   ],
   "source": [
    "np.percentile(rec_loss, 60)"
   ]
  },
  {
   "cell_type": "code",
   "execution_count": 14,
   "metadata": {},
   "outputs": [
    {
     "data": {
      "text/plain": [
       "0.8152731552619173"
      ]
     },
     "execution_count": 14,
     "metadata": {},
     "output_type": "execute_result"
    }
   ],
   "source": [
    "np.percentile(adv_loss, 60)"
   ]
  },
  {
   "cell_type": "markdown",
   "metadata": {},
   "source": [
    "# Conclusions  \n",
    "1. *Negative* class has the smallest autoencoder and a small adversarial loss.  \n",
    "2. An anomaly will be determined by the logic `if {dv_loss OR rec_loss} > 60'th percentile` "
   ]
  },
  {
   "cell_type": "code",
   "execution_count": 17,
   "metadata": {},
   "outputs": [],
   "source": [
    "img_wd = \"/home/aogorodnikov/test/\"\n",
    "batch = 56\n",
    "input_dim = (104,104,3)\n",
    "latent_dim=32\n",
    "epoch = 10\n",
    "conv=True\n",
    "adversarial=True\n"
   ]
  },
  {
   "cell_type": "code",
   "execution_count": 18,
   "metadata": {},
   "outputs": [
    {
     "name": "stdout",
     "output_type": "stream",
     "text": [
      "Found 684 images belonging to 1 classes.\n"
     ]
    }
   ],
   "source": [
    "# LOAD DATA\n",
    "data_loader = ImageDataGenerator(\n",
    "    rescale=1. / 255,\n",
    "    featurewise_center=True,\n",
    "    featurewise_std_normalization=True,\n",
    "    shear_range=0.2,\n",
    "    zoom_range=0.2,\n",
    "    horizontal_flip=True)\n",
    "\n",
    "train_data = data_loader.flow_from_directory(\n",
    "    img_wd,\n",
    "    target_size=(input_dim[0], input_dim[0]),\n",
    "    batch_size=batch,\n",
    "    class_mode='input')"
   ]
  },
  {
   "cell_type": "code",
   "execution_count": 19,
   "metadata": {},
   "outputs": [],
   "source": [
    "data = train_data.next()\n",
    "data_list = data[0]\n",
    "fake_latent = encoder.predict(data_list)"
   ]
  },
  {
   "cell_type": "code",
   "execution_count": 20,
   "metadata": {},
   "outputs": [],
   "source": [
    "def draw(samples):\n",
    "    fig = plt.figure(figsize=(5 * len(samples), 5))\n",
    "    gs = gridspec.GridSpec(1, len(samples))\n",
    "    for i, sample in enumerate(samples):\n",
    "        ax = plt.Subplot(fig, gs[i])\n",
    "        ax.imshow((sample[\"image\"] * 255.).astype(\"int\"), cmap='gray')\n",
    "        ax.set_xticks([])\n",
    "        ax.set_yticks([])\n",
    "        ax.set_aspect('equal')\n",
    "        ax.set_title(sample[\"title\"])\n",
    "        fig.add_subplot(ax)\n",
    "    plt.show(block=False)"
   ]
  },
  {
   "cell_type": "code",
   "execution_count": 23,
   "metadata": {},
   "outputs": [
    {
     "data": {
      "image/png": "[encoded data removed]",
      "text/plain": [
       "<Figure size 720x360 with 2 Axes>"
      ]
     },
     "metadata": {},
     "output_type": "display_data"
    }
   ],
   "source": [
    "choice = np.random.choice(np.arange(32))\n",
    "original = data_list[choice]\n",
    "\n",
    "original_1 = np.expand_dims(original, axis=0)\n",
    "\n",
    "latent = encoder.predict(original_1)\n",
    "\n",
    "reconstruction = decoder.predict(latent)\n",
    "\n",
    "draw([{\"title\": \"Original\", \"image\": original}, {\"title\": \"Reconstruction\", \"image\": reconstruction[0]}])\n",
    "\n"
   ]
  },
  {
   "cell_type": "code",
   "execution_count": null,
   "metadata": {},
   "outputs": [],
   "source": []
  }
 ],
 "metadata": {
  "kernelspec": {
   "display_name": "Python 3",
   "language": "python",
   "name": "python3"
  },
  "language_info": {
   "codemirror_mode": {
    "name": "ipython",
    "version": 3
   },
   "file_extension": ".py",
   "mimetype": "text/x-python",
   "name": "python",
   "nbconvert_exporter": "python",
   "pygments_lexer": "ipython3",
   "version": "3.7.2"
  }
 },
 "nbformat": 4,
 "nbformat_minor": 4
}
