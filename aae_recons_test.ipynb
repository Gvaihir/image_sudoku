{
 "cells": [
  {
   "cell_type": "markdown",
   "metadata": {},
   "source": [
    "# Reconstruction test  \n",
    "ACAE was trained for 100 epochs "
   ]
  },
  {
   "cell_type": "code",
   "execution_count": 1,
   "metadata": {},
   "outputs": [
    {
     "name": "stderr",
     "output_type": "stream",
     "text": [
      "Using TensorFlow backend.\n"
     ]
    }
   ],
   "source": [
    "import argparse\n",
    "from argparse import RawTextHelpFormatter\n",
    "import numpy as np\n",
    "import os\n",
    "\n",
    "# keras\n",
    "from keras.models import Sequential, Model, load_model\n",
    "from keras.layers import Input, Dense, Conv2D, MaxPooling2D, Reshape, UpSampling2D, Conv2DTranspose, Flatten, BatchNormalization\n",
    "from keras.preprocessing.image import ImageDataGenerator\n",
    "from keras.utils import plot_model\n",
    "from keras.optimizers import Adam\n",
    "\n",
    "\n",
    "from absl import app\n",
    "\n",
    "# logging\n",
    "import wandb\n",
    "from datetime import datetime\n",
    "import matplotlib.pyplot as plt\n",
    "from matplotlib import gridspec, colors\n",
    "import shutil\n",
    "from glob import glob"
   ]
  },
  {
   "cell_type": "markdown",
   "metadata": {},
   "source": [
    "# Anomaly scores"
   ]
  },
  {
   "cell_type": "code",
   "execution_count": 2,
   "metadata": {},
   "outputs": [
    {
     "name": "stdout",
     "output_type": "stream",
     "text": [
      "WARNING:tensorflow:From /home/aogorodnikov/anaconda3/envs/imgSudoku/lib/python3.7/site-packages/tensorflow/python/framework/op_def_library.py:263: colocate_with (from tensorflow.python.framework.ops) is deprecated and will be removed in a future version.\n",
      "Instructions for updating:\n",
      "Colocations handled automatically by placer.\n"
     ]
    },
    {
     "name": "stderr",
     "output_type": "stream",
     "text": [
      "/home/aogorodnikov/anaconda3/envs/imgSudoku/lib/python3.7/site-packages/keras/engine/saving.py:310: UserWarning: No training configuration found in save file: the model was *not* compiled. Compile it manually.\n",
      "  warnings.warn('No training configuration found in save file: '\n"
     ]
    },
    {
     "name": "stdout",
     "output_type": "stream",
     "text": [
      "WARNING:tensorflow:From /home/aogorodnikov/anaconda3/envs/imgSudoku/lib/python3.7/site-packages/tensorflow/python/ops/math_ops.py:3066: to_int32 (from tensorflow.python.ops.math_ops) is deprecated and will be removed in a future version.\n",
      "Instructions for updating:\n",
      "Use tf.cast instead.\n"
     ]
    },
    {
     "name": "stderr",
     "output_type": "stream",
     "text": [
      "/home/aogorodnikov/anaconda3/envs/imgSudoku/lib/python3.7/site-packages/keras/engine/saving.py:350: UserWarning: Error in loading the saved optimizer state. As a result, your model is starting with a freshly initialized optimizer.\n",
      "  warnings.warn('Error in loading the saved optimizer '\n"
     ]
    }
   ],
   "source": [
    "# load models\n",
    "encoder = load_model(\"/home/aogorodnikov/aae/encoder.h5\")\n",
    "decoder = load_model(\"/home/aogorodnikov/aae/decoder.h5\")\n",
    "discriminator = load_model(\"/home/aogorodnikov/aae/discriminator.h5\")\n",
    "generator = load_model(\"/home/aogorodnikov/aae/generator.h5\")"
   ]
  },
  {
   "cell_type": "code",
   "execution_count": 4,
   "metadata": {},
   "outputs": [],
   "source": [
    "input_dim = (104,104,3)\n",
    "latent_dim=32"
   ]
  },
  {
   "cell_type": "code",
   "execution_count": 5,
   "metadata": {},
   "outputs": [],
   "source": [
    "autoencoder_input = Input(shape=input_dim)\n",
    "autoencoder = Model(autoencoder_input, decoder(encoder(autoencoder_input)))\n",
    "autoencoder.compile(optimizer=Adam(lr=1e-4), loss=\"mean_squared_error\", metrics=['accuracy'])"
   ]
  },
  {
   "cell_type": "code",
   "execution_count": 6,
   "metadata": {},
   "outputs": [],
   "source": [
    "discriminator.compile(optimizer=Adam(lr=1e-4), loss=\"binary_crossentropy\", metrics=['accuracy'])"
   ]
  },
  {
   "cell_type": "code",
   "execution_count": 10,
   "metadata": {},
   "outputs": [],
   "source": [
    "def anomaly_score(cell_pheno):\n",
    "    [shutil.rmtree(x) for x in glob(\"/home/aogorodnikov/test/*\")]\n",
    "    input_dir = os.path.join(\"/home/aogorodnikov/classes_rgb_corrected/\", cell_pheno)\n",
    "    shutil.copytree(input_dir, os.path.join(\"/home/aogorodnikov/test/\", cell_pheno))\n",
    "    img_wd = \"/home/aogorodnikov/test\"\n",
    "    batch = 56\n",
    "    input_dim = (104,104,3)\n",
    "    data_loader = ImageDataGenerator(\n",
    "        rescale=1. / 255,\n",
    "        featurewise_center=True,\n",
    "        featurewise_std_normalization=True,\n",
    "        shear_range=0.2,\n",
    "        zoom_range=0.2,\n",
    "        horizontal_flip=True)\n",
    "\n",
    "    train_data = data_loader.flow_from_directory(\n",
    "        img_wd,\n",
    "        target_size=(input_dim[0], input_dim[0]),\n",
    "        batch_size=batch,\n",
    "        class_mode='input')\n",
    "    \n",
    "    batch_index = 0\n",
    "    discriminator_batch_losses = []\n",
    "    while batch_index <= train_data.batch_index:\n",
    "        data = train_data.next()\n",
    "        data_list = data[0]\n",
    "        data_size = len(data_list)\n",
    "\n",
    "        fake_latent = encoder.predict(data_list)\n",
    "        discriminator_input = np.concatenate((fake_latent, np.random.randn(data_size, latent_dim) * 5.))\n",
    "        discriminator_labels = np.concatenate((np.zeros((data_size, 1)), np.ones((data_size, 1))))\n",
    "        discriminator_history = discriminator.evaluate(x=discriminator_input, y=discriminator_labels)\n",
    "        \n",
    "        batch_index = batch_index + 1\n",
    "        discriminator_batch_losses.append(discriminator_history[0])\n",
    "    \n",
    "    \n",
    "    \n",
    "    \n",
    "    ae_res = autoencoder.evaluate_generator(train_data)[0]\n",
    "    adv_res = np.mean(discriminator_batch_losses)\n",
    "    \n",
    "    print('Class: {}\\nae_loss: {}\\nadv_loss: {}'.format(cell_pheno, ae_res, adv_res))\n",
    "    return ae_res, adv_res\n",
    "    \n",
    "        "
   ]
  },
  {
   "cell_type": "code",
   "execution_count": 11,
   "metadata": {},
   "outputs": [],
   "source": [
    "dirs = [x for x in os.listdir(\"/home/aogorodnikov/classes_rgb_corrected/\") if os.path.isdir(os.path.join(\"/home/aogorodnikov/classes_rgb_corrected/\", x))]"
   ]
  },
  {
   "cell_type": "code",
   "execution_count": 12,
   "metadata": {},
   "outputs": [
    {
     "name": "stdout",
     "output_type": "stream",
     "text": [
      "Found 684 images belonging to 1 classes.\n",
      "112/112 [==============================] - 0s 192us/step\n",
      "112/112 [==============================] - 0s 186us/step\n",
      "112/112 [==============================] - 0s 184us/step\n",
      "112/112 [==============================] - 0s 174us/step\n",
      "112/112 [==============================] - 0s 202us/step\n",
      "112/112 [==============================] - 0s 186us/step\n",
      "112/112 [==============================] - 0s 182us/step\n",
      "112/112 [==============================] - 0s 187us/step\n",
      "112/112 [==============================] - 0s 186us/step\n",
      "112/112 [==============================] - 0s 180us/step\n",
      "112/112 [==============================] - 0s 172us/step\n",
      "112/112 [==============================] - 0s 188us/step\n",
      "24/24 [==============================] - 0s 185us/step\n",
      "Class: confluent\n",
      "ae_loss: 0.005258663848848545\n",
      "adv_loss: 0.7539176023923434\n",
      "Found 313 images belonging to 1 classes.\n",
      "112/112 [==============================] - 0s 186us/step\n",
      "112/112 [==============================] - 0s 172us/step\n",
      "112/112 [==============================] - 0s 182us/step\n",
      "112/112 [==============================] - 0s 189us/step\n",
      "112/112 [==============================] - 0s 180us/step\n",
      "66/66 [==============================] - 0s 285us/step\n",
      "Class: cytokinesis\n",
      "ae_loss: 0.00601810167808407\n",
      "adv_loss: 0.6828084366576151\n",
      "Found 1124 images belonging to 1 classes.\n",
      "112/112 [==============================] - 0s 173us/step\n",
      "112/112 [==============================] - 0s 184us/step\n",
      "112/112 [==============================] - 0s 170us/step\n",
      "112/112 [==============================] - 0s 177us/step\n",
      "112/112 [==============================] - 0s 171us/step\n",
      "112/112 [==============================] - 0s 186us/step\n",
      "112/112 [==============================] - 0s 212us/step\n",
      "112/112 [==============================] - 0s 179us/step\n",
      "112/112 [==============================] - 0s 177us/step\n",
      "112/112 [==============================] - 0s 176us/step\n",
      "112/112 [==============================] - 0s 181us/step\n",
      "112/112 [==============================] - 0s 169us/step\n",
      "112/112 [==============================] - 0s 179us/step\n",
      "112/112 [==============================] - 0s 172us/step\n",
      "112/112 [==============================] - 0s 182us/step\n",
      "112/112 [==============================] - 0s 186us/step\n",
      "112/112 [==============================] - 0s 178us/step\n",
      "112/112 [==============================] - 0s 184us/step\n",
      "112/112 [==============================] - 0s 179us/step\n",
      "112/112 [==============================] - 0s 181us/step\n",
      "8/8 [==============================] - 0s 376us/step\n",
      "Class: negative\n",
      "ae_loss: 0.004710673785427075\n",
      "adv_loss: 0.676718733748611\n",
      "Found 310 images belonging to 1 classes.\n",
      "112/112 [==============================] - 0s 183us/step\n",
      "112/112 [==============================] - 0s 184us/step\n",
      "112/112 [==============================] - 0s 173us/step\n",
      "112/112 [==============================] - 0s 181us/step\n",
      "112/112 [==============================] - 0s 181us/step\n",
      "60/60 [==============================] - 0s 266us/step\n",
      "Class: nuclear_mess\n",
      "ae_loss: 0.0060687497378357\n",
      "adv_loss: 0.7787307026840392\n",
      "Found 857 images belonging to 1 classes.\n",
      "112/112 [==============================] - 0s 186us/step\n",
      "112/112 [==============================] - 0s 184us/step\n",
      "112/112 [==============================] - 0s 183us/step\n",
      "112/112 [==============================] - 0s 180us/step\n",
      "112/112 [==============================] - 0s 181us/step\n",
      "112/112 [==============================] - 0s 180us/step\n",
      "112/112 [==============================] - 0s 184us/step\n",
      "112/112 [==============================] - 0s 181us/step\n",
      "112/112 [==============================] - 0s 181us/step\n",
      "112/112 [==============================] - 0s 168us/step\n",
      "112/112 [==============================] - 0s 184us/step\n",
      "112/112 [==============================] - 0s 187us/step\n",
      "112/112 [==============================] - 0s 182us/step\n",
      "112/112 [==============================] - 0s 178us/step\n",
      "112/112 [==============================] - 0s 177us/step\n",
      "34/34 [==============================] - 0s 324us/step\n",
      "Class: large_nuclei\n",
      "ae_loss: 0.005075864936143612\n",
      "adv_loss: 0.7787385018651976\n",
      "Found 1077 images belonging to 1 classes.\n",
      "112/112 [==============================] - 0s 179us/step\n",
      "112/112 [==============================] - 0s 179us/step\n",
      "112/112 [==============================] - 0s 181us/step\n",
      "112/112 [==============================] - 0s 193us/step\n",
      "112/112 [==============================] - 0s 182us/step\n",
      "112/112 [==============================] - 0s 183us/step\n",
      "112/112 [==============================] - 0s 180us/step\n",
      "112/112 [==============================] - 0s 198us/step\n",
      "112/112 [==============================] - 0s 186us/step\n",
      "112/112 [==============================] - 0s 180us/step\n",
      "112/112 [==============================] - 0s 188us/step\n",
      "112/112 [==============================] - 0s 178us/step\n",
      "112/112 [==============================] - 0s 180us/step\n",
      "112/112 [==============================] - 0s 179us/step\n",
      "112/112 [==============================] - 0s 208us/step\n",
      "112/112 [==============================] - 0s 180us/step\n",
      "112/112 [==============================] - 0s 176us/step\n",
      "112/112 [==============================] - 0s 194us/step\n",
      "112/112 [==============================] - 0s 180us/step\n",
      "26/26 [==============================] - 0s 181us/step\n",
      "Class: other\n",
      "ae_loss: 0.004015283867502334\n",
      "adv_loss: 0.7674402850014822\n",
      "Found 358 images belonging to 1 classes.\n",
      "112/112 [==============================] - 0s 179us/step\n",
      "112/112 [==============================] - 0s 187us/step\n",
      "112/112 [==============================] - 0s 180us/step\n",
      "112/112 [==============================] - 0s 180us/step\n",
      "112/112 [==============================] - 0s 179us/step\n",
      "112/112 [==============================] - 0s 181us/step\n",
      "44/44 [==============================] - 0s 308us/step\n",
      "Class: micronuclei\n",
      "ae_loss: 0.0055628577247262\n",
      "adv_loss: 0.7655910196021228\n",
      "Found 1029 images belonging to 1 classes.\n",
      "112/112 [==============================] - 0s 183us/step\n",
      "112/112 [==============================] - 0s 192us/step\n",
      "112/112 [==============================] - 0s 183us/step\n",
      "112/112 [==============================] - 0s 179us/step\n",
      "112/112 [==============================] - 0s 182us/step\n",
      "112/112 [==============================] - 0s 183us/step\n",
      "112/112 [==============================] - 0s 204us/step\n",
      "112/112 [==============================] - 0s 179us/step\n",
      "112/112 [==============================] - 0s 185us/step\n",
      "112/112 [==============================] - 0s 179us/step\n",
      "112/112 [==============================] - 0s 180us/step\n",
      "112/112 [==============================] - 0s 172us/step\n",
      "112/112 [==============================] - 0s 181us/step\n",
      "112/112 [==============================] - 0s 173us/step\n",
      "112/112 [==============================] - 0s 177us/step\n",
      "112/112 [==============================] - 0s 172us/step\n",
      "112/112 [==============================] - 0s 180us/step\n",
      "112/112 [==============================] - 0s 188us/step\n",
      "42/42 [==============================] - 0s 307us/step\n",
      "Class: spindle\n",
      "ae_loss: 0.004585141046796324\n",
      "adv_loss: 0.6751734975884134\n",
      "Found 264 images belonging to 1 classes.\n",
      "112/112 [==============================] - 0s 178us/step\n",
      "112/112 [==============================] - 0s 189us/step\n",
      "112/112 [==============================] - 0s 181us/step\n",
      "112/112 [==============================] - 0s 183us/step\n",
      "80/80 [==============================] - 0s 202us/step\n",
      "Class: Y\n",
      "ae_loss: 0.00529486717035373\n",
      "adv_loss: 0.7664512314115253\n",
      "Found 448 images belonging to 1 classes.\n",
      "112/112 [==============================] - 0s 191us/step\n",
      "112/112 [==============================] - 0s 211us/step\n",
      "112/112 [==============================] - 0s 186us/step\n",
      "112/112 [==============================] - 0s 180us/step\n",
      "112/112 [==============================] - 0s 200us/step\n",
      "112/112 [==============================] - 0s 182us/step\n",
      "112/112 [==============================] - 0s 178us/step\n",
      "112/112 [==============================] - 0s 182us/step\n",
      "Class: binucleated\n",
      "ae_loss: 0.004865828377660364\n",
      "adv_loss: 0.7887121353830611\n",
      "Found 560 images belonging to 1 classes.\n",
      "112/112 [==============================] - 0s 178us/step\n",
      "112/112 [==============================] - 0s 179us/step\n",
      "112/112 [==============================] - 0s 168us/step\n",
      "112/112 [==============================] - 0s 181us/step\n",
      "112/112 [==============================] - 0s 170us/step\n",
      "112/112 [==============================] - 0s 181us/step\n",
      "112/112 [==============================] - 0s 189us/step\n",
      "112/112 [==============================] - 0s 179us/step\n",
      "112/112 [==============================] - 0s 179us/step\n",
      "112/112 [==============================] - 0s 179us/step\n",
      "Class: polarity\n",
      "ae_loss: 0.005126380641013384\n",
      "adv_loss: 0.7656017473765783\n",
      "Found 533 images belonging to 1 classes.\n",
      "112/112 [==============================] - 0s 183us/step\n",
      "112/112 [==============================] - 0s 179us/step\n",
      "112/112 [==============================] - 0s 192us/step\n",
      "112/112 [==============================] - 0s 173us/step\n",
      "112/112 [==============================] - 0s 196us/step\n",
      "112/112 [==============================] - 0s 182us/step\n",
      "112/112 [==============================] - 0s 180us/step\n",
      "112/112 [==============================] - 0s 172us/step\n",
      "112/112 [==============================] - 0s 183us/step\n",
      "58/58 [==============================] - 0s 269us/step\n",
      "Class: croissant\n",
      "ae_loss: 0.004727188446235758\n",
      "adv_loss: 0.7406090987139734\n"
     ]
    }
   ],
   "source": [
    "results = [[x, anomaly_score(cell_pheno=x)] for x in dirs]"
   ]
  },
  {
   "cell_type": "code",
   "execution_count": 13,
   "metadata": {},
   "outputs": [
    {
     "data": {
      "text/plain": [
       "[['confluent', (0.005258663848848545, 0.7539176023923434)],\n",
       " ['cytokinesis', (0.00601810167808407, 0.6828084366576151)],\n",
       " ['negative', (0.004710673785427075, 0.676718733748611)],\n",
       " ['nuclear_mess', (0.0060687497378357, 0.7787307026840392)],\n",
       " ['large_nuclei', (0.005075864936143612, 0.7787385018651976)],\n",
       " ['other', (0.004015283867502334, 0.7674402850014822)],\n",
       " ['micronuclei', (0.0055628577247262, 0.7655910196021228)],\n",
       " ['spindle', (0.004585141046796324, 0.6751734975884134)],\n",
       " ['Y', (0.00529486717035373, 0.7664512314115253)],\n",
       " ['binucleated', (0.004865828377660364, 0.7887121353830611)],\n",
       " ['polarity', (0.005126380641013384, 0.7656017473765783)],\n",
       " ['croissant', (0.004727188446235758, 0.7406090987139734)]]"
      ]
     },
     "execution_count": 13,
     "metadata": {},
     "output_type": "execute_result"
    }
   ],
   "source": [
    "results"
   ]
  },
  {
   "cell_type": "code",
   "execution_count": 129,
   "metadata": {},
   "outputs": [
    {
     "data": {
      "text/plain": [
       "0.005067414907540783"
      ]
     },
     "execution_count": 129,
     "metadata": {},
     "output_type": "execute_result"
    }
   ],
   "source": [
    "np.percentile([x[1] for x in results], 50)"
   ]
  },
  {
   "cell_type": "code",
   "execution_count": 121,
   "metadata": {},
   "outputs": [],
   "source": [
    "img_wd = \"/home/aogorodnikov/classes_rgb_corrected/\"\n",
    "batch = 56\n",
    "input_dim = (104,104,3)\n",
    "latent_dim = 64\n",
    "epoch = 10\n",
    "conv=True\n",
    "adversarial=True\n"
   ]
  },
  {
   "cell_type": "code",
   "execution_count": 43,
   "metadata": {},
   "outputs": [
    {
     "name": "stdout",
     "output_type": "stream",
     "text": [
      "Found 7557 images belonging to 12 classes.\n"
     ]
    }
   ],
   "source": [
    "# LOAD DATA\n",
    "data_loader = ImageDataGenerator(\n",
    "    rescale=1. / 255,\n",
    "    featurewise_center=True,\n",
    "    featurewise_std_normalization=True,\n",
    "    shear_range=0.2,\n",
    "    zoom_range=0.2,\n",
    "    horizontal_flip=True)\n",
    "\n",
    "train_data = data_loader.flow_from_directory(\n",
    "    img_wd,\n",
    "    target_size=(input_dim[0], input_dim[0]),\n",
    "    batch_size=batch,\n",
    "    class_mode='input')"
   ]
  },
  {
   "cell_type": "code",
   "execution_count": 27,
   "metadata": {},
   "outputs": [
    {
     "name": "stderr",
     "output_type": "stream",
     "text": [
      "/home/aogorodnikov/anaconda3/envs/imgSudoku/lib/python3.7/site-packages/keras_preprocessing/image/image_data_generator.py:716: UserWarning: This ImageDataGenerator specifies `featurewise_center`, but it hasn't been fit on any training data. Fit it first by calling `.fit(numpy_data)`.\n",
      "  warnings.warn('This ImageDataGenerator specifies '\n",
      "/home/aogorodnikov/anaconda3/envs/imgSudoku/lib/python3.7/site-packages/keras_preprocessing/image/image_data_generator.py:724: UserWarning: This ImageDataGenerator specifies `featurewise_std_normalization`, but it hasn't been fit on any training data. Fit it first by calling `.fit(numpy_data)`.\n",
      "  warnings.warn('This ImageDataGenerator specifies '\n"
     ]
    }
   ],
   "source": [
    "data = train_data.next()\n",
    "data_list = data[0]"
   ]
  },
  {
   "cell_type": "code",
   "execution_count": 13,
   "metadata": {},
   "outputs": [],
   "source": [
    "def draw(samples):\n",
    "    fig = plt.figure(figsize=(5 * len(samples), 5))\n",
    "    gs = gridspec.GridSpec(1, len(samples))\n",
    "    for i, sample in enumerate(samples):\n",
    "        ax = plt.Subplot(fig, gs[i])\n",
    "        ax.imshow((sample[\"image\"] * 255.).astype(\"int\"), cmap='gray')\n",
    "        ax.set_xticks([])\n",
    "        ax.set_yticks([])\n",
    "        ax.set_aspect('equal')\n",
    "        ax.set_title(sample[\"title\"])\n",
    "        fig.add_subplot(ax)\n",
    "    plt.show(block=False)"
   ]
  },
  {
   "cell_type": "code",
   "execution_count": 15,
   "metadata": {},
   "outputs": [
    {
     "data": {
      "image/png": "[encoded data removed]",
      "text/plain": [
       "<Figure size 720x360 with 2 Axes>"
      ]
     },
     "metadata": {},
     "output_type": "display_data"
    }
   ],
   "source": [
    "choice = np.random.choice(np.arange(32))\n",
    "original = data_list[choice]\n",
    "\n",
    "original_1 = np.expand_dims(original, axis=0)\n",
    "\n",
    "latent = encoder.predict(original_1)\n",
    "\n",
    "reconstruction = decoder.predict(latent)\n",
    "\n",
    "draw([{\"title\": \"Original\", \"image\": original}, {\"title\": \"Reconstruction\", \"image\": reconstruction[0]}])\n",
    "\n"
   ]
  },
  {
   "cell_type": "code",
   "execution_count": 17,
   "metadata": {},
   "outputs": [
    {
     "data": {
      "text/plain": [
       "[0.005230800629678098, 0.5579293930169308]"
      ]
     },
     "execution_count": 17,
     "metadata": {},
     "output_type": "execute_result"
    }
   ],
   "source": [
    "autoencoder.evaluate_generator(train_data)"
   ]
  },
  {
   "cell_type": "code",
   "execution_count": 149,
   "metadata": {},
   "outputs": [
    {
     "name": "stdout",
     "output_type": "stream",
     "text": [
      "Found 7557 images belonging to 12 classes.\n"
     ]
    }
   ],
   "source": [
    "data_loader = ImageDataGenerator(\n",
    "    rescale=1. / 255,\n",
    "    featurewise_center=True,\n",
    "    featurewise_std_normalization=True,\n",
    "    shear_range=0.2,\n",
    "    zoom_range=0.2,\n",
    "    horizontal_flip=True)\n",
    "\n",
    "train_data = data_loader.flow_from_directory(\n",
    "    img_wd,\n",
    "    target_size=(input_dim[0], input_dim[0]),\n",
    "    batch_size=batch,\n",
    "    class_mode='input')\n",
    "\n"
   ]
  },
  {
   "cell_type": "code",
   "execution_count": 168,
   "metadata": {},
   "outputs": [
    {
     "data": {
      "text/plain": [
       "array([[-4.564788  ,  0.9550102 ,  8.51572   , ..., -0.4226413 ,\n",
       "        -2.8371184 ,  7.1186886 ],\n",
       "       [-2.9885685 , -5.655708  ,  3.7550688 , ...,  6.76246   ,\n",
       "         2.7704573 , -9.528672  ],\n",
       "       [-1.4381589 , -1.331906  ,  1.8464564 , ..., -4.284677  ,\n",
       "        -0.1258904 ,  5.611074  ],\n",
       "       ...,\n",
       "       [-3.8753633 , -8.207726  , 13.1112995 , ...,  1.2015983 ,\n",
       "         1.0967643 , -0.73942983],\n",
       "       [-4.6393876 , -1.6131024 ,  3.0874438 , ...,  1.7831937 ,\n",
       "         3.7470875 ,  2.2027905 ],\n",
       "       [-4.1928124 , -7.6067743 ,  1.2030356 , ...,  1.3560551 ,\n",
       "        13.47506   , -9.464908  ]], dtype=float32)"
      ]
     },
     "execution_count": 168,
     "metadata": {},
     "output_type": "execute_result"
    }
   ],
   "source": [
    "fake_latent = encoder.predict(data_list)\n",
    "\n",
    "fake_latent"
   ]
  },
  {
   "cell_type": "code",
   "execution_count": 172,
   "metadata": {},
   "outputs": [
    {
     "data": {
      "text/plain": [
       "(56, 32)"
      ]
     },
     "execution_count": 172,
     "metadata": {},
     "output_type": "execute_result"
    }
   ],
   "source": [
    "fake_latent.shape"
   ]
  },
  {
   "cell_type": "code",
   "execution_count": 169,
   "metadata": {},
   "outputs": [
    {
     "ename": "ValueError",
     "evalue": "all the input array dimensions except for the concatenation axis must match exactly",
     "output_type": "error",
     "traceback": [
      "\u001b[0;31m---------------------------------------------------------------------------\u001b[0m",
      "\u001b[0;31mValueError\u001b[0m                                Traceback (most recent call last)",
      "\u001b[0;32m<ipython-input-169-4908213676e5>\u001b[0m in \u001b[0;36m<module>\u001b[0;34m\u001b[0m\n\u001b[0;32m----> 1\u001b[0;31m \u001b[0mdiscriminator_input\u001b[0m \u001b[0;34m=\u001b[0m \u001b[0mnp\u001b[0m\u001b[0;34m.\u001b[0m\u001b[0mconcatenate\u001b[0m\u001b[0;34m(\u001b[0m\u001b[0;34m(\u001b[0m\u001b[0mfake_latent\u001b[0m\u001b[0;34m,\u001b[0m \u001b[0mnp\u001b[0m\u001b[0;34m.\u001b[0m\u001b[0mrandom\u001b[0m\u001b[0;34m.\u001b[0m\u001b[0mrandn\u001b[0m\u001b[0;34m(\u001b[0m\u001b[0mdata_size\u001b[0m\u001b[0;34m,\u001b[0m \u001b[0mlatent_dim\u001b[0m\u001b[0;34m)\u001b[0m \u001b[0;34m*\u001b[0m \u001b[0;36m5.\u001b[0m\u001b[0;34m)\u001b[0m\u001b[0;34m)\u001b[0m\u001b[0;34m\u001b[0m\u001b[0;34m\u001b[0m\u001b[0m\n\u001b[0m",
      "\u001b[0;31mValueError\u001b[0m: all the input array dimensions except for the concatenation axis must match exactly"
     ]
    }
   ],
   "source": [
    "discriminator_input = np.concatenate((fake_latent, np.random.randn(data_size, latent_dim) * 5.))\n"
   ]
  },
  {
   "cell_type": "code",
   "execution_count": null,
   "metadata": {},
   "outputs": [],
   "source": [
    "discriminator_labels = np.concatenate((np.zeros((data_size, 1)), np.ones((data_size, 1))))\n",
    "discriminator_history = discriminator.evaluate(x=discriminator_input, y=discriminator_labels)"
   ]
  },
  {
   "cell_type": "code",
   "execution_count": 174,
   "metadata": {},
   "outputs": [
    {
     "data": {
      "text/plain": [
       "\u001b[0;31mSignature:\u001b[0m      \u001b[0mencoder\u001b[0m\u001b[0;34m(\u001b[0m\u001b[0minputs\u001b[0m\u001b[0;34m,\u001b[0m \u001b[0;34m**\u001b[0m\u001b[0mkwargs\u001b[0m\u001b[0;34m)\u001b[0m\u001b[0;34m\u001b[0m\u001b[0;34m\u001b[0m\u001b[0m\n",
       "\u001b[0;31mType:\u001b[0m           Sequential\n",
       "\u001b[0;31mString form:\u001b[0m    <keras.engine.sequential.Sequential object at 0x7f7d601a8eb8>\n",
       "\u001b[0;31mFile:\u001b[0m           ~/anaconda3/envs/imgSudoku/lib/python3.7/site-packages/keras/engine/sequential.py\n",
       "\u001b[0;31mDocstring:\u001b[0m     \n",
       "Linear stack of layers.\n",
       "\n",
       "# Arguments\n",
       "    layers: list of layers to add to the model.\n",
       "    name: Name given to the model\n",
       "\n",
       "# Example\n",
       "\n",
       "```python\n",
       "# Optionally, the first layer can receive an `input_shape` argument:\n",
       "model = Sequential()\n",
       "model.add(Dense(32, input_shape=(500,)))\n",
       "\n",
       "# Afterwards, we do automatic shape inference:\n",
       "model.add(Dense(32))\n",
       "\n",
       "# This is identical to the following:\n",
       "model = Sequential()\n",
       "model.add(Dense(32, input_dim=500))\n",
       "\n",
       "# And to the following:\n",
       "model = Sequential()\n",
       "model.add(Dense(32, batch_input_shape=(None, 500)))\n",
       "\n",
       "# Note that you can also omit the `input_shape` argument:\n",
       "# In that case the model gets built the first time you call `fit` (or other\n",
       "# training and evaluation methods).\n",
       "model = Sequential()\n",
       "model.add(Dense(32))\n",
       "model.add(Dense(32))\n",
       "model.compile(optimizer=optimizer, loss=loss)\n",
       "\n",
       "# This builds the model for the first time:\n",
       "model.fit(x, y, batch_size=32, epochs=10)\n",
       "\n",
       "# Note that when using this delayed-build pattern\n",
       "# (no input shape specified),\n",
       "# the model doesn't have any weights until the first call\n",
       "# to a training/evaluation method (since it isn't yet built):\n",
       "model = Sequential()\n",
       "model.add(Dense(32))\n",
       "model.add(Dense(32))\n",
       "model.weights  # returns []\n",
       "\n",
       "# Whereas if you specify the input shape, the model gets built continuously\n",
       "# as you are adding layers:\n",
       "model = Sequential()\n",
       "model.add(Dense(32, input_shape=(500,)))\n",
       "model.add(Dense(32))\n",
       "model.weights  # returns list of length 4\n",
       "\n",
       "# When using the delayed-build pattern (no input shape specified), you can\n",
       "# choose to manually build your model by calling\n",
       "# `build(batch_input_shape)`:\n",
       "model = Sequential()\n",
       "model.add(Dense(32))\n",
       "model.add(Dense(32))\n",
       "model.build((None, 500))\n",
       "model.weights  # returns list of length 4\n",
       "```\n",
       "\u001b[0;31mCall docstring:\u001b[0m\n",
       "Wrapper around self.call(), for handling internal references.\n",
       "\n",
       "If a Keras tensor is passed:\n",
       "    - We call self._add_inbound_node().\n",
       "    - If necessary, we `build` the layer to match\n",
       "        the _keras_shape of the input(s).\n",
       "    - We update the _keras_shape of every input tensor with\n",
       "        its new shape (obtained via self.compute_output_shape).\n",
       "        This is done as part of _add_inbound_node().\n",
       "    - We update the _keras_history of the output tensor(s)\n",
       "        with the current layer.\n",
       "        This is done as part of _add_inbound_node().\n",
       "\n",
       "# Arguments\n",
       "    inputs: Can be a tensor or list/tuple of tensors.\n",
       "    **kwargs: Additional keyword arguments to be passed to `call()`.\n",
       "\n",
       "# Returns\n",
       "    Output of the layer's `call` method.\n",
       "\n",
       "# Raises\n",
       "    ValueError: in case the layer is missing shape information\n",
       "        for its `build` call.\n"
      ]
     },
     "metadata": {},
     "output_type": "display_data"
    }
   ],
   "source": [
    "?encoder"
   ]
  },
  {
   "cell_type": "code",
   "execution_count": null,
   "metadata": {},
   "outputs": [],
   "source": []
  }
 ],
 "metadata": {
  "kernelspec": {
   "display_name": "Python 3",
   "language": "python",
   "name": "python3"
  },
  "language_info": {
   "codemirror_mode": {
    "name": "ipython",
    "version": 3
   },
   "file_extension": ".py",
   "mimetype": "text/x-python",
   "name": "python",
   "nbconvert_exporter": "python",
   "pygments_lexer": "ipython3",
   "version": "3.6.8"
  }
 },
 "nbformat": 4,
 "nbformat_minor": 4
}
