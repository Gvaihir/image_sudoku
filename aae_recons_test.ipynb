{
 "cells": [
  {
   "cell_type": "markdown",
   "metadata": {},
   "source": [
    "# Reconstruction test  \n",
    "ACAE was trained for 100 epochs "
   ]
  },
  {
   "cell_type": "code",
   "execution_count": 1,
   "metadata": {},
   "outputs": [
    {
     "name": "stderr",
     "output_type": "stream",
     "text": [
      "Using TensorFlow backend.\n"
     ]
    }
   ],
   "source": [
    "import argparse\n",
    "from argparse import RawTextHelpFormatter\n",
    "import numpy as np\n",
    "import os\n",
    "\n",
    "# keras\n",
    "from keras.models import Sequential, Model, load_model\n",
    "from keras.layers import Input, Dense, Conv2D, MaxPooling2D, Reshape, UpSampling2D, Conv2DTranspose, Flatten, BatchNormalization\n",
    "from keras.preprocessing.image import ImageDataGenerator\n",
    "from keras.utils import plot_model\n",
    "from keras.optimizers import Adam\n",
    "\n",
    "\n",
    "from absl import app\n",
    "\n",
    "# logging\n",
    "import wandb\n",
    "from datetime import datetime\n",
    "import matplotlib.pyplot as plt\n",
    "from matplotlib import gridspec, colors\n",
    "import shutil\n",
    "from glob import glob\n",
    "\n",
    "from scipy.stats import ks_2samp"
   ]
  },
  {
   "cell_type": "markdown",
   "metadata": {},
   "source": [
    "## Load models"
   ]
  },
  {
   "cell_type": "code",
   "execution_count": 2,
   "metadata": {},
   "outputs": [
    {
     "name": "stdout",
     "output_type": "stream",
     "text": [
      "WARNING:tensorflow:From /home/aogorodnikov/anaconda3/envs/imgSudoku/lib/python3.7/site-packages/tensorflow/python/framework/op_def_library.py:263: colocate_with (from tensorflow.python.framework.ops) is deprecated and will be removed in a future version.\n",
      "Instructions for updating:\n",
      "Colocations handled automatically by placer.\n"
     ]
    },
    {
     "name": "stderr",
     "output_type": "stream",
     "text": [
      "/home/aogorodnikov/anaconda3/envs/imgSudoku/lib/python3.7/site-packages/keras/engine/saving.py:310: UserWarning: No training configuration found in save file: the model was *not* compiled. Compile it manually.\n",
      "  warnings.warn('No training configuration found in save file: '\n"
     ]
    },
    {
     "name": "stdout",
     "output_type": "stream",
     "text": [
      "WARNING:tensorflow:From /home/aogorodnikov/anaconda3/envs/imgSudoku/lib/python3.7/site-packages/tensorflow/python/ops/math_ops.py:3066: to_int32 (from tensorflow.python.ops.math_ops) is deprecated and will be removed in a future version.\n",
      "Instructions for updating:\n",
      "Use tf.cast instead.\n"
     ]
    },
    {
     "name": "stderr",
     "output_type": "stream",
     "text": [
      "/home/aogorodnikov/anaconda3/envs/imgSudoku/lib/python3.7/site-packages/keras/engine/saving.py:350: UserWarning: Error in loading the saved optimizer state. As a result, your model is starting with a freshly initialized optimizer.\n",
      "  warnings.warn('Error in loading the saved optimizer '\n"
     ]
    }
   ],
   "source": [
    "encoder = load_model(\"/home/aogorodnikov/aae/encoder.h5\")\n",
    "decoder = load_model(\"/home/aogorodnikov/aae/decoder.h5\")\n",
    "discriminator = load_model(\"/home/aogorodnikov/aae/discriminator.h5\")\n",
    "generator = load_model(\"/home/aogorodnikov/aae/generator.h5\")"
   ]
  },
  {
   "cell_type": "markdown",
   "metadata": {},
   "source": [
    "## Notes  \n",
    "We need to set basic parameters for input data, like dimensions, number of filters (3 for RGB)  \n",
    "Also we compile the models"
   ]
  },
  {
   "cell_type": "code",
   "execution_count": 3,
   "metadata": {},
   "outputs": [],
   "source": [
    "input_dim = (104,104,3)\n",
    "latent_dim=32\n",
    "\n",
    "# compile imported models into assembled autoencoder\n",
    "autoencoder_input = Input(shape=input_dim)\n",
    "autoencoder = Model(autoencoder_input, decoder(encoder(autoencoder_input)))\n",
    "autoencoder.compile(optimizer=Adam(lr=1e-4), loss=\"mean_squared_error\", metrics=['accuracy'])\n",
    "discriminator.compile(optimizer=Adam(lr=1e-4), loss=\"binary_crossentropy\", metrics=['accuracy'])"
   ]
  },
  {
   "cell_type": "markdown",
   "metadata": {},
   "source": [
    "## Notes  \n",
    "We create a function that takes a single class (cellular phenotype) and test reconstruction loss for autoencoder and discriminator"
   ]
  },
  {
   "cell_type": "code",
   "execution_count": 7,
   "metadata": {},
   "outputs": [],
   "source": [
    "def anomaly_score(cell_pheno):\n",
    "    [shutil.rmtree(x) for x in glob(\"/home/aogorodnikov/test/*\")]\n",
    "    input_dir = os.path.join(\"/home/aogorodnikov/classes_rgb_corrected/\", cell_pheno)\n",
    "    shutil.copytree(input_dir, os.path.join(\"/home/aogorodnikov/test/\", cell_pheno))\n",
    "    img_wd = \"/home/aogorodnikov/test\"\n",
    "    batch = 56\n",
    "    input_dim = (104,104,3)\n",
    "    data_loader = ImageDataGenerator(\n",
    "        rescale=1. / 255,\n",
    "        featurewise_center=True,\n",
    "        featurewise_std_normalization=True,\n",
    "        shear_range=0.2,\n",
    "        zoom_range=0.2,\n",
    "        horizontal_flip=True)\n",
    "\n",
    "    train_data = data_loader.flow_from_directory(\n",
    "        img_wd,\n",
    "        target_size=(input_dim[0], input_dim[0]),\n",
    "        batch_size=batch,\n",
    "        class_mode='input')\n",
    "    \n",
    "    batch_index = 0\n",
    "    discriminator_batch_losses = []\n",
    "    ks_batch = []\n",
    "    while batch_index <= train_data.batch_index:\n",
    "        data = train_data.next()\n",
    "        data_list = data[0]\n",
    "        data_size = len(data_list)\n",
    "\n",
    "        fake_latent = encoder.predict(data_list)\n",
    "        discriminator_input = np.concatenate((fake_latent, np.random.randn(data_size, latent_dim) * 5.))\n",
    "        discriminator_labels = np.concatenate((np.zeros((data_size, 1)), np.ones((data_size, 1))))\n",
    "        discriminator_history = discriminator.evaluate(x=discriminator_input, y=discriminator_labels)\n",
    "\n",
    "            \n",
    "        batch_index = batch_index + 1\n",
    "        discriminator_batch_losses.append(discriminator_history[0])\n",
    "        ks_batch.append(ks_test)\n",
    "    \n",
    "    \n",
    "    \n",
    "    \n",
    "    ae_res = autoencoder.evaluate_generator(train_data)[0]\n",
    "    adv_res = np.mean(discriminator_batch_losses)\n",
    "    \n",
    "    print('Class: {}\\nae_loss: {}\\nadv_loss: {}'.format(cell_pheno, ae_res, adv_res))\n",
    "    return [ae_res, adv_res]\n",
    "    \n",
    "        "
   ]
  },
  {
   "cell_type": "markdown",
   "metadata": {},
   "source": [
    "## Notes  \n",
    "We create a list of thise class directories and deploy the function above in list comprehension logic"
   ]
  },
  {
   "cell_type": "code",
   "execution_count": 8,
   "metadata": {},
   "outputs": [
    {
     "name": "stdout",
     "output_type": "stream",
     "text": [
      "Found 684 images belonging to 1 classes.\n",
      "112/112 [==============================] - 0s 169us/step\n",
      "112/112 [==============================] - 0s 170us/step\n",
      "112/112 [==============================] - 0s 169us/step\n",
      "112/112 [==============================] - 0s 169us/step\n",
      "112/112 [==============================] - 0s 165us/step\n",
      "112/112 [==============================] - 0s 171us/step\n",
      "112/112 [==============================] - 0s 166us/step\n",
      "112/112 [==============================] - 0s 167us/step\n",
      "112/112 [==============================] - 0s 167us/step\n",
      "112/112 [==============================] - 0s 169us/step\n",
      "112/112 [==============================] - 0s 168us/step\n",
      "112/112 [==============================] - 0s 171us/step\n",
      "24/24 [==============================] - 0s 181us/step\n",
      "Class: confluent\n",
      "ae_loss: 0.005207642174886855\n",
      "adv_loss: 0.760744924073691\n",
      "ks_pvalue: 0.4710675553633359\n",
      "Found 313 images belonging to 1 classes.\n",
      "112/112 [==============================] - 0s 167us/step\n",
      "112/112 [==============================] - 0s 172us/step\n",
      "112/112 [==============================] - 0s 168us/step\n",
      "112/112 [==============================] - 0s 170us/step\n",
      "112/112 [==============================] - 0s 167us/step\n",
      "66/66 [==============================] - 0s 265us/step\n",
      "Class: cytokinesis\n",
      "ae_loss: 0.005978981418291124\n",
      "adv_loss: 0.76058169408106\n",
      "ks_pvalue: 0.47733833891709937\n",
      "Found 1124 images belonging to 1 classes.\n",
      "112/112 [==============================] - 0s 173us/step\n",
      "112/112 [==============================] - 0s 171us/step\n",
      "112/112 [==============================] - 0s 170us/step\n",
      "112/112 [==============================] - 0s 169us/step\n",
      "112/112 [==============================] - 0s 170us/step\n",
      "112/112 [==============================] - 0s 167us/step\n",
      "112/112 [==============================] - 0s 169us/step\n",
      "112/112 [==============================] - 0s 171us/step\n",
      "112/112 [==============================] - 0s 168us/step\n",
      "112/112 [==============================] - 0s 171us/step\n",
      "112/112 [==============================] - 0s 167us/step\n",
      "112/112 [==============================] - 0s 172us/step\n",
      "112/112 [==============================] - 0s 169us/step\n",
      "112/112 [==============================] - 0s 169us/step\n",
      "112/112 [==============================] - 0s 167us/step\n",
      "112/112 [==============================] - 0s 169us/step\n",
      "112/112 [==============================] - 0s 170us/step\n",
      "112/112 [==============================] - 0s 168us/step\n",
      "112/112 [==============================] - 0s 168us/step\n",
      "112/112 [==============================] - 0s 167us/step\n",
      "8/8 [==============================] - 0s 362us/step\n",
      "Class: negative\n",
      "ae_loss: 0.0047015743131262125\n",
      "adv_loss: 0.6730009751255009\n",
      "ks_pvalue: 0.48775880501623486\n",
      "Found 310 images belonging to 1 classes.\n",
      "112/112 [==============================] - 0s 170us/step\n",
      "112/112 [==============================] - 0s 167us/step\n",
      "112/112 [==============================] - 0s 165us/step\n",
      "112/112 [==============================] - 0s 169us/step\n",
      "112/112 [==============================] - 0s 165us/step\n",
      "60/60 [==============================] - 0s 256us/step\n",
      "Class: nuclear_mess\n",
      "ae_loss: 0.006099429921877961\n",
      "adv_loss: 0.7721628675385128\n",
      "ks_pvalue: 0.5577918789678155\n",
      "Found 857 images belonging to 1 classes.\n",
      "112/112 [==============================] - 0s 171us/step\n",
      "112/112 [==============================] - 0s 172us/step\n",
      "112/112 [==============================] - 0s 171us/step\n",
      "112/112 [==============================] - 0s 171us/step\n",
      "112/112 [==============================] - 0s 165us/step\n",
      "112/112 [==============================] - 0s 169us/step\n",
      "112/112 [==============================] - 0s 168us/step\n",
      "112/112 [==============================] - 0s 167us/step\n",
      "112/112 [==============================] - 0s 169us/step\n",
      "112/112 [==============================] - 0s 173us/step\n",
      "112/112 [==============================] - 0s 168us/step\n",
      "112/112 [==============================] - 0s 167us/step\n",
      "112/112 [==============================] - 0s 173us/step\n",
      "112/112 [==============================] - 0s 167us/step\n",
      "112/112 [==============================] - 0s 170us/step\n",
      "34/34 [==============================] - 0s 337us/step\n",
      "Class: large_nuclei\n",
      "ae_loss: 0.005084151508071424\n",
      "adv_loss: 0.8018852497975366\n",
      "ks_pvalue: 0.5813373321447506\n",
      "Found 1077 images belonging to 1 classes.\n",
      "112/112 [==============================] - 0s 169us/step\n",
      "112/112 [==============================] - 0s 170us/step\n",
      "112/112 [==============================] - 0s 169us/step\n",
      "112/112 [==============================] - 0s 171us/step\n",
      "112/112 [==============================] - 0s 171us/step\n",
      "112/112 [==============================] - 0s 170us/step\n",
      "112/112 [==============================] - 0s 165us/step\n",
      "112/112 [==============================] - 0s 169us/step\n",
      "112/112 [==============================] - 0s 169us/step\n",
      "112/112 [==============================] - 0s 166us/step\n",
      "112/112 [==============================] - 0s 169us/step\n",
      "112/112 [==============================] - 0s 170us/step\n",
      "112/112 [==============================] - 0s 169us/step\n",
      "112/112 [==============================] - 0s 168us/step\n",
      "112/112 [==============================] - 0s 166us/step\n",
      "112/112 [==============================] - 0s 168us/step\n",
      "112/112 [==============================] - 0s 173us/step\n",
      "112/112 [==============================] - 0s 175us/step\n",
      "112/112 [==============================] - 0s 170us/step\n",
      "26/26 [==============================] - 0s 179us/step\n",
      "Class: other\n",
      "ae_loss: 0.004020267578244845\n",
      "adv_loss: 0.7706710666418076\n",
      "ks_pvalue: 0.4982004712386581\n",
      "Found 358 images belonging to 1 classes.\n",
      "112/112 [==============================] - 0s 173us/step\n",
      "112/112 [==============================] - 0s 170us/step\n",
      "112/112 [==============================] - 0s 170us/step\n",
      "112/112 [==============================] - 0s 170us/step\n",
      "112/112 [==============================] - 0s 166us/step\n",
      "112/112 [==============================] - 0s 168us/step\n",
      "44/44 [==============================] - 0s 298us/step\n",
      "Class: micronuclei\n",
      "ae_loss: 0.005587491222433538\n",
      "adv_loss: 0.7510054926482999\n",
      "ks_pvalue: 0.5144968828109234\n",
      "Found 1029 images belonging to 1 classes.\n",
      "112/112 [==============================] - 0s 174us/step\n",
      "112/112 [==============================] - 0s 174us/step\n",
      "112/112 [==============================] - 0s 176us/step\n",
      "112/112 [==============================] - 0s 177us/step\n",
      "112/112 [==============================] - 0s 168us/step\n",
      "112/112 [==============================] - 0s 164us/step\n",
      "112/112 [==============================] - 0s 169us/step\n",
      "112/112 [==============================] - 0s 168us/step\n",
      "112/112 [==============================] - 0s 165us/step\n",
      "112/112 [==============================] - 0s 167us/step\n",
      "112/112 [==============================] - 0s 168us/step\n",
      "112/112 [==============================] - 0s 170us/step\n",
      "112/112 [==============================] - 0s 168us/step\n",
      "112/112 [==============================] - 0s 168us/step\n",
      "112/112 [==============================] - 0s 170us/step\n",
      "112/112 [==============================] - 0s 165us/step\n",
      "112/112 [==============================] - 0s 171us/step\n",
      "112/112 [==============================] - 0s 171us/step\n",
      "42/42 [==============================] - 0s 320us/step\n",
      "Class: spindle\n",
      "ae_loss: 0.004655183178885859\n",
      "adv_loss: 0.6908691301381678\n",
      "ks_pvalue: 0.4787257143597005\n",
      "Found 264 images belonging to 1 classes.\n",
      "112/112 [==============================] - 0s 171us/step\n",
      "112/112 [==============================] - 0s 169us/step\n",
      "112/112 [==============================] - 0s 171us/step\n",
      "112/112 [==============================] - 0s 168us/step\n",
      "80/80 [==============================] - 0s 263us/step\n",
      "Class: Y\n",
      "ae_loss: 0.0052959781676305065\n",
      "adv_loss: 0.7825994038581848\n",
      "ks_pvalue: 0.4065847311485494\n",
      "Found 448 images belonging to 1 classes.\n",
      "112/112 [==============================] - 0s 167us/step\n",
      "112/112 [==============================] - 0s 175us/step\n",
      "112/112 [==============================] - 0s 171us/step\n",
      "112/112 [==============================] - 0s 170us/step\n",
      "112/112 [==============================] - 0s 165us/step\n",
      "112/112 [==============================] - 0s 170us/step\n",
      "112/112 [==============================] - 0s 165us/step\n",
      "112/112 [==============================] - 0s 168us/step\n",
      "Class: binucleated\n",
      "ae_loss: 0.004873660102020949\n",
      "adv_loss: 0.7842971884778568\n",
      "ks_pvalue: 0.5985915206493384\n",
      "Found 560 images belonging to 1 classes.\n",
      "112/112 [==============================] - 0s 170us/step\n",
      "112/112 [==============================] - 0s 168us/step\n",
      "112/112 [==============================] - 0s 170us/step\n",
      "112/112 [==============================] - 0s 170us/step\n",
      "112/112 [==============================] - 0s 163us/step\n",
      "112/112 [==============================] - 0s 170us/step\n",
      "112/112 [==============================] - 0s 174us/step\n",
      "112/112 [==============================] - 0s 171us/step\n",
      "112/112 [==============================] - 0s 166us/step\n",
      "112/112 [==============================] - 0s 169us/step\n",
      "Class: polarity\n",
      "ae_loss: 0.005070700589567423\n",
      "adv_loss: 0.7433345564774105\n",
      "ks_pvalue: 0.4339568731045472\n",
      "Found 533 images belonging to 1 classes.\n",
      "112/112 [==============================] - 0s 169us/step\n",
      "112/112 [==============================] - 0s 165us/step\n",
      "112/112 [==============================] - 0s 170us/step\n",
      "112/112 [==============================] - 0s 167us/step\n",
      "112/112 [==============================] - 0s 173us/step\n",
      "112/112 [==============================] - 0s 168us/step\n",
      "112/112 [==============================] - 0s 171us/step\n",
      "112/112 [==============================] - 0s 170us/step\n",
      "112/112 [==============================] - 0s 171us/step\n",
      "58/58 [==============================] - 0s 252us/step\n",
      "Class: croissant\n",
      "ae_loss: 0.004756421213323079\n",
      "adv_loss: 0.7668824501519133\n",
      "ks_pvalue: 0.4613222701334565\n"
     ]
    }
   ],
   "source": [
    "dirs = [x for x in os.listdir(\"/home/aogorodnikov/classes_rgb_corrected/\") if os.path.isdir(os.path.join(\"/home/aogorodnikov/classes_rgb_corrected/\", x))]\n",
    "results = [[x, anomaly_score(cell_pheno=x)] for x in dirs]"
   ]
  },
  {
   "cell_type": "markdown",
   "metadata": {},
   "source": [
    "## Notes  \n",
    "Printed results show adversarial and autoencoder losses fpr each class"
   ]
  },
  {
   "cell_type": "code",
   "execution_count": 8,
   "metadata": {},
   "outputs": [
    {
     "data": {
      "text/plain": [
       "[['confluent', [0.0052395304120336356, 0.8320614597299596]],\n",
       " ['cytokinesis', [0.005937064578310369, 0.7239362725619802]],\n",
       " ['negative', [0.004699674862506551, 0.6887673135517406]],\n",
       " ['nuclear_mess', [0.006209361997823562, 0.7224980177387358]],\n",
       " ['large_nuclei', [0.005099604314882112, 0.79055662916488]],\n",
       " ['other', [0.0040518020776065, 0.779564362338611]],\n",
       " ['micronuclei', [0.00551873598216549, 0.733570560453553]],\n",
       " ['spindle', [0.004600882017034657, 0.6948887342050261]],\n",
       " ['Y', [0.005324033992082784, 0.741863888331822]],\n",
       " ['binucleated', [0.004913649405352771, 0.8024204703313964]],\n",
       " ['polarity', [0.0051511010155081745, 0.7308858743735722]],\n",
       " ['croissant', [0.004723330433733804, 0.727723164423346]]]"
      ]
     },
     "execution_count": 8,
     "metadata": {},
     "output_type": "execute_result"
    }
   ],
   "source": [
    "results"
   ]
  },
  {
   "cell_type": "markdown",
   "metadata": {},
   "source": [
    "# Conclusions  \n",
    "1. *Negative* class has the smallest autoencoder and second smallest adversarial loss.  "
   ]
  },
  {
   "cell_type": "code",
   "execution_count": 29,
   "metadata": {},
   "outputs": [],
   "source": [
    "img_wd = \"/home/aogorodnikov/classes_rgb_corrected/\"\n",
    "batch = 56\n",
    "input_dim = (104,104,3)\n",
    "latent_dim=32\n",
    "epoch = 10\n",
    "conv=True\n",
    "adversarial=True\n"
   ]
  },
  {
   "cell_type": "code",
   "execution_count": 30,
   "metadata": {},
   "outputs": [
    {
     "name": "stdout",
     "output_type": "stream",
     "text": [
      "Found 7557 images belonging to 12 classes.\n"
     ]
    }
   ],
   "source": [
    "# LOAD DATA\n",
    "data_loader = ImageDataGenerator(\n",
    "    rescale=1. / 255,\n",
    "    featurewise_center=True,\n",
    "    featurewise_std_normalization=True,\n",
    "    shear_range=0.2,\n",
    "    zoom_range=0.2,\n",
    "    horizontal_flip=True)\n",
    "\n",
    "train_data = data_loader.flow_from_directory(\n",
    "    img_wd,\n",
    "    target_size=(input_dim[0], input_dim[0]),\n",
    "    batch_size=batch,\n",
    "    class_mode='input')"
   ]
  },
  {
   "cell_type": "code",
   "execution_count": 31,
   "metadata": {},
   "outputs": [
    {
     "name": "stderr",
     "output_type": "stream",
     "text": [
      "/home/aogorodnikov/anaconda3/envs/imgSudoku/lib/python3.7/site-packages/keras_preprocessing/image/image_data_generator.py:716: UserWarning: This ImageDataGenerator specifies `featurewise_center`, but it hasn't been fit on any training data. Fit it first by calling `.fit(numpy_data)`.\n",
      "  warnings.warn('This ImageDataGenerator specifies '\n",
      "/home/aogorodnikov/anaconda3/envs/imgSudoku/lib/python3.7/site-packages/keras_preprocessing/image/image_data_generator.py:724: UserWarning: This ImageDataGenerator specifies `featurewise_std_normalization`, but it hasn't been fit on any training data. Fit it first by calling `.fit(numpy_data)`.\n",
      "  warnings.warn('This ImageDataGenerator specifies '\n"
     ]
    }
   ],
   "source": [
    "data = train_data.next()\n",
    "data_list = data[0]\n",
    "fake_latent = encoder.predict(data_list)"
   ]
  },
  {
   "cell_type": "code",
   "execution_count": 32,
   "metadata": {},
   "outputs": [],
   "source": [
    "a = fake_latent[0]\n",
    "b = np.random.randn(latent_dim) * 5."
   ]
  },
  {
   "cell_type": "code",
   "execution_count": 42,
   "metadata": {},
   "outputs": [
    {
     "data": {
      "text/plain": [
       "0.15625"
      ]
     },
     "execution_count": 42,
     "metadata": {},
     "output_type": "execute_result"
    }
   ],
   "source": [
    "ks_2samp(a,b).statistic"
   ]
  },
  {
   "cell_type": "code",
   "execution_count": 14,
   "metadata": {},
   "outputs": [],
   "source": [
    "def draw(samples):\n",
    "    fig = plt.figure(figsize=(5 * len(samples), 5))\n",
    "    gs = gridspec.GridSpec(1, len(samples))\n",
    "    for i, sample in enumerate(samples):\n",
    "        ax = plt.Subplot(fig, gs[i])\n",
    "        ax.imshow((sample[\"image\"] * 255.).astype(\"int\"), cmap='gray')\n",
    "        ax.set_xticks([])\n",
    "        ax.set_yticks([])\n",
    "        ax.set_aspect('equal')\n",
    "        ax.set_title(sample[\"title\"])\n",
    "        fig.add_subplot(ax)\n",
    "    plt.show(block=False)"
   ]
  },
  {
   "cell_type": "code",
   "execution_count": 15,
   "metadata": {},
   "outputs": [
    {
     "data": {
      "image/png": "[encoded data removed]",
      "text/plain": [
       "<Figure size 720x360 with 2 Axes>"
      ]
     },
     "metadata": {},
     "output_type": "display_data"
    }
   ],
   "source": [
    "choice = np.random.choice(np.arange(32))\n",
    "original = data_list[choice]\n",
    "\n",
    "original_1 = np.expand_dims(original, axis=0)\n",
    "\n",
    "latent = encoder.predict(original_1)\n",
    "\n",
    "reconstruction = decoder.predict(latent)\n",
    "\n",
    "draw([{\"title\": \"Original\", \"image\": original}, {\"title\": \"Reconstruction\", \"image\": reconstruction[0]}])\n",
    "\n"
   ]
  },
  {
   "cell_type": "code",
   "execution_count": 16,
   "metadata": {},
   "outputs": [
    {
     "data": {
      "text/plain": [
       "[0.004902165813330377, 0.5780405813192934]"
      ]
     },
     "execution_count": 16,
     "metadata": {},
     "output_type": "execute_result"
    }
   ],
   "source": [
    "autoencoder.evaluate_generator(train_data)"
   ]
  },
  {
   "cell_type": "code",
   "execution_count": 149,
   "metadata": {},
   "outputs": [
    {
     "name": "stdout",
     "output_type": "stream",
     "text": [
      "Found 7557 images belonging to 12 classes.\n"
     ]
    }
   ],
   "source": [
    "data_loader = ImageDataGenerator(\n",
    "    rescale=1. / 255,\n",
    "    featurewise_center=True,\n",
    "    featurewise_std_normalization=True,\n",
    "    shear_range=0.2,\n",
    "    zoom_range=0.2,\n",
    "    horizontal_flip=True)\n",
    "\n",
    "train_data = data_loader.flow_from_directory(\n",
    "    img_wd,\n",
    "    target_size=(input_dim[0], input_dim[0]),\n",
    "    batch_size=batch,\n",
    "    class_mode='input')\n",
    "\n"
   ]
  },
  {
   "cell_type": "code",
   "execution_count": 168,
   "metadata": {},
   "outputs": [
    {
     "data": {
      "text/plain": [
       "array([[-4.564788  ,  0.9550102 ,  8.51572   , ..., -0.4226413 ,\n",
       "        -2.8371184 ,  7.1186886 ],\n",
       "       [-2.9885685 , -5.655708  ,  3.7550688 , ...,  6.76246   ,\n",
       "         2.7704573 , -9.528672  ],\n",
       "       [-1.4381589 , -1.331906  ,  1.8464564 , ..., -4.284677  ,\n",
       "        -0.1258904 ,  5.611074  ],\n",
       "       ...,\n",
       "       [-3.8753633 , -8.207726  , 13.1112995 , ...,  1.2015983 ,\n",
       "         1.0967643 , -0.73942983],\n",
       "       [-4.6393876 , -1.6131024 ,  3.0874438 , ...,  1.7831937 ,\n",
       "         3.7470875 ,  2.2027905 ],\n",
       "       [-4.1928124 , -7.6067743 ,  1.2030356 , ...,  1.3560551 ,\n",
       "        13.47506   , -9.464908  ]], dtype=float32)"
      ]
     },
     "execution_count": 168,
     "metadata": {},
     "output_type": "execute_result"
    }
   ],
   "source": [
    "fake_latent = encoder.predict(data_list)\n",
    "\n",
    "fake_latent"
   ]
  },
  {
   "cell_type": "code",
   "execution_count": 172,
   "metadata": {},
   "outputs": [
    {
     "data": {
      "text/plain": [
       "(56, 32)"
      ]
     },
     "execution_count": 172,
     "metadata": {},
     "output_type": "execute_result"
    }
   ],
   "source": [
    "fake_latent.shape"
   ]
  },
  {
   "cell_type": "code",
   "execution_count": 169,
   "metadata": {},
   "outputs": [
    {
     "ename": "ValueError",
     "evalue": "all the input array dimensions except for the concatenation axis must match exactly",
     "output_type": "error",
     "traceback": [
      "\u001b[0;31m---------------------------------------------------------------------------\u001b[0m",
      "\u001b[0;31mValueError\u001b[0m                                Traceback (most recent call last)",
      "\u001b[0;32m<ipython-input-169-4908213676e5>\u001b[0m in \u001b[0;36m<module>\u001b[0;34m\u001b[0m\n\u001b[0;32m----> 1\u001b[0;31m \u001b[0mdiscriminator_input\u001b[0m \u001b[0;34m=\u001b[0m \u001b[0mnp\u001b[0m\u001b[0;34m.\u001b[0m\u001b[0mconcatenate\u001b[0m\u001b[0;34m(\u001b[0m\u001b[0;34m(\u001b[0m\u001b[0mfake_latent\u001b[0m\u001b[0;34m,\u001b[0m \u001b[0mnp\u001b[0m\u001b[0;34m.\u001b[0m\u001b[0mrandom\u001b[0m\u001b[0;34m.\u001b[0m\u001b[0mrandn\u001b[0m\u001b[0;34m(\u001b[0m\u001b[0mdata_size\u001b[0m\u001b[0;34m,\u001b[0m \u001b[0mlatent_dim\u001b[0m\u001b[0;34m)\u001b[0m \u001b[0;34m*\u001b[0m \u001b[0;36m5.\u001b[0m\u001b[0;34m)\u001b[0m\u001b[0;34m)\u001b[0m\u001b[0;34m\u001b[0m\u001b[0;34m\u001b[0m\u001b[0m\n\u001b[0m",
      "\u001b[0;31mValueError\u001b[0m: all the input array dimensions except for the concatenation axis must match exactly"
     ]
    }
   ],
   "source": [
    "discriminator_input = np.concatenate((fake_latent, np.random.randn(data_size, latent_dim) * 5.))\n"
   ]
  },
  {
   "cell_type": "code",
   "execution_count": null,
   "metadata": {},
   "outputs": [],
   "source": [
    "discriminator_labels = np.concatenate((np.zeros((data_size, 1)), np.ones((data_size, 1))))\n",
    "discriminator_history = discriminator.evaluate(x=discriminator_input, y=discriminator_labels)"
   ]
  },
  {
   "cell_type": "code",
   "execution_count": null,
   "metadata": {},
   "outputs": [],
   "source": []
  }
 ],
 "metadata": {
  "kernelspec": {
   "display_name": "Python 3",
   "language": "python",
   "name": "python3"
  },
  "language_info": {
   "codemirror_mode": {
    "name": "ipython",
    "version": 3
   },
   "file_extension": ".py",
   "mimetype": "text/x-python",
   "name": "python",
   "nbconvert_exporter": "python",
   "pygments_lexer": "ipython3",
   "version": "3.7.3"
  }
 },
 "nbformat": 4,
 "nbformat_minor": 4
}
