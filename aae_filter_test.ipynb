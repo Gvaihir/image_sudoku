{
 "cells": [
  {
   "cell_type": "code",
   "execution_count": 1,
   "metadata": {},
   "outputs": [
    {
     "name": "stderr",
     "output_type": "stream",
     "text": [
      "Using TensorFlow backend.\n"
     ]
    }
   ],
   "source": [
    "import argparse\n",
    "from argparse import RawTextHelpFormatter\n",
    "import numpy as np\n",
    "import os\n",
    "\n",
    "# keras\n",
    "from keras.models import Sequential, Model, load_model\n",
    "from keras.layers import Input, Dense, Conv2D, MaxPooling2D, Reshape, UpSampling2D, Conv2DTranspose, Flatten, BatchNormalization\n",
    "from keras.preprocessing.image import ImageDataGenerator\n",
    "from keras.utils import plot_model\n",
    "from keras.optimizers import Adam\n",
    "\n",
    "\n",
    "from absl import app\n",
    "\n",
    "# logging\n",
    "import wandb\n",
    "from datetime import datetime\n",
    "import matplotlib.pyplot as plt\n",
    "from matplotlib import gridspec, colors\n",
    "import shutil\n",
    "from glob import glob\n",
    "from sklearn.metrics import mean_squared_error as mse\n",
    "from scipy.stats import entropy\n",
    "from scipy.stats import norm, kstest"
   ]
  },
  {
   "cell_type": "markdown",
   "metadata": {},
   "source": [
    "## Load models"
   ]
  },
  {
   "cell_type": "code",
   "execution_count": 2,
   "metadata": {},
   "outputs": [],
   "source": [
    "models = \"/home/aogorodnikov/aae\"\n",
    "wd = \"/home/aogorodnikov/test\"\n",
    "batch = 16"
   ]
  },
  {
   "cell_type": "code",
   "execution_count": 3,
   "metadata": {},
   "outputs": [],
   "source": [
    "def model_compile(models):\n",
    "    '''\n",
    "    Loads and compiles models\n",
    "    :param models: directory with encoder, decoder and discriminator\n",
    "\n",
    "    :return: compiled autoencoder and discriminator\n",
    "    '''\n",
    "\n",
    "    encoder = load_model(os.path.join(models, \"encoder.h5\"))\n",
    "    decoder = load_model(os.path.join(models, \"decoder.h5\"))\n",
    "\n",
    "    # get input and latent space shapes\n",
    "    latent_dim = encoder.get_layer(index=-1).output_shape[1]\n",
    "    input_dim = encoder.get_layer(index=0).input_shape[1:]\n",
    "\n",
    "    # compile imported models into assembled autoencoder\n",
    "    autoencoder_input = Input(shape=input_dim)\n",
    "    autoencoder = Model(autoencoder_input, decoder(encoder(autoencoder_input)))\n",
    "    autoencoder.compile(optimizer=Adam(lr=1e-4), loss=\"mean_squared_error\", metrics=['accuracy'])\n",
    "\n",
    "    return autoencoder, encoder, input_dim, latent_dim"
   ]
  },
  {
   "cell_type": "code",
   "execution_count": 4,
   "metadata": {},
   "outputs": [
    {
     "name": "stdout",
     "output_type": "stream",
     "text": [
      "WARNING:tensorflow:From /home/aogorodnikov/anaconda3/envs/imgSudoku/lib/python3.7/site-packages/tensorflow/python/framework/op_def_library.py:263: colocate_with (from tensorflow.python.framework.ops) is deprecated and will be removed in a future version.\n",
      "Instructions for updating:\n",
      "Colocations handled automatically by placer.\n"
     ]
    },
    {
     "name": "stderr",
     "output_type": "stream",
     "text": [
      "/home/aogorodnikov/anaconda3/envs/imgSudoku/lib/python3.7/site-packages/keras/engine/saving.py:310: UserWarning: No training configuration found in save file: the model was *not* compiled. Compile it manually.\n",
      "  warnings.warn('No training configuration found in save file: '\n"
     ]
    }
   ],
   "source": [
    "autoencoder, encoder, input_dim, latent_dim = model_compile(models)"
   ]
  },
  {
   "cell_type": "code",
   "execution_count": 5,
   "metadata": {},
   "outputs": [],
   "source": [
    "def mse_batch(data_x, data_y, input_dim):\n",
    "    # TODO: docstring\n",
    "    shape_1 = input_dim[0]\n",
    "    shape_2 = input_dim[1:]\n",
    "    reshape_x = np.reshape(data_x, (shape_1, np.prod(shape_2)))\n",
    "    reshape_y = np.reshape(data_y, (shape_1, np.prod(shape_2)))\n",
    "    return mse(reshape_x, reshape_y)"
   ]
  },
  {
   "cell_type": "code",
   "execution_count": 6,
   "metadata": {},
   "outputs": [],
   "source": [
    "def anomaly_score(img_wd, batch, input_dim):\n",
    "    # TODO: docsting\n",
    "    data_loader = ImageDataGenerator(\n",
    "        rescale=1. / 255,\n",
    "        featurewise_center=True,\n",
    "        featurewise_std_normalization=True,\n",
    "        shear_range=0.2,\n",
    "        zoom_range=0.2,\n",
    "        horizontal_flip=True)\n",
    "\n",
    "    train_data = data_loader.flow_from_directory(\n",
    "        img_wd,\n",
    "        target_size=(input_dim[0], input_dim[0]),\n",
    "        batch_size=batch,\n",
    "        class_mode='input')\n",
    "    \n",
    "    batch_index = 0\n",
    "    discriminator_batch_losses = []\n",
    "    while batch_index <= train_data.batch_index:\n",
    "        data = train_data.next()\n",
    "        data_list = data[0]\n",
    "        data_size = len(data_list)\n",
    "\n",
    "        fake_latent = encoder.predict(data_list)\n",
    "        discriminator_input = np.concatenate((fake_latent, np.random.randn(data_size, latent_dim) * 5.))\n",
    "        discriminator_labels = np.concatenate((np.zeros((data_size, 1)), np.ones((data_size, 1))))\n",
    "        discriminator_history = discriminator.evaluate(x=discriminator_input, y=discriminator_labels)\n",
    "\n",
    "            \n",
    "        batch_index = batch_index + 1\n",
    "        discriminator_batch_losses.append(discriminator_history[0])\n",
    "    \n",
    "    \n",
    "    \n",
    "    \n",
    "    ae_res = autoencoder.evaluate_generator(train_data)[0]\n",
    "    adv_res = np.mean(discriminator_batch_losses)\n",
    "    \n",
    "    \n",
    "    \n",
    "    \n",
    "    if draw:\n",
    "        fig = plt.figure(figsize=(5 * len(samples), 5))\n",
    "        gs = gridspec.GridSpec(1, len(samples))\n",
    "        for i, sample in enumerate(samples):\n",
    "            ax = plt.Subplot(fig, gs[i])\n",
    "            ax.imshow((sample[\"image\"] * 255.).astype(\"int\"), cmap='gray')\n",
    "            ax.set_xticks([])\n",
    "            ax.set_yticks([])\n",
    "            ax.set_aspect('equal')\n",
    "            ax.set_title(sample[\"title\"])\n",
    "            fig.add_subplot(ax)\n",
    "        plt.show(block=False)\n",
    "        \n",
    "    \n",
    "    print('Class: {}\\nae_loss: {}\\nadv_loss: {}'.format(cell_pheno, ae_res, adv_res))\n",
    "    return [ae_res, adv_res]\n",
    "    \n",
    "        "
   ]
  },
  {
   "cell_type": "code",
   "execution_count": 6,
   "metadata": {},
   "outputs": [
    {
     "name": "stdout",
     "output_type": "stream",
     "text": [
      "Found 313 images belonging to 1 classes.\n"
     ]
    }
   ],
   "source": [
    "data_loader = ImageDataGenerator(\n",
    "    rescale=1. / 255,\n",
    "    featurewise_center=True,\n",
    "    featurewise_std_normalization=True,\n",
    "    shear_range=0,\n",
    "    zoom_range=0,\n",
    "    horizontal_flip=False)\n",
    "# load data\n",
    "data_in = data_loader.flow_from_directory(\n",
    "    wd,\n",
    "    target_size=(input_dim[0], input_dim[0]),\n",
    "    batch_size=batch,\n",
    "    shuffle=False,\n",
    "    class_mode='input')"
   ]
  },
  {
   "cell_type": "code",
   "execution_count": 7,
   "metadata": {},
   "outputs": [
    {
     "data": {
      "text/plain": [
       "['/home/aogorodnikov/test/cytokinesis/Pt04_r01c01_f01_0386.tif',\n",
       " '/home/aogorodnikov/test/cytokinesis/Pt04_r01c01_f02_0304.tif',\n",
       " '/home/aogorodnikov/test/cytokinesis/Pt04_r01c01_f02_0652.tif',\n",
       " '/home/aogorodnikov/test/cytokinesis/Pt04_r01c01_f04_0256.tif',\n",
       " '/home/aogorodnikov/test/cytokinesis/Pt04_r01c01_f04_0319.tif',\n",
       " '/home/aogorodnikov/test/cytokinesis/Pt04_r01c01_f04_0330.tif',\n",
       " '/home/aogorodnikov/test/cytokinesis/Pt04_r01c01_f05_0031.tif',\n",
       " '/home/aogorodnikov/test/cytokinesis/Pt04_r01c01_f05_0302.tif',\n",
       " '/home/aogorodnikov/test/cytokinesis/Pt04_r01c01_f06_0232.tif',\n",
       " '/home/aogorodnikov/test/cytokinesis/Pt04_r01c01_f08_0316.tif',\n",
       " '/home/aogorodnikov/test/cytokinesis/Pt04_r01c01_f09_0084.tif',\n",
       " '/home/aogorodnikov/test/cytokinesis/Pt04_r01c01_f10_0346.tif',\n",
       " '/home/aogorodnikov/test/cytokinesis/Pt04_r01c01_f11_0035.tif',\n",
       " '/home/aogorodnikov/test/cytokinesis/Pt04_r01c01_f11_0037.tif',\n",
       " '/home/aogorodnikov/test/cytokinesis/Pt04_r01c01_f11_0208.tif',\n",
       " '/home/aogorodnikov/test/cytokinesis/Pt04_r01c01_f11_0379.tif',\n",
       " '/home/aogorodnikov/test/cytokinesis/Pt04_r01c01_f12_0266.tif']"
      ]
     },
     "execution_count": 7,
     "metadata": {},
     "output_type": "execute_result"
    }
   ],
   "source": [
    "data_in.filepaths[:17]"
   ]
  },
  {
   "cell_type": "code",
   "execution_count": 8,
   "metadata": {},
   "outputs": [
    {
     "name": "stderr",
     "output_type": "stream",
     "text": [
      "/home/aogorodnikov/anaconda3/envs/imgSudoku/lib/python3.7/site-packages/keras_preprocessing/image/image_data_generator.py:716: UserWarning: This ImageDataGenerator specifies `featurewise_center`, but it hasn't been fit on any training data. Fit it first by calling `.fit(numpy_data)`.\n",
      "  warnings.warn('This ImageDataGenerator specifies '\n",
      "/home/aogorodnikov/anaconda3/envs/imgSudoku/lib/python3.7/site-packages/keras_preprocessing/image/image_data_generator.py:724: UserWarning: This ImageDataGenerator specifies `featurewise_std_normalization`, but it hasn't been fit on any training data. Fit it first by calling `.fit(numpy_data)`.\n",
      "  warnings.warn('This ImageDataGenerator specifies '\n"
     ]
    }
   ],
   "source": [
    "batch_index = 0\n",
    "\n",
    "data = data_in.next()\n",
    "data_list = data[0]\n",
    "data_size = len(data_list)\n",
    "\n",
    "ae_pred = autoencoder.predict_on_batch(data_list)\n",
    "fake_latent = encoder.predict(data_list)"
   ]
  },
  {
   "cell_type": "code",
   "execution_count": 9,
   "metadata": {},
   "outputs": [],
   "source": [
    "lol = [mse_batch(data_list[x], ae_pred[x], input_dim) for x in range(len(ae_pred))]"
   ]
  },
  {
   "cell_type": "code",
   "execution_count": 10,
   "metadata": {},
   "outputs": [],
   "source": [
    "def kld_batch(latent_x, latent_dim):\n",
    "    '''\n",
    "    Function to compute adversarial loss\n",
    "    :param latent_x: encoded latent space\n",
    "    :return: KL divergence b/w prior\n",
    "    '''\n",
    "    prior = np.random.randn(latent_dim) * 5.\n",
    "    return entropy(norm.pdf(latent_x), norm.pdf(prior))"
   ]
  },
  {
   "cell_type": "code",
   "execution_count": 11,
   "metadata": {},
   "outputs": [],
   "source": [
    "shit  = [kld_batch(x, latent_dim) for x in fake_latent]"
   ]
  },
  {
   "cell_type": "code",
   "execution_count": 12,
   "metadata": {},
   "outputs": [
    {
     "data": {
      "text/plain": [
       "[('/home/aogorodnikov/test/cytokinesis/Pt04_r01c01_f01_0386.tif',\n",
       "  0.006219174,\n",
       "  9.34047869459597),\n",
       " ('/home/aogorodnikov/test/cytokinesis/Pt04_r01c01_f02_0304.tif',\n",
       "  0.0023011477,\n",
       "  8.538530194657401),\n",
       " ('/home/aogorodnikov/test/cytokinesis/Pt04_r01c01_f02_0652.tif',\n",
       "  0.0029112056,\n",
       "  6.201995170506212),\n",
       " ('/home/aogorodnikov/test/cytokinesis/Pt04_r01c01_f04_0256.tif',\n",
       "  0.0029931194,\n",
       "  9.753694729578307),\n",
       " ('/home/aogorodnikov/test/cytokinesis/Pt04_r01c01_f04_0319.tif',\n",
       "  0.0025848555,\n",
       "  3.068893060820288),\n",
       " ('/home/aogorodnikov/test/cytokinesis/Pt04_r01c01_f04_0330.tif',\n",
       "  0.0039777756,\n",
       "  8.490175263068908),\n",
       " ('/home/aogorodnikov/test/cytokinesis/Pt04_r01c01_f05_0031.tif',\n",
       "  0.0007974663,\n",
       "  5.814659138153534),\n",
       " ('/home/aogorodnikov/test/cytokinesis/Pt04_r01c01_f05_0302.tif',\n",
       "  0.0022562735,\n",
       "  13.935966666544264),\n",
       " ('/home/aogorodnikov/test/cytokinesis/Pt04_r01c01_f06_0232.tif',\n",
       "  0.0014631412,\n",
       "  11.783931993434004),\n",
       " ('/home/aogorodnikov/test/cytokinesis/Pt04_r01c01_f08_0316.tif',\n",
       "  0.0020877575,\n",
       "  12.905221398441624),\n",
       " ('/home/aogorodnikov/test/cytokinesis/Pt04_r01c01_f09_0084.tif',\n",
       "  0.0015942378,\n",
       "  3.0990144396537955),\n",
       " ('/home/aogorodnikov/test/cytokinesis/Pt04_r01c01_f10_0346.tif',\n",
       "  0.012020915,\n",
       "  9.448510168377984),\n",
       " ('/home/aogorodnikov/test/cytokinesis/Pt04_r01c01_f11_0035.tif',\n",
       "  0.0017927515,\n",
       "  6.340448230312759),\n",
       " ('/home/aogorodnikov/test/cytokinesis/Pt04_r01c01_f11_0037.tif',\n",
       "  0.001998696,\n",
       "  13.842125007325393),\n",
       " ('/home/aogorodnikov/test/cytokinesis/Pt04_r01c01_f11_0208.tif',\n",
       "  0.0042443415,\n",
       "  25.641710990951598),\n",
       " ('/home/aogorodnikov/test/cytokinesis/Pt04_r01c01_f11_0379.tif',\n",
       "  0.0055617425,\n",
       "  11.139092576640241)]"
      ]
     },
     "execution_count": 12,
     "metadata": {},
     "output_type": "execute_result"
    }
   ],
   "source": [
    "list(zip(data_in.filepaths[:17],lol, shit))"
   ]
  },
  {
   "cell_type": "raw",
   "metadata": {},
   "source": [
    "cyto:\n",
    "\n",
    "[('/home/aogorodnikov/test/cytokinesis/Pt04_r01c01_f01_0386.tif', 0.006219174),\n",
    " ('/home/aogorodnikov/test/cytokinesis/Pt04_r01c01_f02_0304.tif', 0.0023011477),\n",
    " ('/home/aogorodnikov/test/cytokinesis/Pt04_r01c01_f02_0652.tif', 0.0029112056),\n",
    " ('/home/aogorodnikov/test/cytokinesis/Pt04_r01c01_f04_0256.tif', 0.0029931194),\n",
    " ('/home/aogorodnikov/test/cytokinesis/Pt04_r01c01_f04_0319.tif', 0.0025848555),\n",
    " ('/home/aogorodnikov/test/cytokinesis/Pt04_r01c01_f04_0330.tif', 0.0039777756),\n",
    " ('/home/aogorodnikov/test/cytokinesis/Pt04_r01c01_f05_0031.tif', 0.0007974663),\n",
    " ('/home/aogorodnikov/test/cytokinesis/Pt04_r01c01_f05_0302.tif', 0.0022562735),\n",
    " ('/home/aogorodnikov/test/cytokinesis/Pt04_r01c01_f06_0232.tif', 0.0014631412),\n",
    " ('/home/aogorodnikov/test/cytokinesis/Pt04_r01c01_f08_0316.tif', 0.0020877575),\n",
    " ('/home/aogorodnikov/test/cytokinesis/Pt04_r01c01_f09_0084.tif', 0.0015942378),\n",
    " ('/home/aogorodnikov/test/cytokinesis/Pt04_r01c01_f10_0346.tif', 0.012020915),\n",
    " ('/home/aogorodnikov/test/cytokinesis/Pt04_r01c01_f11_0035.tif', 0.0017927515),\n",
    " ('/home/aogorodnikov/test/cytokinesis/Pt04_r01c01_f11_0037.tif', 0.001998696),\n",
    " ('/home/aogorodnikov/test/cytokinesis/Pt04_r01c01_f11_0208.tif', 0.0042443415),\n",
    " ('/home/aogorodnikov/test/cytokinesis/Pt04_r01c01_f11_0379.tif', 0.0055617425)]"
   ]
  },
  {
   "cell_type": "code",
   "execution_count": 30,
   "metadata": {},
   "outputs": [
    {
     "data": {
      "text/plain": [
       "0.0038870783"
      ]
     },
     "execution_count": 30,
     "metadata": {},
     "output_type": "execute_result"
    }
   ],
   "source": [
    "np.mean(lol)"
   ]
  },
  {
   "cell_type": "code",
   "execution_count": 7,
   "metadata": {},
   "outputs": [
    {
     "name": "stderr",
     "output_type": "stream",
     "text": [
      "/home/aogorodnikov/anaconda3/envs/imgSudoku/lib/python3.7/site-packages/keras_preprocessing/image/image_data_generator.py:716: UserWarning: This ImageDataGenerator specifies `featurewise_center`, but it hasn't been fit on any training data. Fit it first by calling `.fit(numpy_data)`.\n",
      "  warnings.warn('This ImageDataGenerator specifies '\n",
      "/home/aogorodnikov/anaconda3/envs/imgSudoku/lib/python3.7/site-packages/keras_preprocessing/image/image_data_generator.py:724: UserWarning: This ImageDataGenerator specifies `featurewise_std_normalization`, but it hasn't been fit on any training data. Fit it first by calling `.fit(numpy_data)`.\n",
      "  warnings.warn('This ImageDataGenerator specifies '\n"
     ]
    }
   ],
   "source": [
    "data = data_in.next()\n",
    "data_list = data[0]\n",
    "data_size = len(data_list)"
   ]
  },
  {
   "cell_type": "code",
   "execution_count": 11,
   "metadata": {},
   "outputs": [
    {
     "data": {
      "text/plain": [
       "0.005301421973854303"
      ]
     },
     "execution_count": 11,
     "metadata": {},
     "output_type": "execute_result"
    }
   ],
   "source": [
    "autoencoder.evaluate_generator(data_in)[0]"
   ]
  },
  {
   "cell_type": "markdown",
   "metadata": {},
   "source": [
    "## Notes  \n",
    "We create a function that takes a single class (cellular phenotype) and test reconstruction loss for autoencoder and discriminator"
   ]
  },
  {
   "cell_type": "code",
   "execution_count": null,
   "metadata": {},
   "outputs": [],
   "source": []
  },
  {
   "cell_type": "code",
   "execution_count": null,
   "metadata": {},
   "outputs": [],
   "source": []
  }
 ],
 "metadata": {
  "accelerator": "GPU",
  "colab": {
   "collapsed_sections": [],
   "name": "Untitled5.ipynb",
   "provenance": [],
   "version": "0.3.2"
  },
  "kernelspec": {
   "display_name": "Python 3",
   "language": "python",
   "name": "python3"
  },
  "language_info": {
   "codemirror_mode": {
    "name": "ipython",
    "version": 3
   },
   "file_extension": ".py",
   "mimetype": "text/x-python",
   "name": "python",
   "nbconvert_exporter": "python",
   "pygments_lexer": "ipython3",
   "version": "3.7.3"
  }
 },
 "nbformat": 4,
 "nbformat_minor": 4
}
